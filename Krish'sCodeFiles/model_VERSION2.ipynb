{
 "cells": [
  {
   "cell_type": "code",
   "execution_count": 1,
   "id": "f15868db",
   "metadata": {
    "_cell_guid": "b1076dfc-b9ad-4769-8c92-a6c4dae69d19",
    "_uuid": "8f2839f25d086af736a60e9eeb907d3b93b6e0e5",
    "execution": {
     "iopub.execute_input": "2025-04-15T19:03:45.846063Z",
     "iopub.status.busy": "2025-04-15T19:03:45.845755Z",
     "iopub.status.idle": "2025-04-15T19:03:47.835530Z",
     "shell.execute_reply": "2025-04-15T19:03:47.834435Z"
    },
    "papermill": {
     "duration": 1.995335,
     "end_time": "2025-04-15T19:03:47.837063",
     "exception": false,
     "start_time": "2025-04-15T19:03:45.841728",
     "status": "completed"
    },
    "tags": []
   },
   "outputs": [
    {
     "name": "stdout",
     "output_type": "stream",
     "text": [
      "/kaggle/input/items-orders/Orders data.xlsx\n",
      "/kaggle/input/items-orders/Associated_Item_data.csv\n"
     ]
    }
   ],
   "source": [
    "# This Python 3 environment comes with many helpful analytics libraries installed\n",
    "# It is defined by the kaggle/python Docker image: https://github.com/kaggle/docker-python\n",
    "# For example, here's several helpful packages to load\n",
    "\n",
    "import numpy as np # linear algebra\n",
    "import pandas as pd # data processing, CSV file I/O (e.g. pd.read_csv)\n",
    "import matplotlib.pyplot as plt\n",
    "# Input data files are available in the read-only \"../input/\" directory\n",
    "# For example, running this (by clicking run or pressing Shift+Enter) will list all files under the input directory\n",
    "\n",
    "import os\n",
    "for dirname, _, filenames in os.walk('/kaggle/input'):\n",
    "    for filename in filenames:\n",
    "        print(os.path.join(dirname, filename))\n",
    "\n",
    "# You can write up to 20GB to the current directory (/kaggle/working/) that gets preserved as output when you create a version using \"Save & Run All\" \n",
    "# You can also write temporary files to /kaggle/temp/, but they won't be saved outside of the current session"
   ]
  },
  {
   "cell_type": "code",
   "execution_count": 2,
   "id": "c4f6dd54",
   "metadata": {
    "execution": {
     "iopub.execute_input": "2025-04-15T19:03:47.844498Z",
     "iopub.status.busy": "2025-04-15T19:03:47.844059Z",
     "iopub.status.idle": "2025-04-15T19:03:59.466854Z",
     "shell.execute_reply": "2025-04-15T19:03:59.465577Z"
    },
    "papermill": {
     "duration": 11.628435,
     "end_time": "2025-04-15T19:03:59.468687",
     "exception": false,
     "start_time": "2025-04-15T19:03:47.840252",
     "status": "completed"
    },
    "tags": []
   },
   "outputs": [],
   "source": [
    "dataset = pd.read_excel(r'/kaggle/input/items-orders/Orders data.xlsx')\n",
    "associated_dataset = pd.read_csv(r'/kaggle/input/items-orders/Associated_Item_data.csv')"
   ]
  },
  {
   "cell_type": "code",
   "execution_count": 3,
   "id": "7ed48adf",
   "metadata": {
    "execution": {
     "iopub.execute_input": "2025-04-15T19:03:59.475166Z",
     "iopub.status.busy": "2025-04-15T19:03:59.474881Z",
     "iopub.status.idle": "2025-04-15T19:03:59.511788Z",
     "shell.execute_reply": "2025-04-15T19:03:59.510948Z"
    },
    "papermill": {
     "duration": 0.041628,
     "end_time": "2025-04-15T19:03:59.513224",
     "exception": false,
     "start_time": "2025-04-15T19:03:59.471596",
     "status": "completed"
    },
    "tags": []
   },
   "outputs": [],
   "source": [
    "customer_behavior=pd.DataFrame()"
   ]
  },
  {
   "cell_type": "code",
   "execution_count": 4,
   "id": "f24401fb",
   "metadata": {
    "execution": {
     "iopub.execute_input": "2025-04-15T19:03:59.519806Z",
     "iopub.status.busy": "2025-04-15T19:03:59.518929Z",
     "iopub.status.idle": "2025-04-15T19:03:59.552064Z",
     "shell.execute_reply": "2025-04-15T19:03:59.551092Z"
    },
    "papermill": {
     "duration": 0.037841,
     "end_time": "2025-04-15T19:03:59.553624",
     "exception": false,
     "start_time": "2025-04-15T19:03:59.515783",
     "status": "completed"
    },
    "tags": []
   },
   "outputs": [
    {
     "data": {
      "text/html": [
       "<div>\n",
       "<style scoped>\n",
       "    .dataframe tbody tr th:only-of-type {\n",
       "        vertical-align: middle;\n",
       "    }\n",
       "\n",
       "    .dataframe tbody tr th {\n",
       "        vertical-align: top;\n",
       "    }\n",
       "\n",
       "    .dataframe thead th {\n",
       "        text-align: right;\n",
       "    }\n",
       "</style>\n",
       "<table border=\"1\" class=\"dataframe\">\n",
       "  <thead>\n",
       "    <tr style=\"text-align: right;\">\n",
       "      <th></th>\n",
       "      <th>customer_id</th>\n",
       "    </tr>\n",
       "  </thead>\n",
       "  <tbody>\n",
       "    <tr>\n",
       "      <th>0</th>\n",
       "      <td>5235</td>\n",
       "    </tr>\n",
       "    <tr>\n",
       "      <th>1</th>\n",
       "      <td>7622</td>\n",
       "    </tr>\n",
       "    <tr>\n",
       "      <th>2</th>\n",
       "      <td>3827</td>\n",
       "    </tr>\n",
       "    <tr>\n",
       "      <th>3</th>\n",
       "      <td>2223</td>\n",
       "    </tr>\n",
       "    <tr>\n",
       "      <th>4</th>\n",
       "      <td>6903</td>\n",
       "    </tr>\n",
       "    <tr>\n",
       "      <th>...</th>\n",
       "      <td>...</td>\n",
       "    </tr>\n",
       "    <tr>\n",
       "      <th>4156</th>\n",
       "      <td>1222</td>\n",
       "    </tr>\n",
       "    <tr>\n",
       "      <th>4157</th>\n",
       "      <td>7309</td>\n",
       "    </tr>\n",
       "    <tr>\n",
       "      <th>4158</th>\n",
       "      <td>7840</td>\n",
       "    </tr>\n",
       "    <tr>\n",
       "      <th>4159</th>\n",
       "      <td>2486</td>\n",
       "    </tr>\n",
       "    <tr>\n",
       "      <th>4160</th>\n",
       "      <td>7851</td>\n",
       "    </tr>\n",
       "  </tbody>\n",
       "</table>\n",
       "<p>4161 rows × 1 columns</p>\n",
       "</div>"
      ],
      "text/plain": [
       "      customer_id\n",
       "0            5235\n",
       "1            7622\n",
       "2            3827\n",
       "3            2223\n",
       "4            6903\n",
       "...           ...\n",
       "4156         1222\n",
       "4157         7309\n",
       "4158         7840\n",
       "4159         2486\n",
       "4160         7851\n",
       "\n",
       "[4161 rows x 1 columns]"
      ]
     },
     "execution_count": 4,
     "metadata": {},
     "output_type": "execute_result"
    }
   ],
   "source": [
    "customer_behavior['customer_id']=dataset['customer_id'].unique()\n",
    "customer_behavior"
   ]
  },
  {
   "cell_type": "code",
   "execution_count": 5,
   "id": "225559b2",
   "metadata": {
    "execution": {
     "iopub.execute_input": "2025-04-15T19:03:59.560307Z",
     "iopub.status.busy": "2025-04-15T19:03:59.559655Z",
     "iopub.status.idle": "2025-04-15T19:03:59.566819Z",
     "shell.execute_reply": "2025-04-15T19:03:59.566119Z"
    },
    "papermill": {
     "duration": 0.011902,
     "end_time": "2025-04-15T19:03:59.568186",
     "exception": false,
     "start_time": "2025-04-15T19:03:59.556284",
     "status": "completed"
    },
    "tags": []
   },
   "outputs": [],
   "source": [
    "df=dataset.copy()"
   ]
  },
  {
   "cell_type": "code",
   "execution_count": 6,
   "id": "86d90480",
   "metadata": {
    "execution": {
     "iopub.execute_input": "2025-04-15T19:03:59.574448Z",
     "iopub.status.busy": "2025-04-15T19:03:59.574169Z",
     "iopub.status.idle": "2025-04-15T19:04:15.685955Z",
     "shell.execute_reply": "2025-04-15T19:04:15.685073Z"
    },
    "papermill": {
     "duration": 16.116689,
     "end_time": "2025-04-15T19:04:15.687622",
     "exception": false,
     "start_time": "2025-04-15T19:03:59.570933",
     "status": "completed"
    },
    "tags": []
   },
   "outputs": [],
   "source": [
    "for idx in customer_behavior['customer_id']:\n",
    "    customer_data = df[df['customer_id'] == idx]\n",
    "    \n",
    "    total_orders = customer_data['order_id'].nunique()\n",
    "    total_order_days = customer_data['order_date'].nunique()\n",
    "    \n",
    "    average_orders_placed = total_orders / total_order_days if total_order_days > 0 else 0\n",
    "    total_order_value = customer_data['net_order_amount'].sum()\n",
    "    average_order_value = total_order_value / total_orders if total_orders > 0 else 0\n",
    "\n",
    "    # Calculate average order gap days\n",
    "    order_dates = customer_data['order_date'].sort_values()\n",
    "    order_gaps = order_dates.diff().dt.days.dropna()\n",
    "    avg_order_gap_days = order_gaps.mean() if not order_gaps.empty else 0\n",
    "\n",
    "    # Order consistency score (1 / std of gaps)\n",
    "    order_consistency_score = 1 / (order_gaps.std() + 1e-5) if len(order_gaps) > 1 else 0\n",
    "\n",
    "    # Assign to customer_behavior DataFrame\n",
    "    customer_behavior.loc[customer_behavior['customer_id'] == idx, 'Total Orders'] = total_orders\n",
    "    customer_behavior.loc[customer_behavior['customer_id'] == idx, 'Total Order Days'] = total_order_days\n",
    "    customer_behavior.loc[customer_behavior['customer_id'] == idx, 'Average Orders Placed'] = average_orders_placed\n",
    "    customer_behavior.loc[customer_behavior['customer_id'] == idx, 'Total Order Value'] = total_order_value\n",
    "    customer_behavior.loc[customer_behavior['customer_id'] == idx, 'Average Order Value'] = average_order_value\n",
    "    customer_behavior.loc[customer_behavior['customer_id'] == idx, 'Average Order Gap Days'] = avg_order_gap_days\n",
    "    customer_behavior.loc[customer_behavior['customer_id'] == idx, 'Order Consistency Score'] = order_consistency_score\n"
   ]
  },
  {
   "cell_type": "code",
   "execution_count": 7,
   "id": "1288a287",
   "metadata": {
    "execution": {
     "iopub.execute_input": "2025-04-15T19:04:15.695564Z",
     "iopub.status.busy": "2025-04-15T19:04:15.695234Z",
     "iopub.status.idle": "2025-04-15T19:04:15.739877Z",
     "shell.execute_reply": "2025-04-15T19:04:15.738858Z"
    },
    "papermill": {
     "duration": 0.051157,
     "end_time": "2025-04-15T19:04:15.741694",
     "exception": false,
     "start_time": "2025-04-15T19:04:15.690537",
     "status": "completed"
    },
    "tags": []
   },
   "outputs": [],
   "source": [
    "customer_behavior.to_csv(\"Customer_Behavior_Data.csv\",index=False)\n"
   ]
  },
  {
   "cell_type": "code",
   "execution_count": 8,
   "id": "8066aeb4",
   "metadata": {
    "execution": {
     "iopub.execute_input": "2025-04-15T19:04:15.748042Z",
     "iopub.status.busy": "2025-04-15T19:04:15.747767Z",
     "iopub.status.idle": "2025-04-15T19:04:15.763712Z",
     "shell.execute_reply": "2025-04-15T19:04:15.762829Z"
    },
    "papermill": {
     "duration": 0.020764,
     "end_time": "2025-04-15T19:04:15.765116",
     "exception": false,
     "start_time": "2025-04-15T19:04:15.744352",
     "status": "completed"
    },
    "tags": []
   },
   "outputs": [
    {
     "data": {
      "text/html": [
       "<div>\n",
       "<style scoped>\n",
       "    .dataframe tbody tr th:only-of-type {\n",
       "        vertical-align: middle;\n",
       "    }\n",
       "\n",
       "    .dataframe tbody tr th {\n",
       "        vertical-align: top;\n",
       "    }\n",
       "\n",
       "    .dataframe thead th {\n",
       "        text-align: right;\n",
       "    }\n",
       "</style>\n",
       "<table border=\"1\" class=\"dataframe\">\n",
       "  <thead>\n",
       "    <tr style=\"text-align: right;\">\n",
       "      <th></th>\n",
       "      <th>customer_id</th>\n",
       "      <th>Total Orders</th>\n",
       "      <th>Total Order Days</th>\n",
       "      <th>Average Orders Placed</th>\n",
       "      <th>Total Order Value</th>\n",
       "      <th>Average Order Value</th>\n",
       "      <th>Average Order Gap Days</th>\n",
       "      <th>Order Consistency Score</th>\n",
       "    </tr>\n",
       "  </thead>\n",
       "  <tbody>\n",
       "    <tr>\n",
       "      <th>0</th>\n",
       "      <td>5235</td>\n",
       "      <td>106.0</td>\n",
       "      <td>90.0</td>\n",
       "      <td>1.177778</td>\n",
       "      <td>1052898.0</td>\n",
       "      <td>9933.000000</td>\n",
       "      <td>1.790476</td>\n",
       "      <td>0.704750</td>\n",
       "    </tr>\n",
       "    <tr>\n",
       "      <th>1</th>\n",
       "      <td>7622</td>\n",
       "      <td>14.0</td>\n",
       "      <td>12.0</td>\n",
       "      <td>1.166667</td>\n",
       "      <td>48627.0</td>\n",
       "      <td>3473.357143</td>\n",
       "      <td>4.923077</td>\n",
       "      <td>0.197731</td>\n",
       "    </tr>\n",
       "    <tr>\n",
       "      <th>2</th>\n",
       "      <td>3827</td>\n",
       "      <td>8.0</td>\n",
       "      <td>8.0</td>\n",
       "      <td>1.000000</td>\n",
       "      <td>414750.0</td>\n",
       "      <td>51843.750000</td>\n",
       "      <td>18.714286</td>\n",
       "      <td>0.093425</td>\n",
       "    </tr>\n",
       "    <tr>\n",
       "      <th>3</th>\n",
       "      <td>2223</td>\n",
       "      <td>231.0</td>\n",
       "      <td>142.0</td>\n",
       "      <td>1.626761</td>\n",
       "      <td>1345798.0</td>\n",
       "      <td>5825.965368</td>\n",
       "      <td>0.830435</td>\n",
       "      <td>1.043287</td>\n",
       "    </tr>\n",
       "    <tr>\n",
       "      <th>4</th>\n",
       "      <td>6903</td>\n",
       "      <td>52.0</td>\n",
       "      <td>49.0</td>\n",
       "      <td>1.061224</td>\n",
       "      <td>89588.0</td>\n",
       "      <td>1722.846154</td>\n",
       "      <td>2.392157</td>\n",
       "      <td>0.492475</td>\n",
       "    </tr>\n",
       "    <tr>\n",
       "      <th>...</th>\n",
       "      <td>...</td>\n",
       "      <td>...</td>\n",
       "      <td>...</td>\n",
       "      <td>...</td>\n",
       "      <td>...</td>\n",
       "      <td>...</td>\n",
       "      <td>...</td>\n",
       "      <td>...</td>\n",
       "    </tr>\n",
       "    <tr>\n",
       "      <th>4156</th>\n",
       "      <td>1222</td>\n",
       "      <td>1.0</td>\n",
       "      <td>1.0</td>\n",
       "      <td>1.000000</td>\n",
       "      <td>41850.0</td>\n",
       "      <td>41850.000000</td>\n",
       "      <td>0.000000</td>\n",
       "      <td>0.000000</td>\n",
       "    </tr>\n",
       "    <tr>\n",
       "      <th>4157</th>\n",
       "      <td>7309</td>\n",
       "      <td>1.0</td>\n",
       "      <td>1.0</td>\n",
       "      <td>1.000000</td>\n",
       "      <td>7350.0</td>\n",
       "      <td>7350.000000</td>\n",
       "      <td>0.000000</td>\n",
       "      <td>0.000000</td>\n",
       "    </tr>\n",
       "    <tr>\n",
       "      <th>4158</th>\n",
       "      <td>7840</td>\n",
       "      <td>1.0</td>\n",
       "      <td>1.0</td>\n",
       "      <td>1.000000</td>\n",
       "      <td>16510.0</td>\n",
       "      <td>16510.000000</td>\n",
       "      <td>0.000000</td>\n",
       "      <td>0.000000</td>\n",
       "    </tr>\n",
       "    <tr>\n",
       "      <th>4159</th>\n",
       "      <td>2486</td>\n",
       "      <td>1.0</td>\n",
       "      <td>1.0</td>\n",
       "      <td>1.000000</td>\n",
       "      <td>2397.0</td>\n",
       "      <td>2397.000000</td>\n",
       "      <td>0.000000</td>\n",
       "      <td>0.000000</td>\n",
       "    </tr>\n",
       "    <tr>\n",
       "      <th>4160</th>\n",
       "      <td>7851</td>\n",
       "      <td>1.0</td>\n",
       "      <td>1.0</td>\n",
       "      <td>1.000000</td>\n",
       "      <td>2720.0</td>\n",
       "      <td>2720.000000</td>\n",
       "      <td>0.000000</td>\n",
       "      <td>0.000000</td>\n",
       "    </tr>\n",
       "  </tbody>\n",
       "</table>\n",
       "<p>4161 rows × 8 columns</p>\n",
       "</div>"
      ],
      "text/plain": [
       "      customer_id  Total Orders  Total Order Days  Average Orders Placed  \\\n",
       "0            5235         106.0              90.0               1.177778   \n",
       "1            7622          14.0              12.0               1.166667   \n",
       "2            3827           8.0               8.0               1.000000   \n",
       "3            2223         231.0             142.0               1.626761   \n",
       "4            6903          52.0              49.0               1.061224   \n",
       "...           ...           ...               ...                    ...   \n",
       "4156         1222           1.0               1.0               1.000000   \n",
       "4157         7309           1.0               1.0               1.000000   \n",
       "4158         7840           1.0               1.0               1.000000   \n",
       "4159         2486           1.0               1.0               1.000000   \n",
       "4160         7851           1.0               1.0               1.000000   \n",
       "\n",
       "      Total Order Value  Average Order Value  Average Order Gap Days  \\\n",
       "0             1052898.0          9933.000000                1.790476   \n",
       "1               48627.0          3473.357143                4.923077   \n",
       "2              414750.0         51843.750000               18.714286   \n",
       "3             1345798.0          5825.965368                0.830435   \n",
       "4               89588.0          1722.846154                2.392157   \n",
       "...                 ...                  ...                     ...   \n",
       "4156            41850.0         41850.000000                0.000000   \n",
       "4157             7350.0          7350.000000                0.000000   \n",
       "4158            16510.0         16510.000000                0.000000   \n",
       "4159             2397.0          2397.000000                0.000000   \n",
       "4160             2720.0          2720.000000                0.000000   \n",
       "\n",
       "      Order Consistency Score  \n",
       "0                    0.704750  \n",
       "1                    0.197731  \n",
       "2                    0.093425  \n",
       "3                    1.043287  \n",
       "4                    0.492475  \n",
       "...                       ...  \n",
       "4156                 0.000000  \n",
       "4157                 0.000000  \n",
       "4158                 0.000000  \n",
       "4159                 0.000000  \n",
       "4160                 0.000000  \n",
       "\n",
       "[4161 rows x 8 columns]"
      ]
     },
     "execution_count": 8,
     "metadata": {},
     "output_type": "execute_result"
    }
   ],
   "source": [
    "customer_behavior"
   ]
  },
  {
   "cell_type": "code",
   "execution_count": null,
   "id": "86f0ec5c",
   "metadata": {
    "papermill": {
     "duration": 0.002553,
     "end_time": "2025-04-15T19:04:15.770707",
     "exception": false,
     "start_time": "2025-04-15T19:04:15.768154",
     "status": "completed"
    },
    "tags": []
   },
   "outputs": [],
   "source": []
  }
 ],
 "metadata": {
  "kaggle": {
   "accelerator": "none",
   "dataSources": [
    {
     "datasetId": 7141795,
     "sourceId": 11402345,
     "sourceType": "datasetVersion"
    },
    {
     "datasetId": 7141798,
     "sourceId": 11402349,
     "sourceType": "datasetVersion"
    }
   ],
   "dockerImageVersionId": 31012,
   "isGpuEnabled": false,
   "isInternetEnabled": true,
   "language": "python",
   "sourceType": "notebook"
  },
  "kernelspec": {
   "display_name": "Python 3",
   "language": "python",
   "name": "python3"
  },
  "language_info": {
   "codemirror_mode": {
    "name": "ipython",
    "version": 3
   },
   "file_extension": ".py",
   "mimetype": "text/x-python",
   "name": "python",
   "nbconvert_exporter": "python",
   "pygments_lexer": "ipython3",
   "version": "3.11.11"
  },
  "papermill": {
   "default_parameters": {},
   "duration": 35.493114,
   "end_time": "2025-04-15T19:04:16.393699",
   "environment_variables": {},
   "exception": null,
   "input_path": "__notebook__.ipynb",
   "output_path": "__notebook__.ipynb",
   "parameters": {},
   "start_time": "2025-04-15T19:03:40.900585",
   "version": "2.6.0"
  }
 },
 "nbformat": 4,
 "nbformat_minor": 5
}
