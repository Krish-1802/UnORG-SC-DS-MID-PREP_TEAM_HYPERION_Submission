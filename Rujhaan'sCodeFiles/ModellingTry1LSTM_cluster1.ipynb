{
 "cells": [
  {
   "cell_type": "code",
   "execution_count": 1,
   "id": "33f9f52f",
   "metadata": {
    "_cell_guid": "b1076dfc-b9ad-4769-8c92-a6c4dae69d19",
    "_uuid": "8f2839f25d086af736a60e9eeb907d3b93b6e0e5",
    "execution": {
     "iopub.execute_input": "2025-04-17T19:06:39.183044Z",
     "iopub.status.busy": "2025-04-17T19:06:39.182707Z",
     "iopub.status.idle": "2025-04-17T19:06:57.061531Z",
     "shell.execute_reply": "2025-04-17T19:06:57.060437Z"
    },
    "papermill": {
     "duration": 17.886699,
     "end_time": "2025-04-17T19:06:57.063069",
     "exception": false,
     "start_time": "2025-04-17T19:06:39.176370",
     "status": "completed"
    },
    "tags": []
   },
   "outputs": [
    {
     "name": "stderr",
     "output_type": "stream",
     "text": [
      "2025-04-17 19:06:44.340266: E external/local_xla/xla/stream_executor/cuda/cuda_fft.cc:477] Unable to register cuFFT factory: Attempting to register factory for plugin cuFFT when one has already been registered\n",
      "WARNING: All log messages before absl::InitializeLog() is called are written to STDERR\n",
      "E0000 00:00:1744916804.578335      19 cuda_dnn.cc:8310] Unable to register cuDNN factory: Attempting to register factory for plugin cuDNN when one has already been registered\n",
      "E0000 00:00:1744916804.653305      19 cuda_blas.cc:1418] Unable to register cuBLAS factory: Attempting to register factory for plugin cuBLAS when one has already been registered\n"
     ]
    },
    {
     "name": "stdout",
     "output_type": "stream",
     "text": [
      "/kaggle/input/customer-behavior-dataset/Customer_Behavior_Data.csv\n",
      "/kaggle/input/ps-dataset/order_data_last_six_month.xlsx - Worksheet.csv\n",
      "/kaggle/input/ps-dataset/associated_order_item_data_last_six_month.xlsx - Worksheet.csv\n"
     ]
    }
   ],
   "source": [
    "# This Python 3 environment comes with many helpful analytics libraries installed\n",
    "# It is defined by the kaggle/python Docker image: https://github.com/kaggle/docker-python\n",
    "# For example, here's several helpful packages to load\n",
    "\n",
    "import numpy as np # linear algebra\n",
    "import pandas as pd # data processing, CSV file I/O (e.g. pd.read_csv)\n",
    "from sklearn.preprocessing import OneHotEncoder\n",
    "from sklearn.metrics import accuracy_score,recall_score,f1_score,precision_score\n",
    "from tensorflow.keras.models import clone_model\n",
    "from tqdm import tqdm\n",
    "import matplotlib.pyplot as plt\n",
    "# Input data files are available in the read-only \"../input/\" directory\n",
    "# For example, running this (by clicking run or pressing Shift+Enter) will list all files under the input directory\n",
    "from sklearn.model_selection import train_test_split\n",
    "import os\n",
    "for dirname, _, filenames in os.walk('/kaggle/input'):\n",
    "    for filename in filenames:\n",
    "        print(os.path.join(dirname, filename))\n",
    "from tensorflow.keras.models import Sequential\n",
    "from tensorflow.keras.layers import LSTM, Dense, Dropout\n",
    "from tensorflow.keras.callbacks import EarlyStopping, ModelCheckpoint\n",
    "# You can write up to 20GB to the current directory (/kaggle/working/) that gets preserved as output when you create a version using \"Save & Run All\" \n",
    "# You can also write temporary files to /kaggle/temp/, but they won't be saved outside of the current session"
   ]
  },
  {
   "cell_type": "code",
   "execution_count": 2,
   "id": "65a35a46",
   "metadata": {
    "execution": {
     "iopub.execute_input": "2025-04-17T19:06:57.073944Z",
     "iopub.status.busy": "2025-04-17T19:06:57.072910Z",
     "iopub.status.idle": "2025-04-17T19:06:57.080412Z",
     "shell.execute_reply": "2025-04-17T19:06:57.079705Z"
    },
    "papermill": {
     "duration": 0.013701,
     "end_time": "2025-04-17T19:06:57.081456",
     "exception": false,
     "start_time": "2025-04-17T19:06:57.067755",
     "status": "completed"
    },
    "tags": []
   },
   "outputs": [],
   "source": [
    "def piechart(series):\n",
    "    \"\"\"\n",
    "    Automatically plots a pie chart from a Pandas Series.\n",
    "    - Uses the series name as the chart title.\n",
    "    - Displays value counts as percentages.\n",
    "    \"\"\"\n",
    "    if not isinstance(series, pd.Series):\n",
    "        raise TypeError(\"Input must be a pandas Series\")\n",
    "\n",
    "    counts = series.value_counts(dropna=False)\n",
    "    labels = counts.index.astype(str)\n",
    "    \n",
    "    # Auto-title using series name or fallback\n",
    "    title = series.name if series.name else \"Pie Chart\"\n",
    "\n",
    "    # Plot\n",
    "    plt.figure(figsize=(6, 6))\n",
    "    plt.pie(counts, labels=labels, autopct='%1.1f%%', startangle=90, counterclock=False)\n",
    "    plt.title(title)\n",
    "    plt.axis('equal')  # Equal aspect ratio ensures the pie is circular\n",
    "    plt.show()"
   ]
  },
  {
   "cell_type": "code",
   "execution_count": 3,
   "id": "7254fb7b",
   "metadata": {
    "execution": {
     "iopub.execute_input": "2025-04-17T19:06:57.090817Z",
     "iopub.status.busy": "2025-04-17T19:06:57.090327Z",
     "iopub.status.idle": "2025-04-17T19:06:57.116530Z",
     "shell.execute_reply": "2025-04-17T19:06:57.115633Z"
    },
    "papermill": {
     "duration": 0.032481,
     "end_time": "2025-04-17T19:06:57.118107",
     "exception": false,
     "start_time": "2025-04-17T19:06:57.085626",
     "status": "completed"
    },
    "tags": []
   },
   "outputs": [],
   "source": [
    "beh_data=pd.read_csv(\"/kaggle/input/customer-behavior-dataset/Customer_Behavior_Data.csv\")"
   ]
  },
  {
   "cell_type": "code",
   "execution_count": 4,
   "id": "e2374cec",
   "metadata": {
    "execution": {
     "iopub.execute_input": "2025-04-17T19:06:57.133765Z",
     "iopub.status.busy": "2025-04-17T19:06:57.133506Z",
     "iopub.status.idle": "2025-04-17T19:06:57.147160Z",
     "shell.execute_reply": "2025-04-17T19:06:57.146338Z"
    },
    "papermill": {
     "duration": 0.02274,
     "end_time": "2025-04-17T19:06:57.148362",
     "exception": false,
     "start_time": "2025-04-17T19:06:57.125622",
     "status": "completed"
    },
    "tags": []
   },
   "outputs": [],
   "source": [
    "zero_people=beh_data[beh_data['Total Orders']<=4]['customer_id']"
   ]
  },
  {
   "cell_type": "code",
   "execution_count": 5,
   "id": "eb2064d3",
   "metadata": {
    "execution": {
     "iopub.execute_input": "2025-04-17T19:06:57.157521Z",
     "iopub.status.busy": "2025-04-17T19:06:57.157268Z",
     "iopub.status.idle": "2025-04-17T19:06:57.163613Z",
     "shell.execute_reply": "2025-04-17T19:06:57.162728Z"
    },
    "papermill": {
     "duration": 0.01272,
     "end_time": "2025-04-17T19:06:57.165244",
     "exception": false,
     "start_time": "2025-04-17T19:06:57.152524",
     "status": "completed"
    },
    "tags": []
   },
   "outputs": [],
   "source": [
    "cluster_1_people=beh_data[((beh_data['Total Orders']<=25) & (beh_data['Total Orders']>4) & (beh_data['Average Order Gap Days']>=14))]['customer_id']"
   ]
  },
  {
   "cell_type": "code",
   "execution_count": 6,
   "id": "2b04e59b",
   "metadata": {
    "execution": {
     "iopub.execute_input": "2025-04-17T19:06:57.180763Z",
     "iopub.status.busy": "2025-04-17T19:06:57.180549Z",
     "iopub.status.idle": "2025-04-17T19:06:57.189218Z",
     "shell.execute_reply": "2025-04-17T19:06:57.188328Z"
    },
    "papermill": {
     "duration": 0.018039,
     "end_time": "2025-04-17T19:06:57.190760",
     "exception": false,
     "start_time": "2025-04-17T19:06:57.172721",
     "status": "completed"
    },
    "tags": []
   },
   "outputs": [],
   "source": [
    "cluster_2_people = beh_data['customer_id'][~beh_data['customer_id'].isin(cluster_1_people) & ~beh_data['customer_id'].isin(zero_people)]"
   ]
  },
  {
   "cell_type": "code",
   "execution_count": 7,
   "id": "a3bd7a49",
   "metadata": {
    "execution": {
     "iopub.execute_input": "2025-04-17T19:06:57.206240Z",
     "iopub.status.busy": "2025-04-17T19:06:57.205433Z",
     "iopub.status.idle": "2025-04-17T19:06:57.500094Z",
     "shell.execute_reply": "2025-04-17T19:06:57.499096Z"
    },
    "papermill": {
     "duration": 0.303486,
     "end_time": "2025-04-17T19:06:57.501577",
     "exception": false,
     "start_time": "2025-04-17T19:06:57.198091",
     "status": "completed"
    },
    "tags": []
   },
   "outputs": [],
   "source": [
    "dataset=pd.read_csv(\"/kaggle/input/ps-dataset/order_data_last_six_month.xlsx - Worksheet.csv\")"
   ]
  },
  {
   "cell_type": "code",
   "execution_count": 8,
   "id": "9018fa29",
   "metadata": {
    "execution": {
     "iopub.execute_input": "2025-04-17T19:06:57.513233Z",
     "iopub.status.busy": "2025-04-17T19:06:57.512972Z",
     "iopub.status.idle": "2025-04-17T19:06:57.520597Z",
     "shell.execute_reply": "2025-04-17T19:06:57.520087Z"
    },
    "papermill": {
     "duration": 0.01404,
     "end_time": "2025-04-17T19:06:57.521736",
     "exception": false,
     "start_time": "2025-04-17T19:06:57.507696",
     "status": "completed"
    },
    "tags": []
   },
   "outputs": [],
   "source": [
    "train_data=dataset[dataset['customer_id'].isin(cluster_1_people)]"
   ]
  },
  {
   "cell_type": "code",
   "execution_count": 9,
   "id": "2b3a3429",
   "metadata": {
    "execution": {
     "iopub.execute_input": "2025-04-17T19:06:57.530368Z",
     "iopub.status.busy": "2025-04-17T19:06:57.530158Z",
     "iopub.status.idle": "2025-04-17T19:06:57.553171Z",
     "shell.execute_reply": "2025-04-17T19:06:57.552380Z"
    },
    "papermill": {
     "duration": 0.028842,
     "end_time": "2025-04-17T19:06:57.554395",
     "exception": false,
     "start_time": "2025-04-17T19:06:57.525553",
     "status": "completed"
    },
    "tags": []
   },
   "outputs": [
    {
     "data": {
      "text/html": [
       "<div>\n",
       "<style scoped>\n",
       "    .dataframe tbody tr th:only-of-type {\n",
       "        vertical-align: middle;\n",
       "    }\n",
       "\n",
       "    .dataframe tbody tr th {\n",
       "        vertical-align: top;\n",
       "    }\n",
       "\n",
       "    .dataframe thead th {\n",
       "        text-align: right;\n",
       "    }\n",
       "</style>\n",
       "<table border=\"1\" class=\"dataframe\">\n",
       "  <thead>\n",
       "    <tr style=\"text-align: right;\">\n",
       "      <th></th>\n",
       "      <th>order_date</th>\n",
       "      <th>order_id</th>\n",
       "      <th>order_number</th>\n",
       "      <th>customer_id</th>\n",
       "      <th>customer_name</th>\n",
       "      <th>poc_name</th>\n",
       "      <th>poc_id</th>\n",
       "      <th>amount</th>\n",
       "      <th>discount</th>\n",
       "      <th>net_order_amount</th>\n",
       "      <th>profit</th>\n",
       "      <th>order_status</th>\n",
       "      <th>warehouse_name</th>\n",
       "      <th>warehouse_id</th>\n",
       "    </tr>\n",
       "  </thead>\n",
       "  <tbody>\n",
       "    <tr>\n",
       "      <th>2</th>\n",
       "      <td>12/02/2025</td>\n",
       "      <td>116427</td>\n",
       "      <td>SO/24-25/96511</td>\n",
       "      <td>3827</td>\n",
       "      <td>Shama chicken corner beta</td>\n",
       "      <td>Yash Pandey</td>\n",
       "      <td>51</td>\n",
       "      <td>62500.0</td>\n",
       "      <td>5000.0</td>\n",
       "      <td>57500.0</td>\n",
       "      <td>-650.0</td>\n",
       "      <td>CLOSED</td>\n",
       "      <td>Noida</td>\n",
       "      <td>3</td>\n",
       "    </tr>\n",
       "    <tr>\n",
       "      <th>12</th>\n",
       "      <td>25/01/2025</td>\n",
       "      <td>108509</td>\n",
       "      <td>SO/24-25/89102</td>\n",
       "      <td>2528</td>\n",
       "      <td>Madina Hotel</td>\n",
       "      <td>MAYANK SHEKHAR</td>\n",
       "      <td>23</td>\n",
       "      <td>29120.0</td>\n",
       "      <td>1650.0</td>\n",
       "      <td>27470.0</td>\n",
       "      <td>-376.0</td>\n",
       "      <td>CLOSED</td>\n",
       "      <td>Telibagh</td>\n",
       "      <td>2</td>\n",
       "    </tr>\n",
       "    <tr>\n",
       "      <th>22</th>\n",
       "      <td>17/01/2025</td>\n",
       "      <td>104852</td>\n",
       "      <td>SO/24-25/85613</td>\n",
       "      <td>4308</td>\n",
       "      <td>Narayan Bhog</td>\n",
       "      <td>MAYANK SHEKHAR</td>\n",
       "      <td>23</td>\n",
       "      <td>2500.0</td>\n",
       "      <td>220.0</td>\n",
       "      <td>2280.0</td>\n",
       "      <td>-20.0</td>\n",
       "      <td>CLOSED</td>\n",
       "      <td>Telibagh</td>\n",
       "      <td>2</td>\n",
       "    </tr>\n",
       "    <tr>\n",
       "      <th>37</th>\n",
       "      <td>18/02/2025</td>\n",
       "      <td>119155</td>\n",
       "      <td>SO/24-25/99068</td>\n",
       "      <td>6080</td>\n",
       "      <td>Gupta General Store</td>\n",
       "      <td>Ashish Bajpai</td>\n",
       "      <td>5397</td>\n",
       "      <td>9000.0</td>\n",
       "      <td>1050.0</td>\n",
       "      <td>7950.0</td>\n",
       "      <td>-150.0</td>\n",
       "      <td>CLOSED</td>\n",
       "      <td>Telibagh</td>\n",
       "      <td>2</td>\n",
       "    </tr>\n",
       "    <tr>\n",
       "      <th>40</th>\n",
       "      <td>19/03/2025</td>\n",
       "      <td>130410</td>\n",
       "      <td>SO/24-25/109662</td>\n",
       "      <td>1533</td>\n",
       "      <td>Turkish Delight</td>\n",
       "      <td>Naveen Verma</td>\n",
       "      <td>40</td>\n",
       "      <td>4240.0</td>\n",
       "      <td>280.0</td>\n",
       "      <td>3960.0</td>\n",
       "      <td>-80.0</td>\n",
       "      <td>CLOSED</td>\n",
       "      <td>Gomti Nagar</td>\n",
       "      <td>1</td>\n",
       "    </tr>\n",
       "  </tbody>\n",
       "</table>\n",
       "</div>"
      ],
      "text/plain": [
       "    order_date  order_id     order_number  customer_id  \\\n",
       "2   12/02/2025    116427   SO/24-25/96511         3827   \n",
       "12  25/01/2025    108509   SO/24-25/89102         2528   \n",
       "22  17/01/2025    104852   SO/24-25/85613         4308   \n",
       "37  18/02/2025    119155   SO/24-25/99068         6080   \n",
       "40  19/03/2025    130410  SO/24-25/109662         1533   \n",
       "\n",
       "                 customer_name        poc_name  poc_id   amount  discount  \\\n",
       "2   Shama chicken corner beta      Yash Pandey      51  62500.0    5000.0   \n",
       "12                Madina Hotel  MAYANK SHEKHAR      23  29120.0    1650.0   \n",
       "22               Narayan Bhog   MAYANK SHEKHAR      23   2500.0     220.0   \n",
       "37         Gupta General Store   Ashish Bajpai    5397   9000.0    1050.0   \n",
       "40            Turkish Delight     Naveen Verma      40   4240.0     280.0   \n",
       "\n",
       "    net_order_amount  profit order_status warehouse_name  warehouse_id  \n",
       "2            57500.0  -650.0       CLOSED          Noida             3  \n",
       "12           27470.0  -376.0       CLOSED       Telibagh             2  \n",
       "22            2280.0   -20.0       CLOSED       Telibagh             2  \n",
       "37            7950.0  -150.0       CLOSED       Telibagh             2  \n",
       "40            3960.0   -80.0       CLOSED    Gomti Nagar             1  "
      ]
     },
     "execution_count": 9,
     "metadata": {},
     "output_type": "execute_result"
    }
   ],
   "source": [
    "train_data.head()"
   ]
  },
  {
   "cell_type": "code",
   "execution_count": 10,
   "id": "31cb6fa8",
   "metadata": {
    "execution": {
     "iopub.execute_input": "2025-04-17T19:06:57.563484Z",
     "iopub.status.busy": "2025-04-17T19:06:57.563261Z",
     "iopub.status.idle": "2025-04-17T19:06:57.570574Z",
     "shell.execute_reply": "2025-04-17T19:06:57.569695Z"
    },
    "papermill": {
     "duration": 0.013141,
     "end_time": "2025-04-17T19:06:57.571964",
     "exception": false,
     "start_time": "2025-04-17T19:06:57.558823",
     "status": "completed"
    },
    "tags": []
   },
   "outputs": [
    {
     "name": "stderr",
     "output_type": "stream",
     "text": [
      "/tmp/ipykernel_19/404819675.py:1: SettingWithCopyWarning: \n",
      "A value is trying to be set on a copy of a slice from a DataFrame\n",
      "\n",
      "See the caveats in the documentation: https://pandas.pydata.org/pandas-docs/stable/user_guide/indexing.html#returning-a-view-versus-a-copy\n",
      "  train_data.drop(['order_number','customer_name','poc_name','poc_id','amount','profit','order_status','warehouse_id'],axis=1,inplace=True)\n"
     ]
    }
   ],
   "source": [
    "train_data.drop(['order_number','customer_name','poc_name','poc_id','amount','profit','order_status','warehouse_id'],axis=1,inplace=True)"
   ]
  },
  {
   "cell_type": "code",
   "execution_count": 11,
   "id": "0641b594",
   "metadata": {
    "execution": {
     "iopub.execute_input": "2025-04-17T19:06:57.581396Z",
     "iopub.status.busy": "2025-04-17T19:06:57.581219Z",
     "iopub.status.idle": "2025-04-17T19:06:57.626071Z",
     "shell.execute_reply": "2025-04-17T19:06:57.625233Z"
    },
    "papermill": {
     "duration": 0.050775,
     "end_time": "2025-04-17T19:06:57.627276",
     "exception": false,
     "start_time": "2025-04-17T19:06:57.576501",
     "status": "completed"
    },
    "tags": []
   },
   "outputs": [
    {
     "data": {
      "text/html": [
       "<div>\n",
       "<style scoped>\n",
       "    .dataframe tbody tr th:only-of-type {\n",
       "        vertical-align: middle;\n",
       "    }\n",
       "\n",
       "    .dataframe tbody tr th {\n",
       "        vertical-align: top;\n",
       "    }\n",
       "\n",
       "    .dataframe thead th {\n",
       "        text-align: right;\n",
       "    }\n",
       "</style>\n",
       "<table border=\"1\" class=\"dataframe\">\n",
       "  <thead>\n",
       "    <tr style=\"text-align: right;\">\n",
       "      <th></th>\n",
       "      <th>customer_id</th>\n",
       "      <th>order_date</th>\n",
       "      <th>daily_order_count</th>\n",
       "      <th>discount</th>\n",
       "      <th>net_order_amount</th>\n",
       "      <th>warehouse_name</th>\n",
       "    </tr>\n",
       "  </thead>\n",
       "  <tbody>\n",
       "    <tr>\n",
       "      <th>0</th>\n",
       "      <td>12</td>\n",
       "      <td>2024-10-01</td>\n",
       "      <td>1</td>\n",
       "      <td>200.0</td>\n",
       "      <td>1660.0</td>\n",
       "      <td>Gomti Nagar</td>\n",
       "    </tr>\n",
       "    <tr>\n",
       "      <th>1</th>\n",
       "      <td>12</td>\n",
       "      <td>2024-11-30</td>\n",
       "      <td>1</td>\n",
       "      <td>140.0</td>\n",
       "      <td>1650.0</td>\n",
       "      <td>Gomti Nagar</td>\n",
       "    </tr>\n",
       "    <tr>\n",
       "      <th>2</th>\n",
       "      <td>12</td>\n",
       "      <td>2024-12-16</td>\n",
       "      <td>1</td>\n",
       "      <td>110.0</td>\n",
       "      <td>1680.0</td>\n",
       "      <td>Gomti Nagar</td>\n",
       "    </tr>\n",
       "    <tr>\n",
       "      <th>3</th>\n",
       "      <td>12</td>\n",
       "      <td>2025-01-04</td>\n",
       "      <td>1</td>\n",
       "      <td>100.0</td>\n",
       "      <td>1690.0</td>\n",
       "      <td>Gomti Nagar</td>\n",
       "    </tr>\n",
       "    <tr>\n",
       "      <th>4</th>\n",
       "      <td>12</td>\n",
       "      <td>2025-01-12</td>\n",
       "      <td>1</td>\n",
       "      <td>70.0</td>\n",
       "      <td>1720.0</td>\n",
       "      <td>Gomti Nagar</td>\n",
       "    </tr>\n",
       "    <tr>\n",
       "      <th>...</th>\n",
       "      <td>...</td>\n",
       "      <td>...</td>\n",
       "      <td>...</td>\n",
       "      <td>...</td>\n",
       "      <td>...</td>\n",
       "      <td>...</td>\n",
       "    </tr>\n",
       "    <tr>\n",
       "      <th>6486</th>\n",
       "      <td>8671</td>\n",
       "      <td>2025-02-06</td>\n",
       "      <td>1</td>\n",
       "      <td>2600.0</td>\n",
       "      <td>30900.0</td>\n",
       "      <td>Gomti Nagar</td>\n",
       "    </tr>\n",
       "    <tr>\n",
       "      <th>6487</th>\n",
       "      <td>8671</td>\n",
       "      <td>2025-02-23</td>\n",
       "      <td>1</td>\n",
       "      <td>3700.0</td>\n",
       "      <td>41500.0</td>\n",
       "      <td>Gomti Nagar</td>\n",
       "    </tr>\n",
       "    <tr>\n",
       "      <th>6488</th>\n",
       "      <td>8671</td>\n",
       "      <td>2025-03-17</td>\n",
       "      <td>1</td>\n",
       "      <td>3665.0</td>\n",
       "      <td>27250.0</td>\n",
       "      <td>Gomti Nagar</td>\n",
       "    </tr>\n",
       "    <tr>\n",
       "      <th>6489</th>\n",
       "      <td>8671</td>\n",
       "      <td>2025-03-26</td>\n",
       "      <td>1</td>\n",
       "      <td>950.0</td>\n",
       "      <td>22950.0</td>\n",
       "      <td>Gomti Nagar</td>\n",
       "    </tr>\n",
       "    <tr>\n",
       "      <th>6490</th>\n",
       "      <td>8671</td>\n",
       "      <td>2025-04-10</td>\n",
       "      <td>1</td>\n",
       "      <td>1130.0</td>\n",
       "      <td>17270.0</td>\n",
       "      <td>Gomti Nagar</td>\n",
       "    </tr>\n",
       "  </tbody>\n",
       "</table>\n",
       "<p>6491 rows × 6 columns</p>\n",
       "</div>"
      ],
      "text/plain": [
       "      customer_id order_date  daily_order_count  discount  net_order_amount  \\\n",
       "0              12 2024-10-01                  1     200.0            1660.0   \n",
       "1              12 2024-11-30                  1     140.0            1650.0   \n",
       "2              12 2024-12-16                  1     110.0            1680.0   \n",
       "3              12 2025-01-04                  1     100.0            1690.0   \n",
       "4              12 2025-01-12                  1      70.0            1720.0   \n",
       "...           ...        ...                ...       ...               ...   \n",
       "6486         8671 2025-02-06                  1    2600.0           30900.0   \n",
       "6487         8671 2025-02-23                  1    3700.0           41500.0   \n",
       "6488         8671 2025-03-17                  1    3665.0           27250.0   \n",
       "6489         8671 2025-03-26                  1     950.0           22950.0   \n",
       "6490         8671 2025-04-10                  1    1130.0           17270.0   \n",
       "\n",
       "     warehouse_name  \n",
       "0       Gomti Nagar  \n",
       "1       Gomti Nagar  \n",
       "2       Gomti Nagar  \n",
       "3       Gomti Nagar  \n",
       "4       Gomti Nagar  \n",
       "...             ...  \n",
       "6486    Gomti Nagar  \n",
       "6487    Gomti Nagar  \n",
       "6488    Gomti Nagar  \n",
       "6489    Gomti Nagar  \n",
       "6490    Gomti Nagar  \n",
       "\n",
       "[6491 rows x 6 columns]"
      ]
     },
     "execution_count": 11,
     "metadata": {},
     "output_type": "execute_result"
    }
   ],
   "source": [
    "import pandas as pd\n",
    "\n",
    "# assume train_data is your original DataFrame\n",
    "df = train_data.copy()\n",
    "df['order_date'] = pd.to_datetime(df['order_date'], dayfirst=True)\n",
    "\n",
    "# group & aggregate:\n",
    "daily_df = df.groupby(['customer_id','order_date']).agg(\n",
    "    daily_order_count = ('order_id',       'count'),\n",
    "    discount          = ('discount',       'sum'),\n",
    "    net_order_amount  = ('net_order_amount','sum'),\n",
    "    warehouse_name    = ('warehouse_name', 'first')  # or use mode if you prefer\n",
    ").reset_index()\n",
    "\n",
    "# now daily_df has exactly one row per customer per date\n",
    "daily_df"
   ]
  },
  {
   "cell_type": "code",
   "execution_count": 12,
   "id": "f7151d97",
   "metadata": {
    "execution": {
     "iopub.execute_input": "2025-04-17T19:06:57.637297Z",
     "iopub.status.busy": "2025-04-17T19:06:57.636699Z",
     "iopub.status.idle": "2025-04-17T19:06:57.643821Z",
     "shell.execute_reply": "2025-04-17T19:06:57.643017Z"
    },
    "papermill": {
     "duration": 0.013101,
     "end_time": "2025-04-17T19:06:57.644969",
     "exception": false,
     "start_time": "2025-04-17T19:06:57.631868",
     "status": "completed"
    },
    "tags": []
   },
   "outputs": [],
   "source": [
    "daily_df_dummy=pd.get_dummies(daily_df,columns=['warehouse_name'],dtype='int')"
   ]
  },
  {
   "cell_type": "code",
   "execution_count": 13,
   "id": "d6504aad",
   "metadata": {
    "execution": {
     "iopub.execute_input": "2025-04-17T19:06:57.654778Z",
     "iopub.status.busy": "2025-04-17T19:06:57.654532Z",
     "iopub.status.idle": "2025-04-17T19:06:57.667427Z",
     "shell.execute_reply": "2025-04-17T19:06:57.666555Z"
    },
    "papermill": {
     "duration": 0.019273,
     "end_time": "2025-04-17T19:06:57.668581",
     "exception": false,
     "start_time": "2025-04-17T19:06:57.649308",
     "status": "completed"
    },
    "tags": []
   },
   "outputs": [
    {
     "data": {
      "text/html": [
       "<div>\n",
       "<style scoped>\n",
       "    .dataframe tbody tr th:only-of-type {\n",
       "        vertical-align: middle;\n",
       "    }\n",
       "\n",
       "    .dataframe tbody tr th {\n",
       "        vertical-align: top;\n",
       "    }\n",
       "\n",
       "    .dataframe thead th {\n",
       "        text-align: right;\n",
       "    }\n",
       "</style>\n",
       "<table border=\"1\" class=\"dataframe\">\n",
       "  <thead>\n",
       "    <tr style=\"text-align: right;\">\n",
       "      <th></th>\n",
       "      <th>customer_id</th>\n",
       "      <th>order_date</th>\n",
       "      <th>daily_order_count</th>\n",
       "      <th>discount</th>\n",
       "      <th>net_order_amount</th>\n",
       "      <th>warehouse_name_Ayodhya</th>\n",
       "      <th>warehouse_name_Gomti Nagar</th>\n",
       "      <th>warehouse_name_Greater NOIDA</th>\n",
       "      <th>warehouse_name_Noida</th>\n",
       "      <th>warehouse_name_Telibagh</th>\n",
       "      <th>warehouse_name_Unnao</th>\n",
       "    </tr>\n",
       "  </thead>\n",
       "  <tbody>\n",
       "    <tr>\n",
       "      <th>0</th>\n",
       "      <td>12</td>\n",
       "      <td>2024-10-01</td>\n",
       "      <td>1</td>\n",
       "      <td>200.0</td>\n",
       "      <td>1660.0</td>\n",
       "      <td>0</td>\n",
       "      <td>1</td>\n",
       "      <td>0</td>\n",
       "      <td>0</td>\n",
       "      <td>0</td>\n",
       "      <td>0</td>\n",
       "    </tr>\n",
       "    <tr>\n",
       "      <th>1</th>\n",
       "      <td>12</td>\n",
       "      <td>2024-11-30</td>\n",
       "      <td>1</td>\n",
       "      <td>140.0</td>\n",
       "      <td>1650.0</td>\n",
       "      <td>0</td>\n",
       "      <td>1</td>\n",
       "      <td>0</td>\n",
       "      <td>0</td>\n",
       "      <td>0</td>\n",
       "      <td>0</td>\n",
       "    </tr>\n",
       "    <tr>\n",
       "      <th>2</th>\n",
       "      <td>12</td>\n",
       "      <td>2024-12-16</td>\n",
       "      <td>1</td>\n",
       "      <td>110.0</td>\n",
       "      <td>1680.0</td>\n",
       "      <td>0</td>\n",
       "      <td>1</td>\n",
       "      <td>0</td>\n",
       "      <td>0</td>\n",
       "      <td>0</td>\n",
       "      <td>0</td>\n",
       "    </tr>\n",
       "    <tr>\n",
       "      <th>3</th>\n",
       "      <td>12</td>\n",
       "      <td>2025-01-04</td>\n",
       "      <td>1</td>\n",
       "      <td>100.0</td>\n",
       "      <td>1690.0</td>\n",
       "      <td>0</td>\n",
       "      <td>1</td>\n",
       "      <td>0</td>\n",
       "      <td>0</td>\n",
       "      <td>0</td>\n",
       "      <td>0</td>\n",
       "    </tr>\n",
       "    <tr>\n",
       "      <th>4</th>\n",
       "      <td>12</td>\n",
       "      <td>2025-01-12</td>\n",
       "      <td>1</td>\n",
       "      <td>70.0</td>\n",
       "      <td>1720.0</td>\n",
       "      <td>0</td>\n",
       "      <td>1</td>\n",
       "      <td>0</td>\n",
       "      <td>0</td>\n",
       "      <td>0</td>\n",
       "      <td>0</td>\n",
       "    </tr>\n",
       "    <tr>\n",
       "      <th>...</th>\n",
       "      <td>...</td>\n",
       "      <td>...</td>\n",
       "      <td>...</td>\n",
       "      <td>...</td>\n",
       "      <td>...</td>\n",
       "      <td>...</td>\n",
       "      <td>...</td>\n",
       "      <td>...</td>\n",
       "      <td>...</td>\n",
       "      <td>...</td>\n",
       "      <td>...</td>\n",
       "    </tr>\n",
       "    <tr>\n",
       "      <th>6486</th>\n",
       "      <td>8671</td>\n",
       "      <td>2025-02-06</td>\n",
       "      <td>1</td>\n",
       "      <td>2600.0</td>\n",
       "      <td>30900.0</td>\n",
       "      <td>0</td>\n",
       "      <td>1</td>\n",
       "      <td>0</td>\n",
       "      <td>0</td>\n",
       "      <td>0</td>\n",
       "      <td>0</td>\n",
       "    </tr>\n",
       "    <tr>\n",
       "      <th>6487</th>\n",
       "      <td>8671</td>\n",
       "      <td>2025-02-23</td>\n",
       "      <td>1</td>\n",
       "      <td>3700.0</td>\n",
       "      <td>41500.0</td>\n",
       "      <td>0</td>\n",
       "      <td>1</td>\n",
       "      <td>0</td>\n",
       "      <td>0</td>\n",
       "      <td>0</td>\n",
       "      <td>0</td>\n",
       "    </tr>\n",
       "    <tr>\n",
       "      <th>6488</th>\n",
       "      <td>8671</td>\n",
       "      <td>2025-03-17</td>\n",
       "      <td>1</td>\n",
       "      <td>3665.0</td>\n",
       "      <td>27250.0</td>\n",
       "      <td>0</td>\n",
       "      <td>1</td>\n",
       "      <td>0</td>\n",
       "      <td>0</td>\n",
       "      <td>0</td>\n",
       "      <td>0</td>\n",
       "    </tr>\n",
       "    <tr>\n",
       "      <th>6489</th>\n",
       "      <td>8671</td>\n",
       "      <td>2025-03-26</td>\n",
       "      <td>1</td>\n",
       "      <td>950.0</td>\n",
       "      <td>22950.0</td>\n",
       "      <td>0</td>\n",
       "      <td>1</td>\n",
       "      <td>0</td>\n",
       "      <td>0</td>\n",
       "      <td>0</td>\n",
       "      <td>0</td>\n",
       "    </tr>\n",
       "    <tr>\n",
       "      <th>6490</th>\n",
       "      <td>8671</td>\n",
       "      <td>2025-04-10</td>\n",
       "      <td>1</td>\n",
       "      <td>1130.0</td>\n",
       "      <td>17270.0</td>\n",
       "      <td>0</td>\n",
       "      <td>1</td>\n",
       "      <td>0</td>\n",
       "      <td>0</td>\n",
       "      <td>0</td>\n",
       "      <td>0</td>\n",
       "    </tr>\n",
       "  </tbody>\n",
       "</table>\n",
       "<p>6491 rows × 11 columns</p>\n",
       "</div>"
      ],
      "text/plain": [
       "      customer_id order_date  daily_order_count  discount  net_order_amount  \\\n",
       "0              12 2024-10-01                  1     200.0            1660.0   \n",
       "1              12 2024-11-30                  1     140.0            1650.0   \n",
       "2              12 2024-12-16                  1     110.0            1680.0   \n",
       "3              12 2025-01-04                  1     100.0            1690.0   \n",
       "4              12 2025-01-12                  1      70.0            1720.0   \n",
       "...           ...        ...                ...       ...               ...   \n",
       "6486         8671 2025-02-06                  1    2600.0           30900.0   \n",
       "6487         8671 2025-02-23                  1    3700.0           41500.0   \n",
       "6488         8671 2025-03-17                  1    3665.0           27250.0   \n",
       "6489         8671 2025-03-26                  1     950.0           22950.0   \n",
       "6490         8671 2025-04-10                  1    1130.0           17270.0   \n",
       "\n",
       "      warehouse_name_Ayodhya  warehouse_name_Gomti Nagar  \\\n",
       "0                          0                           1   \n",
       "1                          0                           1   \n",
       "2                          0                           1   \n",
       "3                          0                           1   \n",
       "4                          0                           1   \n",
       "...                      ...                         ...   \n",
       "6486                       0                           1   \n",
       "6487                       0                           1   \n",
       "6488                       0                           1   \n",
       "6489                       0                           1   \n",
       "6490                       0                           1   \n",
       "\n",
       "      warehouse_name_Greater NOIDA  warehouse_name_Noida  \\\n",
       "0                                0                     0   \n",
       "1                                0                     0   \n",
       "2                                0                     0   \n",
       "3                                0                     0   \n",
       "4                                0                     0   \n",
       "...                            ...                   ...   \n",
       "6486                             0                     0   \n",
       "6487                             0                     0   \n",
       "6488                             0                     0   \n",
       "6489                             0                     0   \n",
       "6490                             0                     0   \n",
       "\n",
       "      warehouse_name_Telibagh  warehouse_name_Unnao  \n",
       "0                           0                     0  \n",
       "1                           0                     0  \n",
       "2                           0                     0  \n",
       "3                           0                     0  \n",
       "4                           0                     0  \n",
       "...                       ...                   ...  \n",
       "6486                        0                     0  \n",
       "6487                        0                     0  \n",
       "6488                        0                     0  \n",
       "6489                        0                     0  \n",
       "6490                        0                     0  \n",
       "\n",
       "[6491 rows x 11 columns]"
      ]
     },
     "execution_count": 13,
     "metadata": {},
     "output_type": "execute_result"
    }
   ],
   "source": [
    "daily_df_dummy"
   ]
  },
  {
   "cell_type": "code",
   "execution_count": 14,
   "id": "3fe8b93e",
   "metadata": {
    "execution": {
     "iopub.execute_input": "2025-04-17T19:06:57.678867Z",
     "iopub.status.busy": "2025-04-17T19:06:57.678611Z",
     "iopub.status.idle": "2025-04-17T19:06:57.681942Z",
     "shell.execute_reply": "2025-04-17T19:06:57.681265Z"
    },
    "papermill": {
     "duration": 0.00955,
     "end_time": "2025-04-17T19:06:57.683097",
     "exception": false,
     "start_time": "2025-04-17T19:06:57.673547",
     "status": "completed"
    },
    "tags": []
   },
   "outputs": [],
   "source": [
    "SEQ_LEN = 30\n",
    "PRED_HORIZON = 14"
   ]
  },
  {
   "cell_type": "code",
   "execution_count": 15,
   "id": "3b729495",
   "metadata": {
    "execution": {
     "iopub.execute_input": "2025-04-17T19:06:57.693265Z",
     "iopub.status.busy": "2025-04-17T19:06:57.693050Z",
     "iopub.status.idle": "2025-04-17T19:07:00.065608Z",
     "shell.execute_reply": "2025-04-17T19:07:00.064617Z"
    },
    "papermill": {
     "duration": 2.379117,
     "end_time": "2025-04-17T19:07:00.066839",
     "exception": false,
     "start_time": "2025-04-17T19:06:57.687722",
     "status": "completed"
    },
    "tags": []
   },
   "outputs": [
    {
     "name": "stderr",
     "output_type": "stream",
     "text": [
      "100%|██████████| 847/847 [00:02<00:00, 400.62it/s]\n"
     ]
    },
    {
     "name": "stdout",
     "output_type": "stream",
     "text": [
      "X shape: (86421, 30, 9)\n",
      "y shape: (86421, 14)\n"
     ]
    }
   ],
   "source": [
    "df = daily_df_dummy.copy()\n",
    "df['order_date'] = pd.to_datetime(df['order_date'])\n",
    "\n",
    "# Identify feature columns (everything except customer_id and date)\n",
    "feature_cols = [c for c in df.columns \n",
    "                if c not in ('customer_id','order_date')]\n",
    "\n",
    "# Container for sequences\n",
    "X, y = [], []\n",
    "\n",
    "# Process each customer individually\n",
    "for cust_id, group in tqdm(df.groupby('customer_id'), total=df['customer_id'].nunique()):\n",
    "    # 1) build a full daily index for this customer\n",
    "    group = group.set_index('order_date').sort_index()\n",
    "    full_idx = pd.date_range(group.index.min(), group.index.max(), freq='D')\n",
    "    group = group.reindex(full_idx).fillna(0)\n",
    "    \n",
    "    # keep customer_id and date for indexing\n",
    "    group['customer_id'] = cust_id\n",
    "    group['date']        = group.index\n",
    "    \n",
    "    # 2) extract feature matrix and target vector\n",
    "    data = group[feature_cols].values\n",
    "    targets = (group['daily_order_count'] > 0).astype(int).values  # 0/1 each day\n",
    "    \n",
    "    # 3) sliding windows\n",
    "    n = len(group)\n",
    "    for start in range(n - SEQ_LEN - PRED_HORIZON + 1):\n",
    "        end   = start + SEQ_LEN\n",
    "        fend  = end + PRED_HORIZON\n",
    "        \n",
    "        X.append(data[start:end, :])         # shape (30, num_features)\n",
    "        y.append(targets[end:fend])          # shape (14,)\n",
    "        \n",
    "# 4) convert to numpy arrays\n",
    "X = np.stack(X)   # (num_samples, 30, num_features)\n",
    "y = np.stack(y)   # (num_samples, 14)\n",
    "\n",
    "print(\"X shape:\", X.shape)\n",
    "print(\"y shape:\", y.shape)"
   ]
  },
  {
   "cell_type": "code",
   "execution_count": 16,
   "id": "ffd1f1ea",
   "metadata": {
    "execution": {
     "iopub.execute_input": "2025-04-17T19:07:00.080065Z",
     "iopub.status.busy": "2025-04-17T19:07:00.079780Z",
     "iopub.status.idle": "2025-04-17T19:07:00.207549Z",
     "shell.execute_reply": "2025-04-17T19:07:00.206397Z"
    },
    "papermill": {
     "duration": 0.136393,
     "end_time": "2025-04-17T19:07:00.209921",
     "exception": false,
     "start_time": "2025-04-17T19:07:00.073528",
     "status": "completed"
    },
    "tags": []
   },
   "outputs": [],
   "source": [
    "X_train,X_test,Y_train,Y_test=train_test_split(X,y,test_size=0.4,random_state=42)\n",
    "X_cv,X_test,Y_cv,Y_test=train_test_split(X_test,Y_test,test_size=0.5,random_state=42)"
   ]
  },
  {
   "cell_type": "code",
   "execution_count": 17,
   "id": "744d77cc",
   "metadata": {
    "execution": {
     "iopub.execute_input": "2025-04-17T19:07:00.236837Z",
     "iopub.status.busy": "2025-04-17T19:07:00.236372Z",
     "iopub.status.idle": "2025-04-17T19:07:00.244689Z",
     "shell.execute_reply": "2025-04-17T19:07:00.243532Z"
    },
    "papermill": {
     "duration": 0.022247,
     "end_time": "2025-04-17T19:07:00.246364",
     "exception": false,
     "start_time": "2025-04-17T19:07:00.224117",
     "status": "completed"
    },
    "tags": []
   },
   "outputs": [],
   "source": [
    "from tensorflow.keras.optimizers import Adam"
   ]
  },
  {
   "cell_type": "code",
   "execution_count": 18,
   "id": "b638a2d9",
   "metadata": {
    "execution": {
     "iopub.execute_input": "2025-04-17T19:07:00.268732Z",
     "iopub.status.busy": "2025-04-17T19:07:00.268335Z",
     "iopub.status.idle": "2025-04-17T19:07:03.259264Z",
     "shell.execute_reply": "2025-04-17T19:07:03.258636Z"
    },
    "papermill": {
     "duration": 3.003361,
     "end_time": "2025-04-17T19:07:03.260353",
     "exception": false,
     "start_time": "2025-04-17T19:07:00.256992",
     "status": "completed"
    },
    "tags": []
   },
   "outputs": [
    {
     "name": "stderr",
     "output_type": "stream",
     "text": [
      "I0000 00:00:1744916821.654494      19 gpu_device.cc:2022] Created device /job:localhost/replica:0/task:0/device:GPU:0 with 13942 MB memory:  -> device: 0, name: Tesla T4, pci bus id: 0000:00:04.0, compute capability: 7.5\n",
      "I0000 00:00:1744916821.655311      19 gpu_device.cc:2022] Created device /job:localhost/replica:0/task:0/device:GPU:1 with 13942 MB memory:  -> device: 1, name: Tesla T4, pci bus id: 0000:00:05.0, compute capability: 7.5\n",
      "/usr/local/lib/python3.11/dist-packages/keras/src/layers/rnn/rnn.py:204: UserWarning: Do not pass an `input_shape`/`input_dim` argument to a layer. When using Sequential models, prefer using an `Input(shape)` object as the first layer in the model instead.\n",
      "  super().__init__(**kwargs)\n"
     ]
    },
    {
     "data": {
      "text/html": [
       "<pre style=\"white-space:pre;overflow-x:auto;line-height:normal;font-family:Menlo,'DejaVu Sans Mono',consolas,'Courier New',monospace\"><span style=\"font-weight: bold\">Model: \"sequential\"</span>\n",
       "</pre>\n"
      ],
      "text/plain": [
       "\u001b[1mModel: \"sequential\"\u001b[0m\n"
      ]
     },
     "metadata": {},
     "output_type": "display_data"
    },
    {
     "data": {
      "text/html": [
       "<pre style=\"white-space:pre;overflow-x:auto;line-height:normal;font-family:Menlo,'DejaVu Sans Mono',consolas,'Courier New',monospace\">┏━━━━━━━━━━━━━━━━━━━━━━━━━━━━━━━━━━━━━━┳━━━━━━━━━━━━━━━━━━━━━━━━━━━━━┳━━━━━━━━━━━━━━━━━┓\n",
       "┃<span style=\"font-weight: bold\"> Layer (type)                         </span>┃<span style=\"font-weight: bold\"> Output Shape                </span>┃<span style=\"font-weight: bold\">         Param # </span>┃\n",
       "┡━━━━━━━━━━━━━━━━━━━━━━━━━━━━━━━━━━━━━━╇━━━━━━━━━━━━━━━━━━━━━━━━━━━━━╇━━━━━━━━━━━━━━━━━┩\n",
       "│ lstm (<span style=\"color: #0087ff; text-decoration-color: #0087ff\">LSTM</span>)                          │ (<span style=\"color: #00d7ff; text-decoration-color: #00d7ff\">None</span>, <span style=\"color: #00af00; text-decoration-color: #00af00\">30</span>, <span style=\"color: #00af00; text-decoration-color: #00af00\">128</span>)             │          <span style=\"color: #00af00; text-decoration-color: #00af00\">70,656</span> │\n",
       "├──────────────────────────────────────┼─────────────────────────────┼─────────────────┤\n",
       "│ dropout (<span style=\"color: #0087ff; text-decoration-color: #0087ff\">Dropout</span>)                    │ (<span style=\"color: #00d7ff; text-decoration-color: #00d7ff\">None</span>, <span style=\"color: #00af00; text-decoration-color: #00af00\">30</span>, <span style=\"color: #00af00; text-decoration-color: #00af00\">128</span>)             │               <span style=\"color: #00af00; text-decoration-color: #00af00\">0</span> │\n",
       "├──────────────────────────────────────┼─────────────────────────────┼─────────────────┤\n",
       "│ lstm_1 (<span style=\"color: #0087ff; text-decoration-color: #0087ff\">LSTM</span>)                        │ (<span style=\"color: #00d7ff; text-decoration-color: #00d7ff\">None</span>, <span style=\"color: #00af00; text-decoration-color: #00af00\">64</span>)                  │          <span style=\"color: #00af00; text-decoration-color: #00af00\">49,408</span> │\n",
       "├──────────────────────────────────────┼─────────────────────────────┼─────────────────┤\n",
       "│ dropout_1 (<span style=\"color: #0087ff; text-decoration-color: #0087ff\">Dropout</span>)                  │ (<span style=\"color: #00d7ff; text-decoration-color: #00d7ff\">None</span>, <span style=\"color: #00af00; text-decoration-color: #00af00\">64</span>)                  │               <span style=\"color: #00af00; text-decoration-color: #00af00\">0</span> │\n",
       "├──────────────────────────────────────┼─────────────────────────────┼─────────────────┤\n",
       "│ dense (<span style=\"color: #0087ff; text-decoration-color: #0087ff\">Dense</span>)                        │ (<span style=\"color: #00d7ff; text-decoration-color: #00d7ff\">None</span>, <span style=\"color: #00af00; text-decoration-color: #00af00\">32</span>)                  │           <span style=\"color: #00af00; text-decoration-color: #00af00\">2,080</span> │\n",
       "├──────────────────────────────────────┼─────────────────────────────┼─────────────────┤\n",
       "│ dropout_2 (<span style=\"color: #0087ff; text-decoration-color: #0087ff\">Dropout</span>)                  │ (<span style=\"color: #00d7ff; text-decoration-color: #00d7ff\">None</span>, <span style=\"color: #00af00; text-decoration-color: #00af00\">32</span>)                  │               <span style=\"color: #00af00; text-decoration-color: #00af00\">0</span> │\n",
       "├──────────────────────────────────────┼─────────────────────────────┼─────────────────┤\n",
       "│ dense_1 (<span style=\"color: #0087ff; text-decoration-color: #0087ff\">Dense</span>)                      │ (<span style=\"color: #00d7ff; text-decoration-color: #00d7ff\">None</span>, <span style=\"color: #00af00; text-decoration-color: #00af00\">14</span>)                  │             <span style=\"color: #00af00; text-decoration-color: #00af00\">462</span> │\n",
       "└──────────────────────────────────────┴─────────────────────────────┴─────────────────┘\n",
       "</pre>\n"
      ],
      "text/plain": [
       "┏━━━━━━━━━━━━━━━━━━━━━━━━━━━━━━━━━━━━━━┳━━━━━━━━━━━━━━━━━━━━━━━━━━━━━┳━━━━━━━━━━━━━━━━━┓\n",
       "┃\u001b[1m \u001b[0m\u001b[1mLayer (type)                        \u001b[0m\u001b[1m \u001b[0m┃\u001b[1m \u001b[0m\u001b[1mOutput Shape               \u001b[0m\u001b[1m \u001b[0m┃\u001b[1m \u001b[0m\u001b[1m        Param #\u001b[0m\u001b[1m \u001b[0m┃\n",
       "┡━━━━━━━━━━━━━━━━━━━━━━━━━━━━━━━━━━━━━━╇━━━━━━━━━━━━━━━━━━━━━━━━━━━━━╇━━━━━━━━━━━━━━━━━┩\n",
       "│ lstm (\u001b[38;5;33mLSTM\u001b[0m)                          │ (\u001b[38;5;45mNone\u001b[0m, \u001b[38;5;34m30\u001b[0m, \u001b[38;5;34m128\u001b[0m)             │          \u001b[38;5;34m70,656\u001b[0m │\n",
       "├──────────────────────────────────────┼─────────────────────────────┼─────────────────┤\n",
       "│ dropout (\u001b[38;5;33mDropout\u001b[0m)                    │ (\u001b[38;5;45mNone\u001b[0m, \u001b[38;5;34m30\u001b[0m, \u001b[38;5;34m128\u001b[0m)             │               \u001b[38;5;34m0\u001b[0m │\n",
       "├──────────────────────────────────────┼─────────────────────────────┼─────────────────┤\n",
       "│ lstm_1 (\u001b[38;5;33mLSTM\u001b[0m)                        │ (\u001b[38;5;45mNone\u001b[0m, \u001b[38;5;34m64\u001b[0m)                  │          \u001b[38;5;34m49,408\u001b[0m │\n",
       "├──────────────────────────────────────┼─────────────────────────────┼─────────────────┤\n",
       "│ dropout_1 (\u001b[38;5;33mDropout\u001b[0m)                  │ (\u001b[38;5;45mNone\u001b[0m, \u001b[38;5;34m64\u001b[0m)                  │               \u001b[38;5;34m0\u001b[0m │\n",
       "├──────────────────────────────────────┼─────────────────────────────┼─────────────────┤\n",
       "│ dense (\u001b[38;5;33mDense\u001b[0m)                        │ (\u001b[38;5;45mNone\u001b[0m, \u001b[38;5;34m32\u001b[0m)                  │           \u001b[38;5;34m2,080\u001b[0m │\n",
       "├──────────────────────────────────────┼─────────────────────────────┼─────────────────┤\n",
       "│ dropout_2 (\u001b[38;5;33mDropout\u001b[0m)                  │ (\u001b[38;5;45mNone\u001b[0m, \u001b[38;5;34m32\u001b[0m)                  │               \u001b[38;5;34m0\u001b[0m │\n",
       "├──────────────────────────────────────┼─────────────────────────────┼─────────────────┤\n",
       "│ dense_1 (\u001b[38;5;33mDense\u001b[0m)                      │ (\u001b[38;5;45mNone\u001b[0m, \u001b[38;5;34m14\u001b[0m)                  │             \u001b[38;5;34m462\u001b[0m │\n",
       "└──────────────────────────────────────┴─────────────────────────────┴─────────────────┘\n"
      ]
     },
     "metadata": {},
     "output_type": "display_data"
    },
    {
     "data": {
      "text/html": [
       "<pre style=\"white-space:pre;overflow-x:auto;line-height:normal;font-family:Menlo,'DejaVu Sans Mono',consolas,'Courier New',monospace\"><span style=\"font-weight: bold\"> Total params: </span><span style=\"color: #00af00; text-decoration-color: #00af00\">122,606</span> (478.93 KB)\n",
       "</pre>\n"
      ],
      "text/plain": [
       "\u001b[1m Total params: \u001b[0m\u001b[38;5;34m122,606\u001b[0m (478.93 KB)\n"
      ]
     },
     "metadata": {},
     "output_type": "display_data"
    },
    {
     "data": {
      "text/html": [
       "<pre style=\"white-space:pre;overflow-x:auto;line-height:normal;font-family:Menlo,'DejaVu Sans Mono',consolas,'Courier New',monospace\"><span style=\"font-weight: bold\"> Trainable params: </span><span style=\"color: #00af00; text-decoration-color: #00af00\">122,606</span> (478.93 KB)\n",
       "</pre>\n"
      ],
      "text/plain": [
       "\u001b[1m Trainable params: \u001b[0m\u001b[38;5;34m122,606\u001b[0m (478.93 KB)\n"
      ]
     },
     "metadata": {},
     "output_type": "display_data"
    },
    {
     "data": {
      "text/html": [
       "<pre style=\"white-space:pre;overflow-x:auto;line-height:normal;font-family:Menlo,'DejaVu Sans Mono',consolas,'Courier New',monospace\"><span style=\"font-weight: bold\"> Non-trainable params: </span><span style=\"color: #00af00; text-decoration-color: #00af00\">0</span> (0.00 B)\n",
       "</pre>\n"
      ],
      "text/plain": [
       "\u001b[1m Non-trainable params: \u001b[0m\u001b[38;5;34m0\u001b[0m (0.00 B)\n"
      ]
     },
     "metadata": {},
     "output_type": "display_data"
    }
   ],
   "source": [
    "from tensorflow.keras.models import Sequential\n",
    "from tensorflow.keras.layers import LSTM, Dense, Dropout\n",
    "\n",
    "# Assuming you have already defined:\n",
    "# SEQ_LEN = 30\n",
    "# PRED_HORIZON = 14\n",
    "# feature_cols = [...]  # list of your input column names\n",
    "\n",
    "NUM_FEATURES = len(feature_cols)\n",
    "\n",
    "model = Sequential([\n",
    "    # 1st LSTM layer, returns sequences so we can stack another LSTM\n",
    "    LSTM(128, input_shape=(SEQ_LEN, NUM_FEATURES), return_sequences=True),\n",
    "    Dropout(0.2),\n",
    "\n",
    "    # 2nd LSTM layer\n",
    "    LSTM(64, return_sequences=False),\n",
    "    Dropout(0.2),\n",
    "\n",
    "    # Dense “bottleneck” to learn combined features\n",
    "    Dense(32, activation='relu'),\n",
    "    Dropout(0.1),\n",
    "\n",
    "    # Final output: 14 sigmoid neurons, one per future day\n",
    "    Dense(PRED_HORIZON, activation='sigmoid')\n",
    "])\n",
    "\n",
    "model.compile(\n",
    "    optimizer=Adam(learning_rate=0.0001),\n",
    "    loss='binary_crossentropy',\n",
    "    metrics=['accuracy']\n",
    ")\n",
    "\n",
    "model.summary()"
   ]
  },
  {
   "cell_type": "code",
   "execution_count": 19,
   "id": "37f9a46f",
   "metadata": {
    "execution": {
     "iopub.execute_input": "2025-04-17T19:07:03.274435Z",
     "iopub.status.busy": "2025-04-17T19:07:03.273903Z",
     "iopub.status.idle": "2025-04-17T19:07:03.277418Z",
     "shell.execute_reply": "2025-04-17T19:07:03.276912Z"
    },
    "papermill": {
     "duration": 0.011435,
     "end_time": "2025-04-17T19:07:03.278429",
     "exception": false,
     "start_time": "2025-04-17T19:07:03.266994",
     "status": "completed"
    },
    "tags": []
   },
   "outputs": [],
   "source": [
    "checkpoint = ModelCheckpoint(\n",
    "    filepath='best_model.weights.h5',      # Path to save the model weights\n",
    "    monitor='val_loss',                    # Metric to monitor\n",
    "    save_best_only=True,                   # Save only the best weights\n",
    "    save_weights_only=True,                # Save only weights (not full model)\n",
    "    mode='min',                            # 'min' for loss, 'max' for accuracy\n",
    "    verbose=1\n",
    ")"
   ]
  },
  {
   "cell_type": "code",
   "execution_count": 20,
   "id": "39242e1b",
   "metadata": {
    "execution": {
     "iopub.execute_input": "2025-04-17T19:07:03.291597Z",
     "iopub.status.busy": "2025-04-17T19:07:03.291182Z",
     "iopub.status.idle": "2025-04-17T19:18:36.018548Z",
     "shell.execute_reply": "2025-04-17T19:18:36.017708Z"
    },
    "papermill": {
     "duration": 692.735462,
     "end_time": "2025-04-17T19:18:36.020112",
     "exception": false,
     "start_time": "2025-04-17T19:07:03.284650",
     "status": "completed"
    },
    "tags": []
   },
   "outputs": [
    {
     "name": "stdout",
     "output_type": "stream",
     "text": [
      "Epoch 1/100\n"
     ]
    },
    {
     "name": "stderr",
     "output_type": "stream",
     "text": [
      "I0000 00:00:1744916827.902379      62 cuda_dnn.cc:529] Loaded cuDNN version 90300\n"
     ]
    },
    {
     "name": "stdout",
     "output_type": "stream",
     "text": [
      "\u001b[1m810/811\u001b[0m \u001b[32m━━━━━━━━━━━━━━━━━━━\u001b[0m\u001b[37m━\u001b[0m \u001b[1m0s\u001b[0m 7ms/step - accuracy: 0.0822 - loss: 0.3740\n",
      "Epoch 1: val_loss improved from inf to 0.17338, saving model to best_model.weights.h5\n",
      "\u001b[1m811/811\u001b[0m \u001b[32m━━━━━━━━━━━━━━━━━━━━\u001b[0m\u001b[37m\u001b[0m \u001b[1m13s\u001b[0m 9ms/step - accuracy: 0.0823 - loss: 0.3737 - val_accuracy: 0.0308 - val_loss: 0.1734\n",
      "Epoch 2/100\n",
      "\u001b[1m808/811\u001b[0m \u001b[32m━━━━━━━━━━━━━━━━━━━\u001b[0m\u001b[37m━\u001b[0m \u001b[1m0s\u001b[0m 7ms/step - accuracy: 0.0996 - loss: 0.1918\n",
      "Epoch 2: val_loss improved from 0.17338 to 0.17182, saving model to best_model.weights.h5\n",
      "\u001b[1m811/811\u001b[0m \u001b[32m━━━━━━━━━━━━━━━━━━━━\u001b[0m\u001b[37m\u001b[0m \u001b[1m7s\u001b[0m 8ms/step - accuracy: 0.0996 - loss: 0.1918 - val_accuracy: 0.0308 - val_loss: 0.1718\n",
      "Epoch 3/100\n",
      "\u001b[1m811/811\u001b[0m \u001b[32m━━━━━━━━━━━━━━━━━━━━\u001b[0m\u001b[37m\u001b[0m \u001b[1m0s\u001b[0m 8ms/step - accuracy: 0.0848 - loss: 0.1841\n",
      "Epoch 3: val_loss improved from 0.17182 to 0.17164, saving model to best_model.weights.h5\n",
      "\u001b[1m811/811\u001b[0m \u001b[32m━━━━━━━━━━━━━━━━━━━━\u001b[0m\u001b[37m\u001b[0m \u001b[1m7s\u001b[0m 9ms/step - accuracy: 0.0848 - loss: 0.1841 - val_accuracy: 0.0308 - val_loss: 0.1716\n",
      "Epoch 4/100\n",
      "\u001b[1m810/811\u001b[0m \u001b[32m━━━━━━━━━━━━━━━━━━━\u001b[0m\u001b[37m━\u001b[0m \u001b[1m0s\u001b[0m 7ms/step - accuracy: 0.0761 - loss: 0.1797\n",
      "Epoch 4: val_loss improved from 0.17164 to 0.17149, saving model to best_model.weights.h5\n",
      "\u001b[1m811/811\u001b[0m \u001b[32m━━━━━━━━━━━━━━━━━━━━\u001b[0m\u001b[37m\u001b[0m \u001b[1m7s\u001b[0m 8ms/step - accuracy: 0.0761 - loss: 0.1797 - val_accuracy: 0.0308 - val_loss: 0.1715\n",
      "Epoch 5/100\n",
      "\u001b[1m806/811\u001b[0m \u001b[32m━━━━━━━━━━━━━━━━━━━\u001b[0m\u001b[37m━\u001b[0m \u001b[1m0s\u001b[0m 7ms/step - accuracy: 0.0830 - loss: 0.1805\n",
      "Epoch 5: val_loss improved from 0.17149 to 0.17139, saving model to best_model.weights.h5\n",
      "\u001b[1m811/811\u001b[0m \u001b[32m━━━━━━━━━━━━━━━━━━━━\u001b[0m\u001b[37m\u001b[0m \u001b[1m7s\u001b[0m 8ms/step - accuracy: 0.0830 - loss: 0.1805 - val_accuracy: 0.0308 - val_loss: 0.1714\n",
      "Epoch 6/100\n",
      "\u001b[1m809/811\u001b[0m \u001b[32m━━━━━━━━━━━━━━━━━━━\u001b[0m\u001b[37m━\u001b[0m \u001b[1m0s\u001b[0m 7ms/step - accuracy: 0.0759 - loss: 0.1773\n",
      "Epoch 6: val_loss improved from 0.17139 to 0.17129, saving model to best_model.weights.h5\n",
      "\u001b[1m811/811\u001b[0m \u001b[32m━━━━━━━━━━━━━━━━━━━━\u001b[0m\u001b[37m\u001b[0m \u001b[1m7s\u001b[0m 8ms/step - accuracy: 0.0759 - loss: 0.1773 - val_accuracy: 0.0308 - val_loss: 0.1713\n",
      "Epoch 7/100\n",
      "\u001b[1m806/811\u001b[0m \u001b[32m━━━━━━━━━━━━━━━━━━━\u001b[0m\u001b[37m━\u001b[0m \u001b[1m0s\u001b[0m 7ms/step - accuracy: 0.0737 - loss: 0.1755\n",
      "Epoch 7: val_loss improved from 0.17129 to 0.17125, saving model to best_model.weights.h5\n",
      "\u001b[1m811/811\u001b[0m \u001b[32m━━━━━━━━━━━━━━━━━━━━\u001b[0m\u001b[37m\u001b[0m \u001b[1m7s\u001b[0m 8ms/step - accuracy: 0.0737 - loss: 0.1755 - val_accuracy: 0.0308 - val_loss: 0.1713\n",
      "Epoch 8/100\n",
      "\u001b[1m808/811\u001b[0m \u001b[32m━━━━━━━━━━━━━━━━━━━\u001b[0m\u001b[37m━\u001b[0m \u001b[1m0s\u001b[0m 8ms/step - accuracy: 0.0854 - loss: 0.1758\n",
      "Epoch 8: val_loss improved from 0.17125 to 0.17112, saving model to best_model.weights.h5\n",
      "\u001b[1m811/811\u001b[0m \u001b[32m━━━━━━━━━━━━━━━━━━━━\u001b[0m\u001b[37m\u001b[0m \u001b[1m7s\u001b[0m 9ms/step - accuracy: 0.0854 - loss: 0.1758 - val_accuracy: 0.0314 - val_loss: 0.1711\n",
      "Epoch 9/100\n",
      "\u001b[1m806/811\u001b[0m \u001b[32m━━━━━━━━━━━━━━━━━━━\u001b[0m\u001b[37m━\u001b[0m \u001b[1m0s\u001b[0m 7ms/step - accuracy: 0.0814 - loss: 0.1768\n",
      "Epoch 9: val_loss did not improve from 0.17112\n",
      "\u001b[1m811/811\u001b[0m \u001b[32m━━━━━━━━━━━━━━━━━━━━\u001b[0m\u001b[37m\u001b[0m \u001b[1m7s\u001b[0m 8ms/step - accuracy: 0.0814 - loss: 0.1768 - val_accuracy: 0.0308 - val_loss: 0.1714\n",
      "Epoch 10/100\n",
      "\u001b[1m806/811\u001b[0m \u001b[32m━━━━━━━━━━━━━━━━━━━\u001b[0m\u001b[37m━\u001b[0m \u001b[1m0s\u001b[0m 7ms/step - accuracy: 0.0795 - loss: 0.1749\n",
      "Epoch 10: val_loss did not improve from 0.17112\n",
      "\u001b[1m811/811\u001b[0m \u001b[32m━━━━━━━━━━━━━━━━━━━━\u001b[0m\u001b[37m\u001b[0m \u001b[1m7s\u001b[0m 8ms/step - accuracy: 0.0795 - loss: 0.1750 - val_accuracy: 0.0308 - val_loss: 0.1712\n",
      "Epoch 11/100\n",
      "\u001b[1m807/811\u001b[0m \u001b[32m━━━━━━━━━━━━━━━━━━━\u001b[0m\u001b[37m━\u001b[0m \u001b[1m0s\u001b[0m 7ms/step - accuracy: 0.0862 - loss: 0.1753\n",
      "Epoch 11: val_loss did not improve from 0.17112\n",
      "\u001b[1m811/811\u001b[0m \u001b[32m━━━━━━━━━━━━━━━━━━━━\u001b[0m\u001b[37m\u001b[0m \u001b[1m7s\u001b[0m 8ms/step - accuracy: 0.0862 - loss: 0.1753 - val_accuracy: 0.0309 - val_loss: 0.1711\n",
      "Epoch 12/100\n",
      "\u001b[1m810/811\u001b[0m \u001b[32m━━━━━━━━━━━━━━━━━━━\u001b[0m\u001b[37m━\u001b[0m \u001b[1m0s\u001b[0m 7ms/step - accuracy: 0.0789 - loss: 0.1743\n",
      "Epoch 12: val_loss improved from 0.17112 to 0.17105, saving model to best_model.weights.h5\n",
      "\u001b[1m811/811\u001b[0m \u001b[32m━━━━━━━━━━━━━━━━━━━━\u001b[0m\u001b[37m\u001b[0m \u001b[1m7s\u001b[0m 9ms/step - accuracy: 0.0789 - loss: 0.1743 - val_accuracy: 0.0309 - val_loss: 0.1710\n",
      "Epoch 13/100\n",
      "\u001b[1m811/811\u001b[0m \u001b[32m━━━━━━━━━━━━━━━━━━━━\u001b[0m\u001b[37m\u001b[0m \u001b[1m0s\u001b[0m 7ms/step - accuracy: 0.0833 - loss: 0.1742\n",
      "Epoch 13: val_loss improved from 0.17105 to 0.17100, saving model to best_model.weights.h5\n",
      "\u001b[1m811/811\u001b[0m \u001b[32m━━━━━━━━━━━━━━━━━━━━\u001b[0m\u001b[37m\u001b[0m \u001b[1m7s\u001b[0m 8ms/step - accuracy: 0.0833 - loss: 0.1743 - val_accuracy: 0.1291 - val_loss: 0.1710\n",
      "Epoch 14/100\n",
      "\u001b[1m809/811\u001b[0m \u001b[32m━━━━━━━━━━━━━━━━━━━\u001b[0m\u001b[37m━\u001b[0m \u001b[1m0s\u001b[0m 8ms/step - accuracy: 0.0904 - loss: 0.1745\n",
      "Epoch 14: val_loss improved from 0.17100 to 0.17092, saving model to best_model.weights.h5\n",
      "\u001b[1m811/811\u001b[0m \u001b[32m━━━━━━━━━━━━━━━━━━━━\u001b[0m\u001b[37m\u001b[0m \u001b[1m7s\u001b[0m 9ms/step - accuracy: 0.0904 - loss: 0.1745 - val_accuracy: 0.0374 - val_loss: 0.1709\n",
      "Epoch 15/100\n",
      "\u001b[1m810/811\u001b[0m \u001b[32m━━━━━━━━━━━━━━━━━━━\u001b[0m\u001b[37m━\u001b[0m \u001b[1m0s\u001b[0m 8ms/step - accuracy: 0.0839 - loss: 0.1737\n",
      "Epoch 15: val_loss improved from 0.17092 to 0.17089, saving model to best_model.weights.h5\n",
      "\u001b[1m811/811\u001b[0m \u001b[32m━━━━━━━━━━━━━━━━━━━━\u001b[0m\u001b[37m\u001b[0m \u001b[1m7s\u001b[0m 9ms/step - accuracy: 0.0839 - loss: 0.1737 - val_accuracy: 0.0386 - val_loss: 0.1709\n",
      "Epoch 16/100\n",
      "\u001b[1m810/811\u001b[0m \u001b[32m━━━━━━━━━━━━━━━━━━━\u001b[0m\u001b[37m━\u001b[0m \u001b[1m0s\u001b[0m 8ms/step - accuracy: 0.0884 - loss: 0.1738\n",
      "Epoch 16: val_loss did not improve from 0.17089\n",
      "\u001b[1m811/811\u001b[0m \u001b[32m━━━━━━━━━━━━━━━━━━━━\u001b[0m\u001b[37m\u001b[0m \u001b[1m7s\u001b[0m 9ms/step - accuracy: 0.0883 - loss: 0.1738 - val_accuracy: 0.1300 - val_loss: 0.1710\n",
      "Epoch 17/100\n",
      "\u001b[1m807/811\u001b[0m \u001b[32m━━━━━━━━━━━━━━━━━━━\u001b[0m\u001b[37m━\u001b[0m \u001b[1m0s\u001b[0m 8ms/step - accuracy: 0.0923 - loss: 0.1739\n",
      "Epoch 17: val_loss did not improve from 0.17089\n",
      "\u001b[1m811/811\u001b[0m \u001b[32m━━━━━━━━━━━━━━━━━━━━\u001b[0m\u001b[37m\u001b[0m \u001b[1m7s\u001b[0m 9ms/step - accuracy: 0.0922 - loss: 0.1739 - val_accuracy: 0.0356 - val_loss: 0.1709\n",
      "Epoch 18/100\n",
      "\u001b[1m809/811\u001b[0m \u001b[32m━━━━━━━━━━━━━━━━━━━\u001b[0m\u001b[37m━\u001b[0m \u001b[1m0s\u001b[0m 8ms/step - accuracy: 0.0899 - loss: 0.1731\n",
      "Epoch 18: val_loss did not improve from 0.17089\n",
      "\u001b[1m811/811\u001b[0m \u001b[32m━━━━━━━━━━━━━━━━━━━━\u001b[0m\u001b[37m\u001b[0m \u001b[1m7s\u001b[0m 9ms/step - accuracy: 0.0899 - loss: 0.1731 - val_accuracy: 0.0399 - val_loss: 0.1709\n",
      "Epoch 19/100\n",
      "\u001b[1m809/811\u001b[0m \u001b[32m━━━━━━━━━━━━━━━━━━━\u001b[0m\u001b[37m━\u001b[0m \u001b[1m0s\u001b[0m 8ms/step - accuracy: 0.0824 - loss: 0.1733\n",
      "Epoch 19: val_loss did not improve from 0.17089\n",
      "\u001b[1m811/811\u001b[0m \u001b[32m━━━━━━━━━━━━━━━━━━━━\u001b[0m\u001b[37m\u001b[0m \u001b[1m7s\u001b[0m 9ms/step - accuracy: 0.0824 - loss: 0.1734 - val_accuracy: 0.0396 - val_loss: 0.1709\n",
      "Epoch 20/100\n",
      "\u001b[1m806/811\u001b[0m \u001b[32m━━━━━━━━━━━━━━━━━━━\u001b[0m\u001b[37m━\u001b[0m \u001b[1m0s\u001b[0m 8ms/step - accuracy: 0.0850 - loss: 0.1741\n",
      "Epoch 20: val_loss did not improve from 0.17089\n",
      "\u001b[1m811/811\u001b[0m \u001b[32m━━━━━━━━━━━━━━━━━━━━\u001b[0m\u001b[37m\u001b[0m \u001b[1m7s\u001b[0m 9ms/step - accuracy: 0.0850 - loss: 0.1741 - val_accuracy: 0.0346 - val_loss: 0.1710\n",
      "Epoch 21/100\n",
      "\u001b[1m805/811\u001b[0m \u001b[32m━━━━━━━━━━━━━━━━━━━\u001b[0m\u001b[37m━\u001b[0m \u001b[1m0s\u001b[0m 8ms/step - accuracy: 0.0872 - loss: 0.1733\n",
      "Epoch 21: val_loss did not improve from 0.17089\n",
      "\u001b[1m811/811\u001b[0m \u001b[32m━━━━━━━━━━━━━━━━━━━━\u001b[0m\u001b[37m\u001b[0m \u001b[1m7s\u001b[0m 9ms/step - accuracy: 0.0873 - loss: 0.1733 - val_accuracy: 0.0403 - val_loss: 0.1710\n",
      "Epoch 22/100\n",
      "\u001b[1m811/811\u001b[0m \u001b[32m━━━━━━━━━━━━━━━━━━━━\u001b[0m\u001b[37m\u001b[0m \u001b[1m0s\u001b[0m 8ms/step - accuracy: 0.0805 - loss: 0.1751\n",
      "Epoch 22: val_loss did not improve from 0.17089\n",
      "\u001b[1m811/811\u001b[0m \u001b[32m━━━━━━━━━━━━━━━━━━━━\u001b[0m\u001b[37m\u001b[0m \u001b[1m7s\u001b[0m 9ms/step - accuracy: 0.0805 - loss: 0.1751 - val_accuracy: 0.0355 - val_loss: 0.1713\n",
      "Epoch 23/100\n",
      "\u001b[1m804/811\u001b[0m \u001b[32m━━━━━━━━━━━━━━━━━━━\u001b[0m\u001b[37m━\u001b[0m \u001b[1m0s\u001b[0m 7ms/step - accuracy: 0.0910 - loss: 0.1733\n",
      "Epoch 23: val_loss did not improve from 0.17089\n",
      "\u001b[1m811/811\u001b[0m \u001b[32m━━━━━━━━━━━━━━━━━━━━\u001b[0m\u001b[37m\u001b[0m \u001b[1m7s\u001b[0m 8ms/step - accuracy: 0.0910 - loss: 0.1733 - val_accuracy: 0.0511 - val_loss: 0.1709\n",
      "Epoch 24/100\n",
      "\u001b[1m809/811\u001b[0m \u001b[32m━━━━━━━━━━━━━━━━━━━\u001b[0m\u001b[37m━\u001b[0m \u001b[1m0s\u001b[0m 7ms/step - accuracy: 0.0888 - loss: 0.1736\n",
      "Epoch 24: val_loss improved from 0.17089 to 0.17084, saving model to best_model.weights.h5\n",
      "\u001b[1m811/811\u001b[0m \u001b[32m━━━━━━━━━━━━━━━━━━━━\u001b[0m\u001b[37m\u001b[0m \u001b[1m7s\u001b[0m 8ms/step - accuracy: 0.0888 - loss: 0.1736 - val_accuracy: 0.0396 - val_loss: 0.1708\n",
      "Epoch 25/100\n",
      "\u001b[1m809/811\u001b[0m \u001b[32m━━━━━━━━━━━━━━━━━━━\u001b[0m\u001b[37m━\u001b[0m \u001b[1m0s\u001b[0m 7ms/step - accuracy: 0.0849 - loss: 0.1738\n",
      "Epoch 25: val_loss did not improve from 0.17084\n",
      "\u001b[1m811/811\u001b[0m \u001b[32m━━━━━━━━━━━━━━━━━━━━\u001b[0m\u001b[37m\u001b[0m \u001b[1m7s\u001b[0m 8ms/step - accuracy: 0.0849 - loss: 0.1738 - val_accuracy: 0.0392 - val_loss: 0.1709\n",
      "Epoch 26/100\n",
      "\u001b[1m810/811\u001b[0m \u001b[32m━━━━━━━━━━━━━━━━━━━\u001b[0m\u001b[37m━\u001b[0m \u001b[1m0s\u001b[0m 8ms/step - accuracy: 0.0857 - loss: 0.1731\n",
      "Epoch 26: val_loss improved from 0.17084 to 0.17081, saving model to best_model.weights.h5\n",
      "\u001b[1m811/811\u001b[0m \u001b[32m━━━━━━━━━━━━━━━━━━━━\u001b[0m\u001b[37m\u001b[0m \u001b[1m7s\u001b[0m 9ms/step - accuracy: 0.0857 - loss: 0.1731 - val_accuracy: 0.0388 - val_loss: 0.1708\n",
      "Epoch 27/100\n",
      "\u001b[1m805/811\u001b[0m \u001b[32m━━━━━━━━━━━━━━━━━━━\u001b[0m\u001b[37m━\u001b[0m \u001b[1m0s\u001b[0m 7ms/step - accuracy: 0.0855 - loss: 0.1730\n",
      "Epoch 27: val_loss did not improve from 0.17081\n",
      "\u001b[1m811/811\u001b[0m \u001b[32m━━━━━━━━━━━━━━━━━━━━\u001b[0m\u001b[37m\u001b[0m \u001b[1m7s\u001b[0m 8ms/step - accuracy: 0.0856 - loss: 0.1730 - val_accuracy: 0.0405 - val_loss: 0.1708\n",
      "Epoch 28/100\n",
      "\u001b[1m807/811\u001b[0m \u001b[32m━━━━━━━━━━━━━━━━━━━\u001b[0m\u001b[37m━\u001b[0m \u001b[1m0s\u001b[0m 7ms/step - accuracy: 0.0799 - loss: 0.1749\n",
      "Epoch 28: val_loss did not improve from 0.17081\n",
      "\u001b[1m811/811\u001b[0m \u001b[32m━━━━━━━━━━━━━━━━━━━━\u001b[0m\u001b[37m\u001b[0m \u001b[1m7s\u001b[0m 8ms/step - accuracy: 0.0799 - loss: 0.1749 - val_accuracy: 0.1647 - val_loss: 0.1708\n",
      "Epoch 29/100\n",
      "\u001b[1m807/811\u001b[0m \u001b[32m━━━━━━━━━━━━━━━━━━━\u001b[0m\u001b[37m━\u001b[0m \u001b[1m0s\u001b[0m 7ms/step - accuracy: 0.0920 - loss: 0.1723\n",
      "Epoch 29: val_loss improved from 0.17081 to 0.17079, saving model to best_model.weights.h5\n",
      "\u001b[1m811/811\u001b[0m \u001b[32m━━━━━━━━━━━━━━━━━━━━\u001b[0m\u001b[37m\u001b[0m \u001b[1m7s\u001b[0m 8ms/step - accuracy: 0.0920 - loss: 0.1723 - val_accuracy: 0.1421 - val_loss: 0.1708\n",
      "Epoch 30/100\n",
      "\u001b[1m809/811\u001b[0m \u001b[32m━━━━━━━━━━━━━━━━━━━\u001b[0m\u001b[37m━\u001b[0m \u001b[1m0s\u001b[0m 7ms/step - accuracy: 0.0903 - loss: 0.1733\n",
      "Epoch 30: val_loss did not improve from 0.17079\n",
      "\u001b[1m811/811\u001b[0m \u001b[32m━━━━━━━━━━━━━━━━━━━━\u001b[0m\u001b[37m\u001b[0m \u001b[1m7s\u001b[0m 8ms/step - accuracy: 0.0903 - loss: 0.1733 - val_accuracy: 0.1387 - val_loss: 0.1709\n",
      "Epoch 31/100\n",
      "\u001b[1m804/811\u001b[0m \u001b[32m━━━━━━━━━━━━━━━━━━━\u001b[0m\u001b[37m━\u001b[0m \u001b[1m0s\u001b[0m 8ms/step - accuracy: 0.0961 - loss: 0.1730\n",
      "Epoch 31: val_loss did not improve from 0.17079\n",
      "\u001b[1m811/811\u001b[0m \u001b[32m━━━━━━━━━━━━━━━━━━━━\u001b[0m\u001b[37m\u001b[0m \u001b[1m7s\u001b[0m 9ms/step - accuracy: 0.0961 - loss: 0.1730 - val_accuracy: 0.1471 - val_loss: 0.1709\n",
      "Epoch 32/100\n",
      "\u001b[1m809/811\u001b[0m \u001b[32m━━━━━━━━━━━━━━━━━━━\u001b[0m\u001b[37m━\u001b[0m \u001b[1m0s\u001b[0m 7ms/step - accuracy: 0.1018 - loss: 0.1745\n",
      "Epoch 32: val_loss did not improve from 0.17079\n",
      "\u001b[1m811/811\u001b[0m \u001b[32m━━━━━━━━━━━━━━━━━━━━\u001b[0m\u001b[37m\u001b[0m \u001b[1m7s\u001b[0m 8ms/step - accuracy: 0.1018 - loss: 0.1745 - val_accuracy: 0.0584 - val_loss: 0.1709\n",
      "Epoch 33/100\n",
      "\u001b[1m810/811\u001b[0m \u001b[32m━━━━━━━━━━━━━━━━━━━\u001b[0m\u001b[37m━\u001b[0m \u001b[1m0s\u001b[0m 7ms/step - accuracy: 0.0985 - loss: 0.1731\n",
      "Epoch 33: val_loss improved from 0.17079 to 0.17070, saving model to best_model.weights.h5\n",
      "\u001b[1m811/811\u001b[0m \u001b[32m━━━━━━━━━━━━━━━━━━━━\u001b[0m\u001b[37m\u001b[0m \u001b[1m7s\u001b[0m 8ms/step - accuracy: 0.0985 - loss: 0.1731 - val_accuracy: 0.1252 - val_loss: 0.1707\n",
      "Epoch 34/100\n",
      "\u001b[1m806/811\u001b[0m \u001b[32m━━━━━━━━━━━━━━━━━━━\u001b[0m\u001b[37m━\u001b[0m \u001b[1m0s\u001b[0m 7ms/step - accuracy: 0.0837 - loss: 0.1731\n",
      "Epoch 34: val_loss did not improve from 0.17070\n",
      "\u001b[1m811/811\u001b[0m \u001b[32m━━━━━━━━━━━━━━━━━━━━\u001b[0m\u001b[37m\u001b[0m \u001b[1m7s\u001b[0m 8ms/step - accuracy: 0.0838 - loss: 0.1731 - val_accuracy: 0.1735 - val_loss: 0.1708\n",
      "Epoch 35/100\n",
      "\u001b[1m806/811\u001b[0m \u001b[32m━━━━━━━━━━━━━━━━━━━\u001b[0m\u001b[37m━\u001b[0m \u001b[1m0s\u001b[0m 7ms/step - accuracy: 0.1177 - loss: 0.1736\n",
      "Epoch 35: val_loss did not improve from 0.17070\n",
      "\u001b[1m811/811\u001b[0m \u001b[32m━━━━━━━━━━━━━━━━━━━━\u001b[0m\u001b[37m\u001b[0m \u001b[1m7s\u001b[0m 8ms/step - accuracy: 0.1176 - loss: 0.1736 - val_accuracy: 0.1630 - val_loss: 0.1707\n",
      "Epoch 36/100\n",
      "\u001b[1m811/811\u001b[0m \u001b[32m━━━━━━━━━━━━━━━━━━━━\u001b[0m\u001b[37m\u001b[0m \u001b[1m0s\u001b[0m 7ms/step - accuracy: 0.0985 - loss: 0.1730\n",
      "Epoch 36: val_loss did not improve from 0.17070\n",
      "\u001b[1m811/811\u001b[0m \u001b[32m━━━━━━━━━━━━━━━━━━━━\u001b[0m\u001b[37m\u001b[0m \u001b[1m7s\u001b[0m 8ms/step - accuracy: 0.0985 - loss: 0.1730 - val_accuracy: 0.1320 - val_loss: 0.1708\n",
      "Epoch 37/100\n",
      "\u001b[1m810/811\u001b[0m \u001b[32m━━━━━━━━━━━━━━━━━━━\u001b[0m\u001b[37m━\u001b[0m \u001b[1m0s\u001b[0m 7ms/step - accuracy: 0.0982 - loss: 0.1727\n",
      "Epoch 37: val_loss did not improve from 0.17070\n",
      "\u001b[1m811/811\u001b[0m \u001b[32m━━━━━━━━━━━━━━━━━━━━\u001b[0m\u001b[37m\u001b[0m \u001b[1m7s\u001b[0m 8ms/step - accuracy: 0.0982 - loss: 0.1727 - val_accuracy: 0.0401 - val_loss: 0.1709\n",
      "Epoch 38/100\n",
      "\u001b[1m807/811\u001b[0m \u001b[32m━━━━━━━━━━━━━━━━━━━\u001b[0m\u001b[37m━\u001b[0m \u001b[1m0s\u001b[0m 7ms/step - accuracy: 0.0867 - loss: 0.1730\n",
      "Epoch 38: val_loss improved from 0.17070 to 0.17068, saving model to best_model.weights.h5\n",
      "\u001b[1m811/811\u001b[0m \u001b[32m━━━━━━━━━━━━━━━━━━━━\u001b[0m\u001b[37m\u001b[0m \u001b[1m7s\u001b[0m 8ms/step - accuracy: 0.0867 - loss: 0.1730 - val_accuracy: 0.0418 - val_loss: 0.1707\n",
      "Epoch 39/100\n",
      "\u001b[1m809/811\u001b[0m \u001b[32m━━━━━━━━━━━━━━━━━━━\u001b[0m\u001b[37m━\u001b[0m \u001b[1m0s\u001b[0m 7ms/step - accuracy: 0.0917 - loss: 0.1724\n",
      "Epoch 39: val_loss did not improve from 0.17068\n",
      "\u001b[1m811/811\u001b[0m \u001b[32m━━━━━━━━━━━━━━━━━━━━\u001b[0m\u001b[37m\u001b[0m \u001b[1m7s\u001b[0m 8ms/step - accuracy: 0.0917 - loss: 0.1724 - val_accuracy: 0.1353 - val_loss: 0.1707\n",
      "Epoch 40/100\n",
      "\u001b[1m807/811\u001b[0m \u001b[32m━━━━━━━━━━━━━━━━━━━\u001b[0m\u001b[37m━\u001b[0m \u001b[1m0s\u001b[0m 8ms/step - accuracy: 0.0921 - loss: 0.1728\n",
      "Epoch 40: val_loss improved from 0.17068 to 0.17068, saving model to best_model.weights.h5\n",
      "\u001b[1m811/811\u001b[0m \u001b[32m━━━━━━━━━━━━━━━━━━━━\u001b[0m\u001b[37m\u001b[0m \u001b[1m7s\u001b[0m 9ms/step - accuracy: 0.0921 - loss: 0.1728 - val_accuracy: 0.1574 - val_loss: 0.1707\n",
      "Epoch 41/100\n",
      "\u001b[1m808/811\u001b[0m \u001b[32m━━━━━━━━━━━━━━━━━━━\u001b[0m\u001b[37m━\u001b[0m \u001b[1m0s\u001b[0m 7ms/step - accuracy: 0.0845 - loss: 0.1724\n",
      "Epoch 41: val_loss improved from 0.17068 to 0.17067, saving model to best_model.weights.h5\n",
      "\u001b[1m811/811\u001b[0m \u001b[32m━━━━━━━━━━━━━━━━━━━━\u001b[0m\u001b[37m\u001b[0m \u001b[1m7s\u001b[0m 8ms/step - accuracy: 0.0845 - loss: 0.1724 - val_accuracy: 0.1460 - val_loss: 0.1707\n",
      "Epoch 42/100\n",
      "\u001b[1m807/811\u001b[0m \u001b[32m━━━━━━━━━━━━━━━━━━━\u001b[0m\u001b[37m━\u001b[0m \u001b[1m0s\u001b[0m 7ms/step - accuracy: 0.0878 - loss: 0.1730\n",
      "Epoch 42: val_loss improved from 0.17067 to 0.17061, saving model to best_model.weights.h5\n",
      "\u001b[1m811/811\u001b[0m \u001b[32m━━━━━━━━━━━━━━━━━━━━\u001b[0m\u001b[37m\u001b[0m \u001b[1m7s\u001b[0m 8ms/step - accuracy: 0.0878 - loss: 0.1730 - val_accuracy: 0.0464 - val_loss: 0.1706\n",
      "Epoch 43/100\n",
      "\u001b[1m806/811\u001b[0m \u001b[32m━━━━━━━━━━━━━━━━━━━\u001b[0m\u001b[37m━\u001b[0m \u001b[1m0s\u001b[0m 7ms/step - accuracy: 0.0830 - loss: 0.1723\n",
      "Epoch 43: val_loss did not improve from 0.17061\n",
      "\u001b[1m811/811\u001b[0m \u001b[32m━━━━━━━━━━━━━━━━━━━━\u001b[0m\u001b[37m\u001b[0m \u001b[1m7s\u001b[0m 8ms/step - accuracy: 0.0830 - loss: 0.1723 - val_accuracy: 0.0373 - val_loss: 0.1706\n",
      "Epoch 44/100\n",
      "\u001b[1m807/811\u001b[0m \u001b[32m━━━━━━━━━━━━━━━━━━━\u001b[0m\u001b[37m━\u001b[0m \u001b[1m0s\u001b[0m 7ms/step - accuracy: 0.0840 - loss: 0.1737\n",
      "Epoch 44: val_loss improved from 0.17061 to 0.17059, saving model to best_model.weights.h5\n",
      "\u001b[1m811/811\u001b[0m \u001b[32m━━━━━━━━━━━━━━━━━━━━\u001b[0m\u001b[37m\u001b[0m \u001b[1m7s\u001b[0m 8ms/step - accuracy: 0.0840 - loss: 0.1737 - val_accuracy: 0.0369 - val_loss: 0.1706\n",
      "Epoch 45/100\n",
      "\u001b[1m806/811\u001b[0m \u001b[32m━━━━━━━━━━━━━━━━━━━\u001b[0m\u001b[37m━\u001b[0m \u001b[1m0s\u001b[0m 8ms/step - accuracy: 0.1003 - loss: 0.1714\n",
      "Epoch 45: val_loss did not improve from 0.17059\n",
      "\u001b[1m811/811\u001b[0m \u001b[32m━━━━━━━━━━━━━━━━━━━━\u001b[0m\u001b[37m\u001b[0m \u001b[1m7s\u001b[0m 9ms/step - accuracy: 0.1003 - loss: 0.1714 - val_accuracy: 0.1420 - val_loss: 0.1709\n",
      "Epoch 46/100\n",
      "\u001b[1m807/811\u001b[0m \u001b[32m━━━━━━━━━━━━━━━━━━━\u001b[0m\u001b[37m━\u001b[0m \u001b[1m0s\u001b[0m 7ms/step - accuracy: 0.0834 - loss: 0.1714\n",
      "Epoch 46: val_loss did not improve from 0.17059\n",
      "\u001b[1m811/811\u001b[0m \u001b[32m━━━━━━━━━━━━━━━━━━━━\u001b[0m\u001b[37m\u001b[0m \u001b[1m7s\u001b[0m 8ms/step - accuracy: 0.0834 - loss: 0.1714 - val_accuracy: 0.1685 - val_loss: 0.1706\n",
      "Epoch 47/100\n",
      "\u001b[1m805/811\u001b[0m \u001b[32m━━━━━━━━━━━━━━━━━━━\u001b[0m\u001b[37m━\u001b[0m \u001b[1m0s\u001b[0m 7ms/step - accuracy: 0.0992 - loss: 0.1729\n",
      "Epoch 47: val_loss did not improve from 0.17059\n",
      "\u001b[1m811/811\u001b[0m \u001b[32m━━━━━━━━━━━━━━━━━━━━\u001b[0m\u001b[37m\u001b[0m \u001b[1m7s\u001b[0m 8ms/step - accuracy: 0.0992 - loss: 0.1729 - val_accuracy: 0.1515 - val_loss: 0.1706\n",
      "Epoch 48/100\n",
      "\u001b[1m805/811\u001b[0m \u001b[32m━━━━━━━━━━━━━━━━━━━\u001b[0m\u001b[37m━\u001b[0m \u001b[1m0s\u001b[0m 7ms/step - accuracy: 0.0891 - loss: 0.1714\n",
      "Epoch 48: val_loss improved from 0.17059 to 0.17051, saving model to best_model.weights.h5\n",
      "\u001b[1m811/811\u001b[0m \u001b[32m━━━━━━━━━━━━━━━━━━━━\u001b[0m\u001b[37m\u001b[0m \u001b[1m7s\u001b[0m 8ms/step - accuracy: 0.0892 - loss: 0.1714 - val_accuracy: 0.1502 - val_loss: 0.1705\n",
      "Epoch 49/100\n",
      "\u001b[1m807/811\u001b[0m \u001b[32m━━━━━━━━━━━━━━━━━━━\u001b[0m\u001b[37m━\u001b[0m \u001b[1m0s\u001b[0m 7ms/step - accuracy: 0.0898 - loss: 0.1734\n",
      "Epoch 49: val_loss did not improve from 0.17051\n",
      "\u001b[1m811/811\u001b[0m \u001b[32m━━━━━━━━━━━━━━━━━━━━\u001b[0m\u001b[37m\u001b[0m \u001b[1m7s\u001b[0m 8ms/step - accuracy: 0.0898 - loss: 0.1734 - val_accuracy: 0.1301 - val_loss: 0.1706\n",
      "Epoch 50/100\n",
      "\u001b[1m811/811\u001b[0m \u001b[32m━━━━━━━━━━━━━━━━━━━━\u001b[0m\u001b[37m\u001b[0m \u001b[1m0s\u001b[0m 8ms/step - accuracy: 0.0835 - loss: 0.1727\n",
      "Epoch 50: val_loss improved from 0.17051 to 0.17049, saving model to best_model.weights.h5\n",
      "\u001b[1m811/811\u001b[0m \u001b[32m━━━━━━━━━━━━━━━━━━━━\u001b[0m\u001b[37m\u001b[0m \u001b[1m7s\u001b[0m 9ms/step - accuracy: 0.0835 - loss: 0.1727 - val_accuracy: 0.1370 - val_loss: 0.1705\n",
      "Epoch 51/100\n",
      "\u001b[1m809/811\u001b[0m \u001b[32m━━━━━━━━━━━━━━━━━━━\u001b[0m\u001b[37m━\u001b[0m \u001b[1m0s\u001b[0m 7ms/step - accuracy: 0.0890 - loss: 0.1735\n",
      "Epoch 51: val_loss did not improve from 0.17049\n",
      "\u001b[1m811/811\u001b[0m \u001b[32m━━━━━━━━━━━━━━━━━━━━\u001b[0m\u001b[37m\u001b[0m \u001b[1m7s\u001b[0m 8ms/step - accuracy: 0.0890 - loss: 0.1735 - val_accuracy: 0.1451 - val_loss: 0.1706\n",
      "Epoch 52/100\n",
      "\u001b[1m806/811\u001b[0m \u001b[32m━━━━━━━━━━━━━━━━━━━\u001b[0m\u001b[37m━\u001b[0m \u001b[1m0s\u001b[0m 7ms/step - accuracy: 0.0872 - loss: 0.1726\n",
      "Epoch 52: val_loss improved from 0.17049 to 0.17040, saving model to best_model.weights.h5\n",
      "\u001b[1m811/811\u001b[0m \u001b[32m━━━━━━━━━━━━━━━━━━━━\u001b[0m\u001b[37m\u001b[0m \u001b[1m7s\u001b[0m 8ms/step - accuracy: 0.0872 - loss: 0.1726 - val_accuracy: 0.1456 - val_loss: 0.1704\n",
      "Epoch 53/100\n",
      "\u001b[1m808/811\u001b[0m \u001b[32m━━━━━━━━━━━━━━━━━━━\u001b[0m\u001b[37m━\u001b[0m \u001b[1m0s\u001b[0m 8ms/step - accuracy: 0.0900 - loss: 0.1737\n",
      "Epoch 53: val_loss did not improve from 0.17040\n",
      "\u001b[1m811/811\u001b[0m \u001b[32m━━━━━━━━━━━━━━━━━━━━\u001b[0m\u001b[37m\u001b[0m \u001b[1m7s\u001b[0m 8ms/step - accuracy: 0.0900 - loss: 0.1737 - val_accuracy: 0.1720 - val_loss: 0.1705\n",
      "Epoch 54/100\n",
      "\u001b[1m807/811\u001b[0m \u001b[32m━━━━━━━━━━━━━━━━━━━\u001b[0m\u001b[37m━\u001b[0m \u001b[1m0s\u001b[0m 8ms/step - accuracy: 0.1030 - loss: 0.1725\n",
      "Epoch 54: val_loss did not improve from 0.17040\n",
      "\u001b[1m811/811\u001b[0m \u001b[32m━━━━━━━━━━━━━━━━━━━━\u001b[0m\u001b[37m\u001b[0m \u001b[1m7s\u001b[0m 9ms/step - accuracy: 0.1029 - loss: 0.1725 - val_accuracy: 0.0410 - val_loss: 0.1704\n",
      "Epoch 55/100\n",
      "\u001b[1m807/811\u001b[0m \u001b[32m━━━━━━━━━━━━━━━━━━━\u001b[0m\u001b[37m━\u001b[0m \u001b[1m0s\u001b[0m 7ms/step - accuracy: 0.0905 - loss: 0.1729\n",
      "Epoch 55: val_loss did not improve from 0.17040\n",
      "\u001b[1m811/811\u001b[0m \u001b[32m━━━━━━━━━━━━━━━━━━━━\u001b[0m\u001b[37m\u001b[0m \u001b[1m7s\u001b[0m 8ms/step - accuracy: 0.0904 - loss: 0.1729 - val_accuracy: 0.1479 - val_loss: 0.1705\n",
      "Epoch 56/100\n",
      "\u001b[1m809/811\u001b[0m \u001b[32m━━━━━━━━━━━━━━━━━━━\u001b[0m\u001b[37m━\u001b[0m \u001b[1m0s\u001b[0m 7ms/step - accuracy: 0.0783 - loss: 0.1728\n",
      "Epoch 56: val_loss did not improve from 0.17040\n",
      "\u001b[1m811/811\u001b[0m \u001b[32m━━━━━━━━━━━━━━━━━━━━\u001b[0m\u001b[37m\u001b[0m \u001b[1m7s\u001b[0m 8ms/step - accuracy: 0.0783 - loss: 0.1728 - val_accuracy: 0.1737 - val_loss: 0.1705\n",
      "Epoch 57/100\n",
      "\u001b[1m810/811\u001b[0m \u001b[32m━━━━━━━━━━━━━━━━━━━\u001b[0m\u001b[37m━\u001b[0m \u001b[1m0s\u001b[0m 7ms/step - accuracy: 0.1025 - loss: 0.1712\n",
      "Epoch 57: val_loss did not improve from 0.17040\n",
      "\u001b[1m811/811\u001b[0m \u001b[32m━━━━━━━━━━━━━━━━━━━━\u001b[0m\u001b[37m\u001b[0m \u001b[1m7s\u001b[0m 8ms/step - accuracy: 0.1024 - loss: 0.1712 - val_accuracy: 0.1466 - val_loss: 0.1704\n",
      "Epoch 58/100\n",
      "\u001b[1m807/811\u001b[0m \u001b[32m━━━━━━━━━━━━━━━━━━━\u001b[0m\u001b[37m━\u001b[0m \u001b[1m0s\u001b[0m 7ms/step - accuracy: 0.1019 - loss: 0.1718\n",
      "Epoch 58: val_loss did not improve from 0.17040\n",
      "\u001b[1m811/811\u001b[0m \u001b[32m━━━━━━━━━━━━━━━━━━━━\u001b[0m\u001b[37m\u001b[0m \u001b[1m7s\u001b[0m 8ms/step - accuracy: 0.1019 - loss: 0.1718 - val_accuracy: 0.1682 - val_loss: 0.1705\n",
      "Epoch 59/100\n",
      "\u001b[1m808/811\u001b[0m \u001b[32m━━━━━━━━━━━━━━━━━━━\u001b[0m\u001b[37m━\u001b[0m \u001b[1m0s\u001b[0m 8ms/step - accuracy: 0.0955 - loss: 0.1705\n",
      "Epoch 59: val_loss improved from 0.17040 to 0.17033, saving model to best_model.weights.h5\n",
      "\u001b[1m811/811\u001b[0m \u001b[32m━━━━━━━━━━━━━━━━━━━━\u001b[0m\u001b[37m\u001b[0m \u001b[1m7s\u001b[0m 9ms/step - accuracy: 0.0955 - loss: 0.1706 - val_accuracy: 0.1466 - val_loss: 0.1703\n",
      "Epoch 60/100\n",
      "\u001b[1m807/811\u001b[0m \u001b[32m━━━━━━━━━━━━━━━━━━━\u001b[0m\u001b[37m━\u001b[0m \u001b[1m0s\u001b[0m 7ms/step - accuracy: 0.1110 - loss: 0.1718\n",
      "Epoch 60: val_loss did not improve from 0.17033\n",
      "\u001b[1m811/811\u001b[0m \u001b[32m━━━━━━━━━━━━━━━━━━━━\u001b[0m\u001b[37m\u001b[0m \u001b[1m7s\u001b[0m 8ms/step - accuracy: 0.1110 - loss: 0.1718 - val_accuracy: 0.0385 - val_loss: 0.1704\n",
      "Epoch 61/100\n",
      "\u001b[1m808/811\u001b[0m \u001b[32m━━━━━━━━━━━━━━━━━━━\u001b[0m\u001b[37m━\u001b[0m \u001b[1m0s\u001b[0m 7ms/step - accuracy: 0.0776 - loss: 0.1710\n",
      "Epoch 61: val_loss did not improve from 0.17033\n",
      "\u001b[1m811/811\u001b[0m \u001b[32m━━━━━━━━━━━━━━━━━━━━\u001b[0m\u001b[37m\u001b[0m \u001b[1m7s\u001b[0m 8ms/step - accuracy: 0.0776 - loss: 0.1710 - val_accuracy: 0.1748 - val_loss: 0.1704\n",
      "Epoch 62/100\n",
      "\u001b[1m811/811\u001b[0m \u001b[32m━━━━━━━━━━━━━━━━━━━━\u001b[0m\u001b[37m\u001b[0m \u001b[1m0s\u001b[0m 7ms/step - accuracy: 0.1092 - loss: 0.1727\n",
      "Epoch 62: val_loss did not improve from 0.17033\n",
      "\u001b[1m811/811\u001b[0m \u001b[32m━━━━━━━━━━━━━━━━━━━━\u001b[0m\u001b[37m\u001b[0m \u001b[1m7s\u001b[0m 8ms/step - accuracy: 0.1092 - loss: 0.1727 - val_accuracy: 0.0419 - val_loss: 0.1704\n",
      "Epoch 63/100\n",
      "\u001b[1m805/811\u001b[0m \u001b[32m━━━━━━━━━━━━━━━━━━━\u001b[0m\u001b[37m━\u001b[0m \u001b[1m0s\u001b[0m 7ms/step - accuracy: 0.0832 - loss: 0.1724\n",
      "Epoch 63: val_loss did not improve from 0.17033\n",
      "\u001b[1m811/811\u001b[0m \u001b[32m━━━━━━━━━━━━━━━━━━━━\u001b[0m\u001b[37m\u001b[0m \u001b[1m7s\u001b[0m 8ms/step - accuracy: 0.0832 - loss: 0.1724 - val_accuracy: 0.1452 - val_loss: 0.1705\n",
      "Epoch 64/100\n",
      "\u001b[1m808/811\u001b[0m \u001b[32m━━━━━━━━━━━━━━━━━━━\u001b[0m\u001b[37m━\u001b[0m \u001b[1m0s\u001b[0m 8ms/step - accuracy: 0.0913 - loss: 0.1717\n",
      "Epoch 64: val_loss did not improve from 0.17033\n",
      "\u001b[1m811/811\u001b[0m \u001b[32m━━━━━━━━━━━━━━━━━━━━\u001b[0m\u001b[37m\u001b[0m \u001b[1m7s\u001b[0m 9ms/step - accuracy: 0.0914 - loss: 0.1717 - val_accuracy: 0.1822 - val_loss: 0.1703\n",
      "Epoch 65/100\n",
      "\u001b[1m810/811\u001b[0m \u001b[32m━━━━━━━━━━━━━━━━━━━\u001b[0m\u001b[37m━\u001b[0m \u001b[1m0s\u001b[0m 7ms/step - accuracy: 0.0991 - loss: 0.1716\n",
      "Epoch 65: val_loss did not improve from 0.17033\n",
      "\u001b[1m811/811\u001b[0m \u001b[32m━━━━━━━━━━━━━━━━━━━━\u001b[0m\u001b[37m\u001b[0m \u001b[1m7s\u001b[0m 8ms/step - accuracy: 0.0991 - loss: 0.1716 - val_accuracy: 0.1662 - val_loss: 0.1704\n",
      "Epoch 66/100\n",
      "\u001b[1m809/811\u001b[0m \u001b[32m━━━━━━━━━━━━━━━━━━━\u001b[0m\u001b[37m━\u001b[0m \u001b[1m0s\u001b[0m 7ms/step - accuracy: 0.0909 - loss: 0.1712\n",
      "Epoch 66: val_loss did not improve from 0.17033\n",
      "\u001b[1m811/811\u001b[0m \u001b[32m━━━━━━━━━━━━━━━━━━━━\u001b[0m\u001b[37m\u001b[0m \u001b[1m7s\u001b[0m 8ms/step - accuracy: 0.0909 - loss: 0.1712 - val_accuracy: 0.1663 - val_loss: 0.1704\n",
      "Epoch 67/100\n",
      "\u001b[1m807/811\u001b[0m \u001b[32m━━━━━━━━━━━━━━━━━━━\u001b[0m\u001b[37m━\u001b[0m \u001b[1m0s\u001b[0m 7ms/step - accuracy: 0.1108 - loss: 0.1697\n",
      "Epoch 67: val_loss improved from 0.17033 to 0.17024, saving model to best_model.weights.h5\n",
      "\u001b[1m811/811\u001b[0m \u001b[32m━━━━━━━━━━━━━━━━━━━━\u001b[0m\u001b[37m\u001b[0m \u001b[1m7s\u001b[0m 8ms/step - accuracy: 0.1108 - loss: 0.1697 - val_accuracy: 0.1344 - val_loss: 0.1702\n",
      "Epoch 68/100\n",
      "\u001b[1m808/811\u001b[0m \u001b[32m━━━━━━━━━━━━━━━━━━━\u001b[0m\u001b[37m━\u001b[0m \u001b[1m0s\u001b[0m 7ms/step - accuracy: 0.0931 - loss: 0.1717\n",
      "Epoch 68: val_loss did not improve from 0.17024\n",
      "\u001b[1m811/811\u001b[0m \u001b[32m━━━━━━━━━━━━━━━━━━━━\u001b[0m\u001b[37m\u001b[0m \u001b[1m7s\u001b[0m 9ms/step - accuracy: 0.0931 - loss: 0.1717 - val_accuracy: 0.1697 - val_loss: 0.1703\n",
      "Epoch 69/100\n",
      "\u001b[1m805/811\u001b[0m \u001b[32m━━━━━━━━━━━━━━━━━━━\u001b[0m\u001b[37m━\u001b[0m \u001b[1m0s\u001b[0m 7ms/step - accuracy: 0.0923 - loss: 0.1719\n",
      "Epoch 69: val_loss improved from 0.17024 to 0.17021, saving model to best_model.weights.h5\n",
      "\u001b[1m811/811\u001b[0m \u001b[32m━━━━━━━━━━━━━━━━━━━━\u001b[0m\u001b[37m\u001b[0m \u001b[1m7s\u001b[0m 8ms/step - accuracy: 0.0923 - loss: 0.1719 - val_accuracy: 0.1740 - val_loss: 0.1702\n",
      "Epoch 70/100\n",
      "\u001b[1m805/811\u001b[0m \u001b[32m━━━━━━━━━━━━━━━━━━━\u001b[0m\u001b[37m━\u001b[0m \u001b[1m0s\u001b[0m 7ms/step - accuracy: 0.1143 - loss: 0.1720\n",
      "Epoch 70: val_loss did not improve from 0.17021\n",
      "\u001b[1m811/811\u001b[0m \u001b[32m━━━━━━━━━━━━━━━━━━━━\u001b[0m\u001b[37m\u001b[0m \u001b[1m7s\u001b[0m 8ms/step - accuracy: 0.1143 - loss: 0.1720 - val_accuracy: 0.1556 - val_loss: 0.1702\n",
      "Epoch 71/100\n",
      "\u001b[1m811/811\u001b[0m \u001b[32m━━━━━━━━━━━━━━━━━━━━\u001b[0m\u001b[37m\u001b[0m \u001b[1m0s\u001b[0m 7ms/step - accuracy: 0.0952 - loss: 0.1728\n",
      "Epoch 71: val_loss improved from 0.17021 to 0.17016, saving model to best_model.weights.h5\n",
      "\u001b[1m811/811\u001b[0m \u001b[32m━━━━━━━━━━━━━━━━━━━━\u001b[0m\u001b[37m\u001b[0m \u001b[1m7s\u001b[0m 8ms/step - accuracy: 0.0952 - loss: 0.1727 - val_accuracy: 0.1456 - val_loss: 0.1702\n",
      "Epoch 72/100\n",
      "\u001b[1m808/811\u001b[0m \u001b[32m━━━━━━━━━━━━━━━━━━━\u001b[0m\u001b[37m━\u001b[0m \u001b[1m0s\u001b[0m 7ms/step - accuracy: 0.1016 - loss: 0.1715\n",
      "Epoch 72: val_loss improved from 0.17016 to 0.17013, saving model to best_model.weights.h5\n",
      "\u001b[1m811/811\u001b[0m \u001b[32m━━━━━━━━━━━━━━━━━━━━\u001b[0m\u001b[37m\u001b[0m \u001b[1m7s\u001b[0m 8ms/step - accuracy: 0.1016 - loss: 0.1715 - val_accuracy: 0.0469 - val_loss: 0.1701\n",
      "Epoch 73/100\n",
      "\u001b[1m810/811\u001b[0m \u001b[32m━━━━━━━━━━━━━━━━━━━\u001b[0m\u001b[37m━\u001b[0m \u001b[1m0s\u001b[0m 8ms/step - accuracy: 0.1012 - loss: 0.1721\n",
      "Epoch 73: val_loss improved from 0.17013 to 0.17012, saving model to best_model.weights.h5\n",
      "\u001b[1m811/811\u001b[0m \u001b[32m━━━━━━━━━━━━━━━━━━━━\u001b[0m\u001b[37m\u001b[0m \u001b[1m7s\u001b[0m 9ms/step - accuracy: 0.1012 - loss: 0.1721 - val_accuracy: 0.1431 - val_loss: 0.1701\n",
      "Epoch 74/100\n",
      "\u001b[1m806/811\u001b[0m \u001b[32m━━━━━━━━━━━━━━━━━━━\u001b[0m\u001b[37m━\u001b[0m \u001b[1m0s\u001b[0m 7ms/step - accuracy: 0.0908 - loss: 0.1712\n",
      "Epoch 74: val_loss did not improve from 0.17012\n",
      "\u001b[1m811/811\u001b[0m \u001b[32m━━━━━━━━━━━━━━━━━━━━\u001b[0m\u001b[37m\u001b[0m \u001b[1m7s\u001b[0m 8ms/step - accuracy: 0.0908 - loss: 0.1712 - val_accuracy: 0.1809 - val_loss: 0.1702\n",
      "Epoch 75/100\n",
      "\u001b[1m805/811\u001b[0m \u001b[32m━━━━━━━━━━━━━━━━━━━\u001b[0m\u001b[37m━\u001b[0m \u001b[1m0s\u001b[0m 7ms/step - accuracy: 0.1205 - loss: 0.1700\n",
      "Epoch 75: val_loss improved from 0.17012 to 0.17011, saving model to best_model.weights.h5\n",
      "\u001b[1m811/811\u001b[0m \u001b[32m━━━━━━━━━━━━━━━━━━━━\u001b[0m\u001b[37m\u001b[0m \u001b[1m7s\u001b[0m 8ms/step - accuracy: 0.1204 - loss: 0.1700 - val_accuracy: 0.0469 - val_loss: 0.1701\n",
      "Epoch 76/100\n",
      "\u001b[1m808/811\u001b[0m \u001b[32m━━━━━━━━━━━━━━━━━━━\u001b[0m\u001b[37m━\u001b[0m \u001b[1m0s\u001b[0m 7ms/step - accuracy: 0.1053 - loss: 0.1711\n",
      "Epoch 76: val_loss improved from 0.17011 to 0.17006, saving model to best_model.weights.h5\n",
      "\u001b[1m811/811\u001b[0m \u001b[32m━━━━━━━━━━━━━━━━━━━━\u001b[0m\u001b[37m\u001b[0m \u001b[1m7s\u001b[0m 8ms/step - accuracy: 0.1052 - loss: 0.1711 - val_accuracy: 0.1453 - val_loss: 0.1701\n",
      "Epoch 77/100\n",
      "\u001b[1m811/811\u001b[0m \u001b[32m━━━━━━━━━━━━━━━━━━━━\u001b[0m\u001b[37m\u001b[0m \u001b[1m0s\u001b[0m 7ms/step - accuracy: 0.0916 - loss: 0.1719\n",
      "Epoch 77: val_loss did not improve from 0.17006\n",
      "\u001b[1m811/811\u001b[0m \u001b[32m━━━━━━━━━━━━━━━━━━━━\u001b[0m\u001b[37m\u001b[0m \u001b[1m7s\u001b[0m 8ms/step - accuracy: 0.0916 - loss: 0.1719 - val_accuracy: 0.1470 - val_loss: 0.1702\n",
      "Epoch 78/100\n",
      "\u001b[1m810/811\u001b[0m \u001b[32m━━━━━━━━━━━━━━━━━━━\u001b[0m\u001b[37m━\u001b[0m \u001b[1m0s\u001b[0m 8ms/step - accuracy: 0.1021 - loss: 0.1700\n",
      "Epoch 78: val_loss improved from 0.17006 to 0.17001, saving model to best_model.weights.h5\n",
      "\u001b[1m811/811\u001b[0m \u001b[32m━━━━━━━━━━━━━━━━━━━━\u001b[0m\u001b[37m\u001b[0m \u001b[1m7s\u001b[0m 9ms/step - accuracy: 0.1021 - loss: 0.1700 - val_accuracy: 0.1516 - val_loss: 0.1700\n",
      "Epoch 79/100\n",
      "\u001b[1m811/811\u001b[0m \u001b[32m━━━━━━━━━━━━━━━━━━━━\u001b[0m\u001b[37m\u001b[0m \u001b[1m0s\u001b[0m 8ms/step - accuracy: 0.0998 - loss: 0.1697\n",
      "Epoch 79: val_loss did not improve from 0.17001\n",
      "\u001b[1m811/811\u001b[0m \u001b[32m━━━━━━━━━━━━━━━━━━━━\u001b[0m\u001b[37m\u001b[0m \u001b[1m7s\u001b[0m 9ms/step - accuracy: 0.0998 - loss: 0.1697 - val_accuracy: 0.1611 - val_loss: 0.1701\n",
      "Epoch 80/100\n",
      "\u001b[1m806/811\u001b[0m \u001b[32m━━━━━━━━━━━━━━━━━━━\u001b[0m\u001b[37m━\u001b[0m \u001b[1m0s\u001b[0m 7ms/step - accuracy: 0.1078 - loss: 0.1720\n",
      "Epoch 80: val_loss improved from 0.17001 to 0.16999, saving model to best_model.weights.h5\n",
      "\u001b[1m811/811\u001b[0m \u001b[32m━━━━━━━━━━━━━━━━━━━━\u001b[0m\u001b[37m\u001b[0m \u001b[1m7s\u001b[0m 8ms/step - accuracy: 0.1078 - loss: 0.1720 - val_accuracy: 0.1376 - val_loss: 0.1700\n",
      "Epoch 81/100\n",
      "\u001b[1m808/811\u001b[0m \u001b[32m━━━━━━━━━━━━━━━━━━━\u001b[0m\u001b[37m━\u001b[0m \u001b[1m0s\u001b[0m 7ms/step - accuracy: 0.1147 - loss: 0.1708\n",
      "Epoch 81: val_loss did not improve from 0.16999\n",
      "\u001b[1m811/811\u001b[0m \u001b[32m━━━━━━━━━━━━━━━━━━━━\u001b[0m\u001b[37m\u001b[0m \u001b[1m7s\u001b[0m 8ms/step - accuracy: 0.1147 - loss: 0.1708 - val_accuracy: 0.0534 - val_loss: 0.1701\n",
      "Epoch 82/100\n",
      "\u001b[1m811/811\u001b[0m \u001b[32m━━━━━━━━━━━━━━━━━━━━\u001b[0m\u001b[37m\u001b[0m \u001b[1m0s\u001b[0m 8ms/step - accuracy: 0.1015 - loss: 0.1698\n",
      "Epoch 82: val_loss improved from 0.16999 to 0.16991, saving model to best_model.weights.h5\n",
      "\u001b[1m811/811\u001b[0m \u001b[32m━━━━━━━━━━━━━━━━━━━━\u001b[0m\u001b[37m\u001b[0m \u001b[1m7s\u001b[0m 9ms/step - accuracy: 0.1015 - loss: 0.1698 - val_accuracy: 0.1636 - val_loss: 0.1699\n",
      "Epoch 83/100\n",
      "\u001b[1m806/811\u001b[0m \u001b[32m━━━━━━━━━━━━━━━━━━━\u001b[0m\u001b[37m━\u001b[0m \u001b[1m0s\u001b[0m 7ms/step - accuracy: 0.1000 - loss: 0.1710\n",
      "Epoch 83: val_loss did not improve from 0.16991\n",
      "\u001b[1m811/811\u001b[0m \u001b[32m━━━━━━━━━━━━━━━━━━━━\u001b[0m\u001b[37m\u001b[0m \u001b[1m7s\u001b[0m 8ms/step - accuracy: 0.1001 - loss: 0.1710 - val_accuracy: 0.1497 - val_loss: 0.1700\n",
      "Epoch 84/100\n",
      "\u001b[1m811/811\u001b[0m \u001b[32m━━━━━━━━━━━━━━━━━━━━\u001b[0m\u001b[37m\u001b[0m \u001b[1m0s\u001b[0m 7ms/step - accuracy: 0.1094 - loss: 0.1721\n",
      "Epoch 84: val_loss did not improve from 0.16991\n",
      "\u001b[1m811/811\u001b[0m \u001b[32m━━━━━━━━━━━━━━━━━━━━\u001b[0m\u001b[37m\u001b[0m \u001b[1m7s\u001b[0m 8ms/step - accuracy: 0.1094 - loss: 0.1721 - val_accuracy: 0.1725 - val_loss: 0.1700\n",
      "Epoch 85/100\n",
      "\u001b[1m811/811\u001b[0m \u001b[32m━━━━━━━━━━━━━━━━━━━━\u001b[0m\u001b[37m\u001b[0m \u001b[1m0s\u001b[0m 7ms/step - accuracy: 0.1151 - loss: 0.1709\n",
      "Epoch 85: val_loss improved from 0.16991 to 0.16987, saving model to best_model.weights.h5\n",
      "\u001b[1m811/811\u001b[0m \u001b[32m━━━━━━━━━━━━━━━━━━━━\u001b[0m\u001b[37m\u001b[0m \u001b[1m7s\u001b[0m 8ms/step - accuracy: 0.1151 - loss: 0.1709 - val_accuracy: 0.0561 - val_loss: 0.1699\n",
      "Epoch 86/100\n",
      "\u001b[1m810/811\u001b[0m \u001b[32m━━━━━━━━━━━━━━━━━━━\u001b[0m\u001b[37m━\u001b[0m \u001b[1m0s\u001b[0m 7ms/step - accuracy: 0.1063 - loss: 0.1701\n",
      "Epoch 86: val_loss improved from 0.16987 to 0.16981, saving model to best_model.weights.h5\n",
      "\u001b[1m811/811\u001b[0m \u001b[32m━━━━━━━━━━━━━━━━━━━━\u001b[0m\u001b[37m\u001b[0m \u001b[1m7s\u001b[0m 8ms/step - accuracy: 0.1063 - loss: 0.1701 - val_accuracy: 0.1515 - val_loss: 0.1698\n",
      "Epoch 87/100\n",
      "\u001b[1m811/811\u001b[0m \u001b[32m━━━━━━━━━━━━━━━━━━━━\u001b[0m\u001b[37m\u001b[0m \u001b[1m0s\u001b[0m 8ms/step - accuracy: 0.1086 - loss: 0.1709\n",
      "Epoch 87: val_loss improved from 0.16981 to 0.16979, saving model to best_model.weights.h5\n",
      "\u001b[1m811/811\u001b[0m \u001b[32m━━━━━━━━━━━━━━━━━━━━\u001b[0m\u001b[37m\u001b[0m \u001b[1m7s\u001b[0m 9ms/step - accuracy: 0.1086 - loss: 0.1709 - val_accuracy: 0.1596 - val_loss: 0.1698\n",
      "Epoch 88/100\n",
      "\u001b[1m810/811\u001b[0m \u001b[32m━━━━━━━━━━━━━━━━━━━\u001b[0m\u001b[37m━\u001b[0m \u001b[1m0s\u001b[0m 7ms/step - accuracy: 0.1151 - loss: 0.1698\n",
      "Epoch 88: val_loss improved from 0.16979 to 0.16970, saving model to best_model.weights.h5\n",
      "\u001b[1m811/811\u001b[0m \u001b[32m━━━━━━━━━━━━━━━━━━━━\u001b[0m\u001b[37m\u001b[0m \u001b[1m7s\u001b[0m 8ms/step - accuracy: 0.1151 - loss: 0.1698 - val_accuracy: 0.1519 - val_loss: 0.1697\n",
      "Epoch 89/100\n",
      "\u001b[1m808/811\u001b[0m \u001b[32m━━━━━━━━━━━━━━━━━━━\u001b[0m\u001b[37m━\u001b[0m \u001b[1m0s\u001b[0m 7ms/step - accuracy: 0.1116 - loss: 0.1694\n",
      "Epoch 89: val_loss did not improve from 0.16970\n",
      "\u001b[1m811/811\u001b[0m \u001b[32m━━━━━━━━━━━━━━━━━━━━\u001b[0m\u001b[37m\u001b[0m \u001b[1m7s\u001b[0m 8ms/step - accuracy: 0.1117 - loss: 0.1694 - val_accuracy: 0.1681 - val_loss: 0.1698\n",
      "Epoch 90/100\n",
      "\u001b[1m811/811\u001b[0m \u001b[32m━━━━━━━━━━━━━━━━━━━━\u001b[0m\u001b[37m\u001b[0m \u001b[1m0s\u001b[0m 7ms/step - accuracy: 0.1082 - loss: 0.1712\n",
      "Epoch 90: val_loss improved from 0.16970 to 0.16967, saving model to best_model.weights.h5\n",
      "\u001b[1m811/811\u001b[0m \u001b[32m━━━━━━━━━━━━━━━━━━━━\u001b[0m\u001b[37m\u001b[0m \u001b[1m7s\u001b[0m 8ms/step - accuracy: 0.1082 - loss: 0.1712 - val_accuracy: 0.1592 - val_loss: 0.1697\n",
      "Epoch 91/100\n",
      "\u001b[1m808/811\u001b[0m \u001b[32m━━━━━━━━━━━━━━━━━━━\u001b[0m\u001b[37m━\u001b[0m \u001b[1m0s\u001b[0m 7ms/step - accuracy: 0.1051 - loss: 0.1697\n",
      "Epoch 91: val_loss did not improve from 0.16967\n",
      "\u001b[1m811/811\u001b[0m \u001b[32m━━━━━━━━━━━━━━━━━━━━\u001b[0m\u001b[37m\u001b[0m \u001b[1m7s\u001b[0m 8ms/step - accuracy: 0.1051 - loss: 0.1697 - val_accuracy: 0.1975 - val_loss: 0.1697\n",
      "Epoch 92/100\n",
      "\u001b[1m805/811\u001b[0m \u001b[32m━━━━━━━━━━━━━━━━━━━\u001b[0m\u001b[37m━\u001b[0m \u001b[1m0s\u001b[0m 8ms/step - accuracy: 0.1278 - loss: 0.1700\n",
      "Epoch 92: val_loss improved from 0.16967 to 0.16959, saving model to best_model.weights.h5\n",
      "\u001b[1m811/811\u001b[0m \u001b[32m━━━━━━━━━━━━━━━━━━━━\u001b[0m\u001b[37m\u001b[0m \u001b[1m7s\u001b[0m 9ms/step - accuracy: 0.1278 - loss: 0.1700 - val_accuracy: 0.1901 - val_loss: 0.1696\n",
      "Epoch 93/100\n",
      "\u001b[1m805/811\u001b[0m \u001b[32m━━━━━━━━━━━━━━━━━━━\u001b[0m\u001b[37m━\u001b[0m \u001b[1m0s\u001b[0m 7ms/step - accuracy: 0.1274 - loss: 0.1709\n",
      "Epoch 93: val_loss improved from 0.16959 to 0.16951, saving model to best_model.weights.h5\n",
      "\u001b[1m811/811\u001b[0m \u001b[32m━━━━━━━━━━━━━━━━━━━━\u001b[0m\u001b[37m\u001b[0m \u001b[1m7s\u001b[0m 8ms/step - accuracy: 0.1274 - loss: 0.1709 - val_accuracy: 0.1778 - val_loss: 0.1695\n",
      "Epoch 94/100\n",
      "\u001b[1m810/811\u001b[0m \u001b[32m━━━━━━━━━━━━━━━━━━━\u001b[0m\u001b[37m━\u001b[0m \u001b[1m0s\u001b[0m 7ms/step - accuracy: 0.1175 - loss: 0.1705\n",
      "Epoch 94: val_loss did not improve from 0.16951\n",
      "\u001b[1m811/811\u001b[0m \u001b[32m━━━━━━━━━━━━━━━━━━━━\u001b[0m\u001b[37m\u001b[0m \u001b[1m7s\u001b[0m 8ms/step - accuracy: 0.1175 - loss: 0.1705 - val_accuracy: 0.1799 - val_loss: 0.1695\n",
      "Epoch 95/100\n",
      "\u001b[1m806/811\u001b[0m \u001b[32m━━━━━━━━━━━━━━━━━━━\u001b[0m\u001b[37m━\u001b[0m \u001b[1m0s\u001b[0m 7ms/step - accuracy: 0.1147 - loss: 0.1703\n",
      "Epoch 95: val_loss improved from 0.16951 to 0.16939, saving model to best_model.weights.h5\n",
      "\u001b[1m811/811\u001b[0m \u001b[32m━━━━━━━━━━━━━━━━━━━━\u001b[0m\u001b[37m\u001b[0m \u001b[1m7s\u001b[0m 8ms/step - accuracy: 0.1148 - loss: 0.1703 - val_accuracy: 0.1688 - val_loss: 0.1694\n",
      "Epoch 96/100\n",
      "\u001b[1m811/811\u001b[0m \u001b[32m━━━━━━━━━━━━━━━━━━━━\u001b[0m\u001b[37m\u001b[0m \u001b[1m0s\u001b[0m 7ms/step - accuracy: 0.1266 - loss: 0.1706\n",
      "Epoch 96: val_loss improved from 0.16939 to 0.16932, saving model to best_model.weights.h5\n",
      "\u001b[1m811/811\u001b[0m \u001b[32m━━━━━━━━━━━━━━━━━━━━\u001b[0m\u001b[37m\u001b[0m \u001b[1m7s\u001b[0m 9ms/step - accuracy: 0.1266 - loss: 0.1706 - val_accuracy: 0.1719 - val_loss: 0.1693\n",
      "Epoch 97/100\n",
      "\u001b[1m808/811\u001b[0m \u001b[32m━━━━━━━━━━━━━━━━━━━\u001b[0m\u001b[37m━\u001b[0m \u001b[1m0s\u001b[0m 7ms/step - accuracy: 0.1104 - loss: 0.1702\n",
      "Epoch 97: val_loss did not improve from 0.16932\n",
      "\u001b[1m811/811\u001b[0m \u001b[32m━━━━━━━━━━━━━━━━━━━━\u001b[0m\u001b[37m\u001b[0m \u001b[1m7s\u001b[0m 8ms/step - accuracy: 0.1104 - loss: 0.1702 - val_accuracy: 0.1983 - val_loss: 0.1698\n",
      "Epoch 98/100\n",
      "\u001b[1m811/811\u001b[0m \u001b[32m━━━━━━━━━━━━━━━━━━━━\u001b[0m\u001b[37m\u001b[0m \u001b[1m0s\u001b[0m 7ms/step - accuracy: 0.1262 - loss: 0.1706\n",
      "Epoch 98: val_loss did not improve from 0.16932\n",
      "\u001b[1m811/811\u001b[0m \u001b[32m━━━━━━━━━━━━━━━━━━━━\u001b[0m\u001b[37m\u001b[0m \u001b[1m7s\u001b[0m 8ms/step - accuracy: 0.1262 - loss: 0.1706 - val_accuracy: 0.1662 - val_loss: 0.1693\n",
      "Epoch 99/100\n",
      "\u001b[1m808/811\u001b[0m \u001b[32m━━━━━━━━━━━━━━━━━━━\u001b[0m\u001b[37m━\u001b[0m \u001b[1m0s\u001b[0m 7ms/step - accuracy: 0.1246 - loss: 0.1687\n",
      "Epoch 99: val_loss improved from 0.16932 to 0.16919, saving model to best_model.weights.h5\n",
      "\u001b[1m811/811\u001b[0m \u001b[32m━━━━━━━━━━━━━━━━━━━━\u001b[0m\u001b[37m\u001b[0m \u001b[1m7s\u001b[0m 8ms/step - accuracy: 0.1246 - loss: 0.1687 - val_accuracy: 0.1651 - val_loss: 0.1692\n",
      "Epoch 100/100\n",
      "\u001b[1m805/811\u001b[0m \u001b[32m━━━━━━━━━━━━━━━━━━━\u001b[0m\u001b[37m━\u001b[0m \u001b[1m0s\u001b[0m 7ms/step - accuracy: 0.1167 - loss: 0.1692\n",
      "Epoch 100: val_loss did not improve from 0.16919\n",
      "\u001b[1m811/811\u001b[0m \u001b[32m━━━━━━━━━━━━━━━━━━━━\u001b[0m\u001b[37m\u001b[0m \u001b[1m7s\u001b[0m 8ms/step - accuracy: 0.1168 - loss: 0.1692 - val_accuracy: 0.1555 - val_loss: 0.1693\n"
     ]
    }
   ],
   "source": [
    "history = model.fit(\n",
    "    X_train, Y_train,\n",
    "    epochs=100,\n",
    "    batch_size=64,\n",
    "    validation_data=(X_cv, Y_cv),\n",
    "    callbacks=[checkpoint]  # You can add ModelCheckpoint or EarlyStopping if needed\n",
    ")"
   ]
  },
  {
   "cell_type": "code",
   "execution_count": 21,
   "id": "8c56e44c",
   "metadata": {
    "execution": {
     "iopub.execute_input": "2025-04-17T19:18:37.206881Z",
     "iopub.status.busy": "2025-04-17T19:18:37.206044Z",
     "iopub.status.idle": "2025-04-17T19:18:37.514796Z",
     "shell.execute_reply": "2025-04-17T19:18:37.513963Z"
    },
    "papermill": {
     "duration": 0.938612,
     "end_time": "2025-04-17T19:18:37.516122",
     "exception": false,
     "start_time": "2025-04-17T19:18:36.577510",
     "status": "completed"
    },
    "tags": []
   },
   "outputs": [
    {
     "data": {
      "text/plain": [
       "[<matplotlib.lines.Line2D at 0x7f252b769fd0>]"
      ]
     },
     "execution_count": 21,
     "metadata": {},
     "output_type": "execute_result"
    },
    {
     "data": {
      "image/png": "[encoded data removed]",
      "text/plain": [
       "<Figure size 640x480 with 1 Axes>"
      ]
     },
     "metadata": {},
     "output_type": "display_data"
    }
   ],
   "source": [
    "plt.plot(history.history['val_accuracy'])"
   ]
  },
  {
   "cell_type": "code",
   "execution_count": 22,
   "id": "d6dec769",
   "metadata": {
    "execution": {
     "iopub.execute_input": "2025-04-17T19:18:38.738847Z",
     "iopub.status.busy": "2025-04-17T19:18:38.738002Z",
     "iopub.status.idle": "2025-04-17T19:18:46.443640Z",
     "shell.execute_reply": "2025-04-17T19:18:46.442730Z"
    },
    "papermill": {
     "duration": 8.365391,
     "end_time": "2025-04-17T19:18:46.445307",
     "exception": false,
     "start_time": "2025-04-17T19:18:38.079916",
     "status": "completed"
    },
    "tags": []
   },
   "outputs": [
    {
     "name": "stdout",
     "output_type": "stream",
     "text": [
      "\u001b[1m1621/1621\u001b[0m \u001b[32m━━━━━━━━━━━━━━━━━━━━\u001b[0m\u001b[37m\u001b[0m \u001b[1m4s\u001b[0m 2ms/step\n",
      "Training Data:\n",
      "Accuracy is  0.5192856591838308\n",
      "Precision is  0.0\n"
     ]
    },
    {
     "name": "stderr",
     "output_type": "stream",
     "text": [
      "/usr/local/lib/python3.11/dist-packages/sklearn/metrics/_classification.py:1344: UndefinedMetricWarning: Precision is ill-defined and being set to 0.0 in labels with no predicted samples. Use `zero_division` parameter to control this behavior.\n",
      "  _warn_prf(average, modifier, msg_start, len(result))\n"
     ]
    },
    {
     "name": "stdout",
     "output_type": "stream",
     "text": [
      "Recall is  0.0\n",
      "F1 Score is  0.0\n",
      "\u001b[1m541/541\u001b[0m \u001b[32m━━━━━━━━━━━━━━━━━━━━\u001b[0m\u001b[37m\u001b[0m \u001b[1m1s\u001b[0m 2ms/step\n",
      "Validation Data:\n",
      "Accuracy is  0.5150428141633882\n",
      "Precision is  0.0\n",
      "Recall is  0.0\n",
      "F1 Score is  0.0\n"
     ]
    },
    {
     "name": "stderr",
     "output_type": "stream",
     "text": [
      "/usr/local/lib/python3.11/dist-packages/sklearn/metrics/_classification.py:1344: UndefinedMetricWarning: Precision is ill-defined and being set to 0.0 in labels with no predicted samples. Use `zero_division` parameter to control this behavior.\n",
      "  _warn_prf(average, modifier, msg_start, len(result))\n"
     ]
    }
   ],
   "source": [
    "pred_train=model.predict(X_train)\n",
    "pred_train_bin= (pred_train > 0.5).astype(int)\n",
    "print(\"Training Data:\")\n",
    "\n",
    "print(\"Accuracy is \",accuracy_score(Y_train,pred_train_bin))\n",
    "print(\"Precision is \",precision_score(Y_train,pred_train_bin,average='macro'))\n",
    "print(\"Recall is \",recall_score(Y_train,pred_train_bin,average='macro'))\n",
    "print(\"F1 Score is \",f1_score(Y_train,pred_train_bin,average='macro'))\n",
    "\n",
    "pred_val=model.predict(X_cv)\n",
    "pred_val_bin= (pred_val > 0.5).astype(int)\n",
    "print(\"Validation Data:\")\n",
    "\n",
    "print(\"Accuracy is \",accuracy_score(Y_cv,pred_val_bin))\n",
    "print(\"Precision is \",precision_score(Y_cv,pred_val_bin,average='macro'))\n",
    "print(\"Recall is \",recall_score(Y_cv,pred_val_bin,average='macro'))\n",
    "print(\"F1 Score is \",f1_score(Y_cv,pred_val_bin,average='macro'))\n"
   ]
  },
  {
   "cell_type": "code",
   "execution_count": 23,
   "id": "f93a819b",
   "metadata": {
    "execution": {
     "iopub.execute_input": "2025-04-17T19:18:47.661732Z",
     "iopub.status.busy": "2025-04-17T19:18:47.660779Z",
     "iopub.status.idle": "2025-04-17T19:18:54.669791Z",
     "shell.execute_reply": "2025-04-17T19:18:54.668799Z"
    },
    "papermill": {
     "duration": 7.62215,
     "end_time": "2025-04-17T19:18:54.671143",
     "exception": false,
     "start_time": "2025-04-17T19:18:47.048993",
     "status": "completed"
    },
    "tags": []
   },
   "outputs": [
    {
     "name": "stderr",
     "output_type": "stream",
     "text": [
      "/usr/local/lib/python3.11/dist-packages/keras/src/saving/saving_lib.py:713: UserWarning: Skipping variable loading for optimizer 'adam', because it has 2 variables whereas the saved optimizer has 22 variables. \n",
      "  saveable.load_own_variables(weights_store.get(inner_path))\n"
     ]
    },
    {
     "name": "stdout",
     "output_type": "stream",
     "text": [
      "\u001b[1m541/541\u001b[0m \u001b[32m━━━━━━━━━━━━━━━━━━━━\u001b[0m\u001b[37m\u001b[0m \u001b[1m2s\u001b[0m 3ms/step\n",
      "\u001b[1m1621/1621\u001b[0m \u001b[32m━━━━━━━━━━━━━━━━━━━━\u001b[0m\u001b[37m\u001b[0m \u001b[1m4s\u001b[0m 2ms/step\n",
      "Training Data:\n",
      "Accuracy is  0.5192856591838308\n",
      "Precision is  0.0\n"
     ]
    },
    {
     "name": "stderr",
     "output_type": "stream",
     "text": [
      "/usr/local/lib/python3.11/dist-packages/sklearn/metrics/_classification.py:1344: UndefinedMetricWarning: Precision is ill-defined and being set to 0.0 in labels with no predicted samples. Use `zero_division` parameter to control this behavior.\n",
      "  _warn_prf(average, modifier, msg_start, len(result))\n"
     ]
    },
    {
     "name": "stdout",
     "output_type": "stream",
     "text": [
      "Recall is  0.0\n",
      "F1 Score is  0.0\n",
      "Validation Data:\n",
      "Accuracy is  0.5150428141633882\n",
      "Precision is  0.0\n",
      "Recall is  0.0\n",
      "F1 Score is  0.0\n"
     ]
    },
    {
     "name": "stderr",
     "output_type": "stream",
     "text": [
      "/usr/local/lib/python3.11/dist-packages/sklearn/metrics/_classification.py:1344: UndefinedMetricWarning: Precision is ill-defined and being set to 0.0 in labels with no predicted samples. Use `zero_division` parameter to control this behavior.\n",
      "  _warn_prf(average, modifier, msg_start, len(result))\n"
     ]
    }
   ],
   "source": [
    "\n",
    "model_best = clone_model(model)\n",
    "\n",
    "# Important: you need to compile it again\n",
    "model_best.compile(optimizer='adam', loss='binary_crossentropy', metrics=['accuracy'])\n",
    "# Load the best saved weights\n",
    "model_best.load_weights('best_model.weights.h5')\n",
    "pred_val=model_best.predict(X_cv)\n",
    "pred_val_bin= (pred_val > 0.5).astype(int)\n",
    "pred_train=model_best.predict(X_train)\n",
    "pred_train_bin= (pred_train> 0.5).astype(int)\n",
    "print(\"Training Data:\")\n",
    "\n",
    "print(\"Accuracy is \",accuracy_score(Y_train,pred_train_bin))\n",
    "print(\"Precision is \",precision_score(Y_train,pred_train_bin,average='macro'))\n",
    "print(\"Recall is \",recall_score(Y_train,pred_train_bin,average='macro'))\n",
    "print(\"F1 Score is \",f1_score(Y_train,pred_train_bin,average='macro'))\n",
    "\n",
    "print(\"Validation Data:\")\n",
    "\n",
    "print(\"Accuracy is \",accuracy_score(Y_cv,pred_val_bin))\n",
    "print(\"Precision is \",precision_score(Y_cv,pred_val_bin,average='macro'))\n",
    "print(\"Recall is \",recall_score(Y_cv,pred_val_bin,average='macro'))\n",
    "print(\"F1 Score is \",f1_score(Y_cv,pred_val_bin,average='macro'))\n"
   ]
  },
  {
   "cell_type": "code",
   "execution_count": null,
   "id": "f34d4064",
   "metadata": {
    "papermill": {
     "duration": 0.617518,
     "end_time": "2025-04-17T19:18:55.901853",
     "exception": false,
     "start_time": "2025-04-17T19:18:55.284335",
     "status": "completed"
    },
    "tags": []
   },
   "outputs": [],
   "source": []
  }
 ],
 "metadata": {
  "kaggle": {
   "accelerator": "nvidiaTeslaT4",
   "dataSources": [
    {
     "datasetId": 7141798,
     "sourceId": 11402349,
     "sourceType": "datasetVersion"
    },
    {
     "datasetId": 7154869,
     "sourceId": 11424360,
     "sourceType": "datasetVersion"
    }
   ],
   "isGpuEnabled": true,
   "isInternetEnabled": true,
   "language": "python",
   "sourceType": "notebook"
  },
  "kernelspec": {
   "display_name": "Python 3",
   "language": "python",
   "name": "python3"
  },
  "language_info": {
   "codemirror_mode": {
    "name": "ipython",
    "version": 3
   },
   "file_extension": ".py",
   "mimetype": "text/x-python",
   "name": "python",
   "nbconvert_exporter": "python",
   "pygments_lexer": "ipython3",
   "version": "3.11.11"
  },
  "papermill": {
   "default_parameters": {},
   "duration": 744.884872,
   "end_time": "2025-04-17T19:18:59.424755",
   "environment_variables": {},
   "exception": null,
   "input_path": "__notebook__.ipynb",
   "output_path": "__notebook__.ipynb",
   "parameters": {},
   "start_time": "2025-04-17T19:06:34.539883",
   "version": "2.6.0"
  }
 },
 "nbformat": 4,
 "nbformat_minor": 5
}
