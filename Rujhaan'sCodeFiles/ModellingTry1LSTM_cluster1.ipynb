{
 "cells": [
  {
   "cell_type": "code",
   "execution_count": 1,
   "id": "315063f6",
   "metadata": {
    "_cell_guid": "b1076dfc-b9ad-4769-8c92-a6c4dae69d19",
    "_uuid": "8f2839f25d086af736a60e9eeb907d3b93b6e0e5",
    "execution": {
     "iopub.execute_input": "2025-04-17T20:20:07.991922Z",
     "iopub.status.busy": "2025-04-17T20:20:07.991656Z",
     "iopub.status.idle": "2025-04-17T20:20:25.421014Z",
     "shell.execute_reply": "2025-04-17T20:20:25.420190Z"
    },
    "papermill": {
     "duration": 17.436282,
     "end_time": "2025-04-17T20:20:25.422290",
     "exception": false,
     "start_time": "2025-04-17T20:20:07.986008",
     "status": "completed"
    },
    "tags": []
   },
   "outputs": [
    {
     "name": "stderr",
     "output_type": "stream",
     "text": [
      "2025-04-17 20:20:13.383283: E external/local_xla/xla/stream_executor/cuda/cuda_fft.cc:477] Unable to register cuFFT factory: Attempting to register factory for plugin cuFFT when one has already been registered\n",
      "WARNING: All log messages before absl::InitializeLog() is called are written to STDERR\n",
      "E0000 00:00:1744921213.620472      19 cuda_dnn.cc:8310] Unable to register cuDNN factory: Attempting to register factory for plugin cuDNN when one has already been registered\n",
      "E0000 00:00:1744921213.691718      19 cuda_blas.cc:1418] Unable to register cuBLAS factory: Attempting to register factory for plugin cuBLAS when one has already been registered\n"
     ]
    },
    {
     "name": "stdout",
     "output_type": "stream",
     "text": [
      "/kaggle/input/ps-dataset/order_data_last_six_month.xlsx - Worksheet.csv\n",
      "/kaggle/input/ps-dataset/associated_order_item_data_last_six_month.xlsx - Worksheet.csv\n",
      "/kaggle/input/customer-behavior-dataset/Customer_Behavior_Data.csv\n"
     ]
    }
   ],
   "source": [
    "# This Python 3 environment comes with many helpful analytics libraries installed\n",
    "# It is defined by the kaggle/python Docker image: https://github.com/kaggle/docker-python\n",
    "# For example, here's several helpful packages to load\n",
    "import numpy as np # linear algebra\n",
    "import pandas as pd # data processing, CSV file I/O (e.g. pd.read_csv)\n",
    "from sklearn.preprocessing import OneHotEncoder\n",
    "from sklearn.metrics import accuracy_score,recall_score,f1_score,precision_score\n",
    "from tensorflow.keras.models import clone_model\n",
    "from tqdm import tqdm\n",
    "import matplotlib.pyplot as plt\n",
    "# Input data files are available in the read-only \"../input/\" directory\n",
    "# For example, running this (by clicking run or pressing Shift+Enter) will list all files under the input directory\n",
    "from sklearn.model_selection import train_test_split\n",
    "import os\n",
    "for dirname, _, filenames in os.walk('/kaggle/input'):\n",
    "    for filename in filenames:\n",
    "        print(os.path.join(dirname, filename))\n",
    "from tensorflow.keras.models import Sequential\n",
    "from tensorflow.keras.layers import LSTM, Dense, Dropout\n",
    "from tensorflow.keras.callbacks import EarlyStopping, ModelCheckpoint\n",
    "# You can write up to 20GB to the current directory (/kaggle/working/) that gets preserved as output when you create a version using \"Save & Run All\" \n",
    "# You can also write temporary files to /kaggle/temp/, but they won't be saved outside of the current session"
   ]
  },
  {
   "cell_type": "code",
   "execution_count": 2,
   "id": "0a332c52",
   "metadata": {
    "execution": {
     "iopub.execute_input": "2025-04-17T20:20:25.431808Z",
     "iopub.status.busy": "2025-04-17T20:20:25.431358Z",
     "iopub.status.idle": "2025-04-17T20:20:25.435907Z",
     "shell.execute_reply": "2025-04-17T20:20:25.435086Z"
    },
    "papermill": {
     "duration": 0.010386,
     "end_time": "2025-04-17T20:20:25.437288",
     "exception": false,
     "start_time": "2025-04-17T20:20:25.426902",
     "status": "completed"
    },
    "tags": []
   },
   "outputs": [
    {
     "name": "stdout",
     "output_type": "stream",
     "text": [
      "TensorFlow version: 2.18.0\n",
      "Keras version: 3.5.0\n"
     ]
    }
   ],
   "source": [
    "import tensorflow as tf\n",
    "import keras\n",
    "\n",
    "print(\"TensorFlow version:\", tf.__version__)\n",
    "print(\"Keras version:\", keras.__version__)\n"
   ]
  },
  {
   "cell_type": "code",
   "execution_count": 3,
   "id": "3cf66eb1",
   "metadata": {
    "execution": {
     "iopub.execute_input": "2025-04-17T20:20:25.446318Z",
     "iopub.status.busy": "2025-04-17T20:20:25.446131Z",
     "iopub.status.idle": "2025-04-17T20:20:25.450623Z",
     "shell.execute_reply": "2025-04-17T20:20:25.450075Z"
    },
    "papermill": {
     "duration": 0.010003,
     "end_time": "2025-04-17T20:20:25.451663",
     "exception": false,
     "start_time": "2025-04-17T20:20:25.441660",
     "status": "completed"
    },
    "tags": []
   },
   "outputs": [],
   "source": [
    "def piechart(series):\n",
    "    \"\"\"\n",
    "    Automatically plots a pie chart from a Pandas Series.\n",
    "    - Uses the series name as the chart title.\n",
    "    - Displays value counts as percentages.\n",
    "    \"\"\"\n",
    "    if not isinstance(series, pd.Series):\n",
    "        raise TypeError(\"Input must be a pandas Series\")\n",
    "\n",
    "    counts = series.value_counts(dropna=False)\n",
    "    labels = counts.index.astype(str)\n",
    "    \n",
    "    # Auto-title using series name or fallback\n",
    "    title = series.name if series.name else \"Pie Chart\"\n",
    "\n",
    "    # Plot\n",
    "    plt.figure(figsize=(6, 6))\n",
    "    plt.pie(counts, labels=labels, autopct='%1.1f%%', startangle=90, counterclock=False)\n",
    "    plt.title(title)\n",
    "    plt.axis('equal')  # Equal aspect ratio ensures the pie is circular\n",
    "    plt.show()"
   ]
  },
  {
   "cell_type": "code",
   "execution_count": 4,
   "id": "97828af7",
   "metadata": {
    "execution": {
     "iopub.execute_input": "2025-04-17T20:20:25.460445Z",
     "iopub.status.busy": "2025-04-17T20:20:25.460004Z",
     "iopub.status.idle": "2025-04-17T20:20:25.486329Z",
     "shell.execute_reply": "2025-04-17T20:20:25.485835Z"
    },
    "papermill": {
     "duration": 0.031789,
     "end_time": "2025-04-17T20:20:25.487441",
     "exception": false,
     "start_time": "2025-04-17T20:20:25.455652",
     "status": "completed"
    },
    "tags": []
   },
   "outputs": [],
   "source": [
    "beh_data=pd.read_csv(\"/kaggle/input/customer-behavior-dataset/Customer_Behavior_Data.csv\")"
   ]
  },
  {
   "cell_type": "code",
   "execution_count": 5,
   "id": "b895c024",
   "metadata": {
    "execution": {
     "iopub.execute_input": "2025-04-17T20:20:25.496573Z",
     "iopub.status.busy": "2025-04-17T20:20:25.496009Z",
     "iopub.status.idle": "2025-04-17T20:20:25.509984Z",
     "shell.execute_reply": "2025-04-17T20:20:25.509503Z"
    },
    "papermill": {
     "duration": 0.019708,
     "end_time": "2025-04-17T20:20:25.511199",
     "exception": false,
     "start_time": "2025-04-17T20:20:25.491491",
     "status": "completed"
    },
    "tags": []
   },
   "outputs": [],
   "source": [
    "zero_people=beh_data[beh_data['Total Orders']<=4]['customer_id']"
   ]
  },
  {
   "cell_type": "code",
   "execution_count": 6,
   "id": "ee3d4003",
   "metadata": {
    "execution": {
     "iopub.execute_input": "2025-04-17T20:20:25.520476Z",
     "iopub.status.busy": "2025-04-17T20:20:25.520230Z",
     "iopub.status.idle": "2025-04-17T20:20:25.525878Z",
     "shell.execute_reply": "2025-04-17T20:20:25.525130Z"
    },
    "papermill": {
     "duration": 0.011453,
     "end_time": "2025-04-17T20:20:25.527154",
     "exception": false,
     "start_time": "2025-04-17T20:20:25.515701",
     "status": "completed"
    },
    "tags": []
   },
   "outputs": [],
   "source": [
    "cluster_1_people=beh_data[((beh_data['Total Orders']<=25) & (beh_data['Total Orders']>4) & (beh_data['Average Order Gap Days']>=14))]['customer_id']"
   ]
  },
  {
   "cell_type": "code",
   "execution_count": 7,
   "id": "1e5389ba",
   "metadata": {
    "execution": {
     "iopub.execute_input": "2025-04-17T20:20:25.535723Z",
     "iopub.status.busy": "2025-04-17T20:20:25.535500Z",
     "iopub.status.idle": "2025-04-17T20:20:25.544043Z",
     "shell.execute_reply": "2025-04-17T20:20:25.543253Z"
    },
    "papermill": {
     "duration": 0.01403,
     "end_time": "2025-04-17T20:20:25.545196",
     "exception": false,
     "start_time": "2025-04-17T20:20:25.531166",
     "status": "completed"
    },
    "tags": []
   },
   "outputs": [],
   "source": [
    "cluster_2_people = beh_data['customer_id'][~beh_data['customer_id'].isin(cluster_1_people) & ~beh_data['customer_id'].isin(zero_people)]"
   ]
  },
  {
   "cell_type": "code",
   "execution_count": 8,
   "id": "cb072b20",
   "metadata": {
    "execution": {
     "iopub.execute_input": "2025-04-17T20:20:25.553904Z",
     "iopub.status.busy": "2025-04-17T20:20:25.553221Z",
     "iopub.status.idle": "2025-04-17T20:20:25.771630Z",
     "shell.execute_reply": "2025-04-17T20:20:25.770774Z"
    },
    "papermill": {
     "duration": 0.224168,
     "end_time": "2025-04-17T20:20:25.773165",
     "exception": false,
     "start_time": "2025-04-17T20:20:25.548997",
     "status": "completed"
    },
    "tags": []
   },
   "outputs": [],
   "source": [
    "dataset=pd.read_csv(\"/kaggle/input/ps-dataset/order_data_last_six_month.xlsx - Worksheet.csv\")"
   ]
  },
  {
   "cell_type": "code",
   "execution_count": 9,
   "id": "bf0c1734",
   "metadata": {
    "execution": {
     "iopub.execute_input": "2025-04-17T20:20:25.782214Z",
     "iopub.status.busy": "2025-04-17T20:20:25.782000Z",
     "iopub.status.idle": "2025-04-17T20:20:25.789188Z",
     "shell.execute_reply": "2025-04-17T20:20:25.788647Z"
    },
    "papermill": {
     "duration": 0.012719,
     "end_time": "2025-04-17T20:20:25.790213",
     "exception": false,
     "start_time": "2025-04-17T20:20:25.777494",
     "status": "completed"
    },
    "tags": []
   },
   "outputs": [],
   "source": [
    "train_data=dataset[dataset['customer_id'].isin(cluster_1_people)]"
   ]
  },
  {
   "cell_type": "code",
   "execution_count": 10,
   "id": "010f0034",
   "metadata": {
    "execution": {
     "iopub.execute_input": "2025-04-17T20:20:25.798845Z",
     "iopub.status.busy": "2025-04-17T20:20:25.798607Z",
     "iopub.status.idle": "2025-04-17T20:20:25.820555Z",
     "shell.execute_reply": "2025-04-17T20:20:25.819894Z"
    },
    "papermill": {
     "duration": 0.027419,
     "end_time": "2025-04-17T20:20:25.821608",
     "exception": false,
     "start_time": "2025-04-17T20:20:25.794189",
     "status": "completed"
    },
    "tags": []
   },
   "outputs": [
    {
     "data": {
      "text/html": [
       "<div>\n",
       "<style scoped>\n",
       "    .dataframe tbody tr th:only-of-type {\n",
       "        vertical-align: middle;\n",
       "    }\n",
       "\n",
       "    .dataframe tbody tr th {\n",
       "        vertical-align: top;\n",
       "    }\n",
       "\n",
       "    .dataframe thead th {\n",
       "        text-align: right;\n",
       "    }\n",
       "</style>\n",
       "<table border=\"1\" class=\"dataframe\">\n",
       "  <thead>\n",
       "    <tr style=\"text-align: right;\">\n",
       "      <th></th>\n",
       "      <th>order_date</th>\n",
       "      <th>order_id</th>\n",
       "      <th>order_number</th>\n",
       "      <th>customer_id</th>\n",
       "      <th>customer_name</th>\n",
       "      <th>poc_name</th>\n",
       "      <th>poc_id</th>\n",
       "      <th>amount</th>\n",
       "      <th>discount</th>\n",
       "      <th>net_order_amount</th>\n",
       "      <th>profit</th>\n",
       "      <th>order_status</th>\n",
       "      <th>warehouse_name</th>\n",
       "      <th>warehouse_id</th>\n",
       "    </tr>\n",
       "  </thead>\n",
       "  <tbody>\n",
       "    <tr>\n",
       "      <th>2</th>\n",
       "      <td>12/02/2025</td>\n",
       "      <td>116427</td>\n",
       "      <td>SO/24-25/96511</td>\n",
       "      <td>3827</td>\n",
       "      <td>Shama chicken corner beta</td>\n",
       "      <td>Yash Pandey</td>\n",
       "      <td>51</td>\n",
       "      <td>62500.0</td>\n",
       "      <td>5000.0</td>\n",
       "      <td>57500.0</td>\n",
       "      <td>-650.0</td>\n",
       "      <td>CLOSED</td>\n",
       "      <td>Noida</td>\n",
       "      <td>3</td>\n",
       "    </tr>\n",
       "    <tr>\n",
       "      <th>12</th>\n",
       "      <td>25/01/2025</td>\n",
       "      <td>108509</td>\n",
       "      <td>SO/24-25/89102</td>\n",
       "      <td>2528</td>\n",
       "      <td>Madina Hotel</td>\n",
       "      <td>MAYANK SHEKHAR</td>\n",
       "      <td>23</td>\n",
       "      <td>29120.0</td>\n",
       "      <td>1650.0</td>\n",
       "      <td>27470.0</td>\n",
       "      <td>-376.0</td>\n",
       "      <td>CLOSED</td>\n",
       "      <td>Telibagh</td>\n",
       "      <td>2</td>\n",
       "    </tr>\n",
       "    <tr>\n",
       "      <th>22</th>\n",
       "      <td>17/01/2025</td>\n",
       "      <td>104852</td>\n",
       "      <td>SO/24-25/85613</td>\n",
       "      <td>4308</td>\n",
       "      <td>Narayan Bhog</td>\n",
       "      <td>MAYANK SHEKHAR</td>\n",
       "      <td>23</td>\n",
       "      <td>2500.0</td>\n",
       "      <td>220.0</td>\n",
       "      <td>2280.0</td>\n",
       "      <td>-20.0</td>\n",
       "      <td>CLOSED</td>\n",
       "      <td>Telibagh</td>\n",
       "      <td>2</td>\n",
       "    </tr>\n",
       "    <tr>\n",
       "      <th>37</th>\n",
       "      <td>18/02/2025</td>\n",
       "      <td>119155</td>\n",
       "      <td>SO/24-25/99068</td>\n",
       "      <td>6080</td>\n",
       "      <td>Gupta General Store</td>\n",
       "      <td>Ashish Bajpai</td>\n",
       "      <td>5397</td>\n",
       "      <td>9000.0</td>\n",
       "      <td>1050.0</td>\n",
       "      <td>7950.0</td>\n",
       "      <td>-150.0</td>\n",
       "      <td>CLOSED</td>\n",
       "      <td>Telibagh</td>\n",
       "      <td>2</td>\n",
       "    </tr>\n",
       "    <tr>\n",
       "      <th>40</th>\n",
       "      <td>19/03/2025</td>\n",
       "      <td>130410</td>\n",
       "      <td>SO/24-25/109662</td>\n",
       "      <td>1533</td>\n",
       "      <td>Turkish Delight</td>\n",
       "      <td>Naveen Verma</td>\n",
       "      <td>40</td>\n",
       "      <td>4240.0</td>\n",
       "      <td>280.0</td>\n",
       "      <td>3960.0</td>\n",
       "      <td>-80.0</td>\n",
       "      <td>CLOSED</td>\n",
       "      <td>Gomti Nagar</td>\n",
       "      <td>1</td>\n",
       "    </tr>\n",
       "  </tbody>\n",
       "</table>\n",
       "</div>"
      ],
      "text/plain": [
       "    order_date  order_id     order_number  customer_id  \\\n",
       "2   12/02/2025    116427   SO/24-25/96511         3827   \n",
       "12  25/01/2025    108509   SO/24-25/89102         2528   \n",
       "22  17/01/2025    104852   SO/24-25/85613         4308   \n",
       "37  18/02/2025    119155   SO/24-25/99068         6080   \n",
       "40  19/03/2025    130410  SO/24-25/109662         1533   \n",
       "\n",
       "                 customer_name        poc_name  poc_id   amount  discount  \\\n",
       "2   Shama chicken corner beta      Yash Pandey      51  62500.0    5000.0   \n",
       "12                Madina Hotel  MAYANK SHEKHAR      23  29120.0    1650.0   \n",
       "22               Narayan Bhog   MAYANK SHEKHAR      23   2500.0     220.0   \n",
       "37         Gupta General Store   Ashish Bajpai    5397   9000.0    1050.0   \n",
       "40            Turkish Delight     Naveen Verma      40   4240.0     280.0   \n",
       "\n",
       "    net_order_amount  profit order_status warehouse_name  warehouse_id  \n",
       "2            57500.0  -650.0       CLOSED          Noida             3  \n",
       "12           27470.0  -376.0       CLOSED       Telibagh             2  \n",
       "22            2280.0   -20.0       CLOSED       Telibagh             2  \n",
       "37            7950.0  -150.0       CLOSED       Telibagh             2  \n",
       "40            3960.0   -80.0       CLOSED    Gomti Nagar             1  "
      ]
     },
     "execution_count": 10,
     "metadata": {},
     "output_type": "execute_result"
    }
   ],
   "source": [
    "train_data.head()"
   ]
  },
  {
   "cell_type": "code",
   "execution_count": 11,
   "id": "aa3d8566",
   "metadata": {
    "execution": {
     "iopub.execute_input": "2025-04-17T20:20:25.831293Z",
     "iopub.status.busy": "2025-04-17T20:20:25.830755Z",
     "iopub.status.idle": "2025-04-17T20:20:25.837186Z",
     "shell.execute_reply": "2025-04-17T20:20:25.836417Z"
    },
    "papermill": {
     "duration": 0.012065,
     "end_time": "2025-04-17T20:20:25.838247",
     "exception": false,
     "start_time": "2025-04-17T20:20:25.826182",
     "status": "completed"
    },
    "tags": []
   },
   "outputs": [
    {
     "name": "stderr",
     "output_type": "stream",
     "text": [
      "/tmp/ipykernel_19/404819675.py:1: SettingWithCopyWarning: \n",
      "A value is trying to be set on a copy of a slice from a DataFrame\n",
      "\n",
      "See the caveats in the documentation: https://pandas.pydata.org/pandas-docs/stable/user_guide/indexing.html#returning-a-view-versus-a-copy\n",
      "  train_data.drop(['order_number','customer_name','poc_name','poc_id','amount','profit','order_status','warehouse_id'],axis=1,inplace=True)\n"
     ]
    }
   ],
   "source": [
    "train_data.drop(['order_number','customer_name','poc_name','poc_id','amount','profit','order_status','warehouse_id'],axis=1,inplace=True)"
   ]
  },
  {
   "cell_type": "code",
   "execution_count": 12,
   "id": "3775a861",
   "metadata": {
    "execution": {
     "iopub.execute_input": "2025-04-17T20:20:25.847281Z",
     "iopub.status.busy": "2025-04-17T20:20:25.847088Z",
     "iopub.status.idle": "2025-04-17T20:20:25.899542Z",
     "shell.execute_reply": "2025-04-17T20:20:25.898970Z"
    },
    "papermill": {
     "duration": 0.058292,
     "end_time": "2025-04-17T20:20:25.900640",
     "exception": false,
     "start_time": "2025-04-17T20:20:25.842348",
     "status": "completed"
    },
    "tags": []
   },
   "outputs": [
    {
     "data": {
      "text/html": [
       "<div>\n",
       "<style scoped>\n",
       "    .dataframe tbody tr th:only-of-type {\n",
       "        vertical-align: middle;\n",
       "    }\n",
       "\n",
       "    .dataframe tbody tr th {\n",
       "        vertical-align: top;\n",
       "    }\n",
       "\n",
       "    .dataframe thead th {\n",
       "        text-align: right;\n",
       "    }\n",
       "</style>\n",
       "<table border=\"1\" class=\"dataframe\">\n",
       "  <thead>\n",
       "    <tr style=\"text-align: right;\">\n",
       "      <th></th>\n",
       "      <th>customer_id</th>\n",
       "      <th>order_date</th>\n",
       "      <th>daily_order_count</th>\n",
       "      <th>discount</th>\n",
       "      <th>net_order_amount</th>\n",
       "      <th>warehouse_name</th>\n",
       "    </tr>\n",
       "  </thead>\n",
       "  <tbody>\n",
       "    <tr>\n",
       "      <th>0</th>\n",
       "      <td>12</td>\n",
       "      <td>2024-10-01</td>\n",
       "      <td>1</td>\n",
       "      <td>200.0</td>\n",
       "      <td>1660.0</td>\n",
       "      <td>Gomti Nagar</td>\n",
       "    </tr>\n",
       "    <tr>\n",
       "      <th>1</th>\n",
       "      <td>12</td>\n",
       "      <td>2024-11-30</td>\n",
       "      <td>1</td>\n",
       "      <td>140.0</td>\n",
       "      <td>1650.0</td>\n",
       "      <td>Gomti Nagar</td>\n",
       "    </tr>\n",
       "    <tr>\n",
       "      <th>2</th>\n",
       "      <td>12</td>\n",
       "      <td>2024-12-16</td>\n",
       "      <td>1</td>\n",
       "      <td>110.0</td>\n",
       "      <td>1680.0</td>\n",
       "      <td>Gomti Nagar</td>\n",
       "    </tr>\n",
       "    <tr>\n",
       "      <th>3</th>\n",
       "      <td>12</td>\n",
       "      <td>2025-01-04</td>\n",
       "      <td>1</td>\n",
       "      <td>100.0</td>\n",
       "      <td>1690.0</td>\n",
       "      <td>Gomti Nagar</td>\n",
       "    </tr>\n",
       "    <tr>\n",
       "      <th>4</th>\n",
       "      <td>12</td>\n",
       "      <td>2025-01-12</td>\n",
       "      <td>1</td>\n",
       "      <td>70.0</td>\n",
       "      <td>1720.0</td>\n",
       "      <td>Gomti Nagar</td>\n",
       "    </tr>\n",
       "    <tr>\n",
       "      <th>...</th>\n",
       "      <td>...</td>\n",
       "      <td>...</td>\n",
       "      <td>...</td>\n",
       "      <td>...</td>\n",
       "      <td>...</td>\n",
       "      <td>...</td>\n",
       "    </tr>\n",
       "    <tr>\n",
       "      <th>6486</th>\n",
       "      <td>8671</td>\n",
       "      <td>2025-02-06</td>\n",
       "      <td>1</td>\n",
       "      <td>2600.0</td>\n",
       "      <td>30900.0</td>\n",
       "      <td>Gomti Nagar</td>\n",
       "    </tr>\n",
       "    <tr>\n",
       "      <th>6487</th>\n",
       "      <td>8671</td>\n",
       "      <td>2025-02-23</td>\n",
       "      <td>1</td>\n",
       "      <td>3700.0</td>\n",
       "      <td>41500.0</td>\n",
       "      <td>Gomti Nagar</td>\n",
       "    </tr>\n",
       "    <tr>\n",
       "      <th>6488</th>\n",
       "      <td>8671</td>\n",
       "      <td>2025-03-17</td>\n",
       "      <td>1</td>\n",
       "      <td>3665.0</td>\n",
       "      <td>27250.0</td>\n",
       "      <td>Gomti Nagar</td>\n",
       "    </tr>\n",
       "    <tr>\n",
       "      <th>6489</th>\n",
       "      <td>8671</td>\n",
       "      <td>2025-03-26</td>\n",
       "      <td>1</td>\n",
       "      <td>950.0</td>\n",
       "      <td>22950.0</td>\n",
       "      <td>Gomti Nagar</td>\n",
       "    </tr>\n",
       "    <tr>\n",
       "      <th>6490</th>\n",
       "      <td>8671</td>\n",
       "      <td>2025-04-10</td>\n",
       "      <td>1</td>\n",
       "      <td>1130.0</td>\n",
       "      <td>17270.0</td>\n",
       "      <td>Gomti Nagar</td>\n",
       "    </tr>\n",
       "  </tbody>\n",
       "</table>\n",
       "<p>6491 rows × 6 columns</p>\n",
       "</div>"
      ],
      "text/plain": [
       "      customer_id order_date  daily_order_count  discount  net_order_amount  \\\n",
       "0              12 2024-10-01                  1     200.0            1660.0   \n",
       "1              12 2024-11-30                  1     140.0            1650.0   \n",
       "2              12 2024-12-16                  1     110.0            1680.0   \n",
       "3              12 2025-01-04                  1     100.0            1690.0   \n",
       "4              12 2025-01-12                  1      70.0            1720.0   \n",
       "...           ...        ...                ...       ...               ...   \n",
       "6486         8671 2025-02-06                  1    2600.0           30900.0   \n",
       "6487         8671 2025-02-23                  1    3700.0           41500.0   \n",
       "6488         8671 2025-03-17                  1    3665.0           27250.0   \n",
       "6489         8671 2025-03-26                  1     950.0           22950.0   \n",
       "6490         8671 2025-04-10                  1    1130.0           17270.0   \n",
       "\n",
       "     warehouse_name  \n",
       "0       Gomti Nagar  \n",
       "1       Gomti Nagar  \n",
       "2       Gomti Nagar  \n",
       "3       Gomti Nagar  \n",
       "4       Gomti Nagar  \n",
       "...             ...  \n",
       "6486    Gomti Nagar  \n",
       "6487    Gomti Nagar  \n",
       "6488    Gomti Nagar  \n",
       "6489    Gomti Nagar  \n",
       "6490    Gomti Nagar  \n",
       "\n",
       "[6491 rows x 6 columns]"
      ]
     },
     "execution_count": 12,
     "metadata": {},
     "output_type": "execute_result"
    }
   ],
   "source": [
    "import pandas as pd\n",
    "\n",
    "# assume train_data is your original DataFrame\n",
    "df = train_data.copy()\n",
    "df['order_date'] = pd.to_datetime(df['order_date'], dayfirst=True)\n",
    "\n",
    "# group & aggregate:\n",
    "daily_df = df.groupby(['customer_id','order_date']).agg(\n",
    "    daily_order_count = ('order_id',       'count'),\n",
    "    discount          = ('discount',       'sum'),\n",
    "    net_order_amount  = ('net_order_amount','sum'),\n",
    "    warehouse_name    = ('warehouse_name', 'first')  # or use mode if you prefer\n",
    ").reset_index()\n",
    "\n",
    "# now daily_df has exactly one row per customer per date\n",
    "daily_df"
   ]
  },
  {
   "cell_type": "code",
   "execution_count": 13,
   "id": "72b37c45",
   "metadata": {
    "execution": {
     "iopub.execute_input": "2025-04-17T20:20:25.910388Z",
     "iopub.status.busy": "2025-04-17T20:20:25.910162Z",
     "iopub.status.idle": "2025-04-17T20:20:25.916319Z",
     "shell.execute_reply": "2025-04-17T20:20:25.915752Z"
    },
    "papermill": {
     "duration": 0.012128,
     "end_time": "2025-04-17T20:20:25.917368",
     "exception": false,
     "start_time": "2025-04-17T20:20:25.905240",
     "status": "completed"
    },
    "tags": []
   },
   "outputs": [],
   "source": [
    "daily_df_dummy=pd.get_dummies(daily_df,columns=['warehouse_name'],dtype='int')"
   ]
  },
  {
   "cell_type": "code",
   "execution_count": 14,
   "id": "226a4b91",
   "metadata": {
    "execution": {
     "iopub.execute_input": "2025-04-17T20:20:25.926987Z",
     "iopub.status.busy": "2025-04-17T20:20:25.926780Z",
     "iopub.status.idle": "2025-04-17T20:20:25.929714Z",
     "shell.execute_reply": "2025-04-17T20:20:25.929177Z"
    },
    "papermill": {
     "duration": 0.008783,
     "end_time": "2025-04-17T20:20:25.930705",
     "exception": false,
     "start_time": "2025-04-17T20:20:25.921922",
     "status": "completed"
    },
    "tags": []
   },
   "outputs": [],
   "source": [
    "SEQ_LEN = 30\n",
    "PRED_HORIZON = 14"
   ]
  },
  {
   "cell_type": "code",
   "execution_count": 15,
   "id": "e5775ec0",
   "metadata": {
    "execution": {
     "iopub.execute_input": "2025-04-17T20:20:25.940246Z",
     "iopub.status.busy": "2025-04-17T20:20:25.940060Z",
     "iopub.status.idle": "2025-04-17T20:20:28.130239Z",
     "shell.execute_reply": "2025-04-17T20:20:28.129405Z"
    },
    "papermill": {
     "duration": 2.196193,
     "end_time": "2025-04-17T20:20:28.131417",
     "exception": false,
     "start_time": "2025-04-17T20:20:25.935224",
     "status": "completed"
    },
    "tags": []
   },
   "outputs": [
    {
     "name": "stderr",
     "output_type": "stream",
     "text": [
      "100%|██████████| 847/847 [00:01<00:00, 440.44it/s]\n"
     ]
    },
    {
     "name": "stdout",
     "output_type": "stream",
     "text": [
      "X shape: (86421, 30, 16)\n",
      "y shape: (86421, 14)\n"
     ]
    }
   ],
   "source": [
    "df = daily_df_dummy.copy()\n",
    "df['order_date'] = pd.to_datetime(df['order_date'])\n",
    "\n",
    "# Add 'day_of_week' column\n",
    "df['day_of_week'] = df['order_date'].dt.dayofweek  # Monday=0, Sunday=6\n",
    "\n",
    "# One-hot encode 'day_of_week'\n",
    "df = pd.get_dummies(df, columns=['day_of_week'], prefix='dow',dtype='int')\n",
    "\n",
    "# Identify feature columns (exclude ID/date)\n",
    "feature_cols = [c for c in df.columns \n",
    "                if c not in ('customer_id', 'order_date')]\n",
    "\n",
    "# Containers for sequence data\n",
    "X, y = [], []\n",
    "\n",
    "for cust_id, group in tqdm(df.groupby('customer_id'), total=df['customer_id'].nunique()):\n",
    "    group = group.set_index('order_date').sort_index()\n",
    "    full_idx = pd.date_range(group.index.min(), group.index.max(), freq='D')\n",
    "    group = group.reindex(full_idx).fillna(0)\n",
    "    \n",
    "    # keep customer_id and date\n",
    "    group['customer_id'] = cust_id\n",
    "    group['date'] = group.index\n",
    "    \n",
    "    data = group[feature_cols].values\n",
    "    targets = (group['daily_order_count'] > 0).astype(int).values\n",
    "\n",
    "    n = len(group)\n",
    "    for start in range(n - SEQ_LEN - PRED_HORIZON + 1):\n",
    "        end = start + SEQ_LEN\n",
    "        fend = end + PRED_HORIZON\n",
    "        \n",
    "        X.append(data[start:end, :])     # shape: (30, num_features)\n",
    "        y.append(targets[end:fend])      # shape: (14,)\n",
    "\n",
    "X = np.stack(X)\n",
    "y = np.stack(y)\n",
    "\n",
    "print(\"X shape:\", X.shape)\n",
    "print(\"y shape:\", y.shape)"
   ]
  },
  {
   "cell_type": "code",
   "execution_count": 16,
   "id": "9d048fa5",
   "metadata": {
    "execution": {
     "iopub.execute_input": "2025-04-17T20:20:28.143017Z",
     "iopub.status.busy": "2025-04-17T20:20:28.142815Z",
     "iopub.status.idle": "2025-04-17T20:20:28.340551Z",
     "shell.execute_reply": "2025-04-17T20:20:28.339769Z"
    },
    "papermill": {
     "duration": 0.204691,
     "end_time": "2025-04-17T20:20:28.341654",
     "exception": false,
     "start_time": "2025-04-17T20:20:28.136963",
     "status": "completed"
    },
    "tags": []
   },
   "outputs": [
    {
     "data": {
      "image/png": "[encoded data removed]",
      "text/plain": [
       "<Figure size 600x600 with 1 Axes>"
      ]
     },
     "metadata": {},
     "output_type": "display_data"
    }
   ],
   "source": [
    "piechart(pd.Series(y.flatten()))"
   ]
  },
  {
   "cell_type": "code",
   "execution_count": 17,
   "id": "207ec32d",
   "metadata": {
    "execution": {
     "iopub.execute_input": "2025-04-17T20:20:28.353645Z",
     "iopub.status.busy": "2025-04-17T20:20:28.353434Z",
     "iopub.status.idle": "2025-04-17T20:20:28.357962Z",
     "shell.execute_reply": "2025-04-17T20:20:28.357262Z"
    },
    "papermill": {
     "duration": 0.011457,
     "end_time": "2025-04-17T20:20:28.358935",
     "exception": false,
     "start_time": "2025-04-17T20:20:28.347478",
     "status": "completed"
    },
    "tags": []
   },
   "outputs": [],
   "source": [
    "def binary_focal_loss(gamma=2.0, alpha=0.25):\n",
    "    def focal_loss(y_true, y_pred):\n",
    "        # Clip the predictions to prevent log(0) error\n",
    "        y_pred = tf.clip_by_value(y_pred, 1e-7, 1 - 1e-7)\n",
    "        \n",
    "        # Calculate cross-entropy\n",
    "        ce = tf.keras.backend.binary_crossentropy(y_true, y_pred)\n",
    "        \n",
    "        # Calculate p_t\n",
    "        p_t = y_true * y_pred + (1 - y_true) * (1 - y_pred)\n",
    "        \n",
    "        # Modulating factor\n",
    "        modulating_factor = tf.pow(1.0 - p_t, gamma)\n",
    "        \n",
    "        # Alpha factor\n",
    "        alpha_weight = y_true * alpha + (1 - y_true) * (1 - alpha)\n",
    "        \n",
    "        # Focal Loss\n",
    "        focal_loss = alpha_weight * modulating_factor * ce\n",
    "        return tf.reduce_mean(focal_loss)\n",
    "    \n",
    "    return focal_loss"
   ]
  },
  {
   "cell_type": "code",
   "execution_count": 18,
   "id": "c7ebe28d",
   "metadata": {
    "execution": {
     "iopub.execute_input": "2025-04-17T20:20:28.370917Z",
     "iopub.status.busy": "2025-04-17T20:20:28.370712Z",
     "iopub.status.idle": "2025-04-17T20:20:28.544743Z",
     "shell.execute_reply": "2025-04-17T20:20:28.544141Z"
    },
    "papermill": {
     "duration": 0.181468,
     "end_time": "2025-04-17T20:20:28.546070",
     "exception": false,
     "start_time": "2025-04-17T20:20:28.364602",
     "status": "completed"
    },
    "tags": []
   },
   "outputs": [],
   "source": [
    "X_train,X_test,Y_train,Y_test=train_test_split(X,y,test_size=0.4,random_state=42)\n",
    "X_cv,X_test,Y_cv,Y_test=train_test_split(X_test,Y_test,test_size=0.5,random_state=42)"
   ]
  },
  {
   "cell_type": "code",
   "execution_count": 19,
   "id": "41dc766c",
   "metadata": {
    "execution": {
     "iopub.execute_input": "2025-04-17T20:20:28.558300Z",
     "iopub.status.busy": "2025-04-17T20:20:28.558082Z",
     "iopub.status.idle": "2025-04-17T20:20:28.782445Z",
     "shell.execute_reply": "2025-04-17T20:20:28.781849Z"
    },
    "papermill": {
     "duration": 0.231868,
     "end_time": "2025-04-17T20:20:28.783863",
     "exception": false,
     "start_time": "2025-04-17T20:20:28.551995",
     "status": "completed"
    },
    "tags": []
   },
   "outputs": [],
   "source": [
    "from sklearn.utils.class_weight import compute_class_weight\n",
    "\n",
    "weights = compute_class_weight(class_weight='balanced',\n",
    "                                classes=[0,1],\n",
    "                                y=y.flatten())\n",
    "class_weight = {0: weights[0], 1: weights[1]}"
   ]
  },
  {
   "cell_type": "code",
   "execution_count": 20,
   "id": "763a4599",
   "metadata": {
    "execution": {
     "iopub.execute_input": "2025-04-17T20:20:28.796603Z",
     "iopub.status.busy": "2025-04-17T20:20:28.795881Z",
     "iopub.status.idle": "2025-04-17T20:20:28.801869Z",
     "shell.execute_reply": "2025-04-17T20:20:28.801133Z"
    },
    "papermill": {
     "duration": 0.013225,
     "end_time": "2025-04-17T20:20:28.802958",
     "exception": false,
     "start_time": "2025-04-17T20:20:28.789733",
     "status": "completed"
    },
    "tags": []
   },
   "outputs": [],
   "source": [
    "from tensorflow.keras.optimizers import Adam"
   ]
  },
  {
   "cell_type": "code",
   "execution_count": 21,
   "id": "e543d12f",
   "metadata": {
    "execution": {
     "iopub.execute_input": "2025-04-17T20:20:28.815084Z",
     "iopub.status.busy": "2025-04-17T20:20:28.814624Z",
     "iopub.status.idle": "2025-04-17T20:20:31.962199Z",
     "shell.execute_reply": "2025-04-17T20:20:31.961503Z"
    },
    "papermill": {
     "duration": 3.154919,
     "end_time": "2025-04-17T20:20:31.963484",
     "exception": false,
     "start_time": "2025-04-17T20:20:28.808565",
     "status": "completed"
    },
    "tags": []
   },
   "outputs": [
    {
     "name": "stderr",
     "output_type": "stream",
     "text": [
      "I0000 00:00:1744921230.340675      19 gpu_device.cc:2022] Created device /job:localhost/replica:0/task:0/device:GPU:0 with 13942 MB memory:  -> device: 0, name: Tesla T4, pci bus id: 0000:00:04.0, compute capability: 7.5\n",
      "I0000 00:00:1744921230.341408      19 gpu_device.cc:2022] Created device /job:localhost/replica:0/task:0/device:GPU:1 with 13942 MB memory:  -> device: 1, name: Tesla T4, pci bus id: 0000:00:05.0, compute capability: 7.5\n",
      "/usr/local/lib/python3.11/dist-packages/keras/src/layers/rnn/rnn.py:204: UserWarning: Do not pass an `input_shape`/`input_dim` argument to a layer. When using Sequential models, prefer using an `Input(shape)` object as the first layer in the model instead.\n",
      "  super().__init__(**kwargs)\n"
     ]
    },
    {
     "data": {
      "text/html": [
       "<pre style=\"white-space:pre;overflow-x:auto;line-height:normal;font-family:Menlo,'DejaVu Sans Mono',consolas,'Courier New',monospace\"><span style=\"font-weight: bold\">Model: \"sequential\"</span>\n",
       "</pre>\n"
      ],
      "text/plain": [
       "\u001b[1mModel: \"sequential\"\u001b[0m\n"
      ]
     },
     "metadata": {},
     "output_type": "display_data"
    },
    {
     "data": {
      "text/html": [
       "<pre style=\"white-space:pre;overflow-x:auto;line-height:normal;font-family:Menlo,'DejaVu Sans Mono',consolas,'Courier New',monospace\">┏━━━━━━━━━━━━━━━━━━━━━━━━━━━━━━━━━━━━━━┳━━━━━━━━━━━━━━━━━━━━━━━━━━━━━┳━━━━━━━━━━━━━━━━━┓\n",
       "┃<span style=\"font-weight: bold\"> Layer (type)                         </span>┃<span style=\"font-weight: bold\"> Output Shape                </span>┃<span style=\"font-weight: bold\">         Param # </span>┃\n",
       "┡━━━━━━━━━━━━━━━━━━━━━━━━━━━━━━━━━━━━━━╇━━━━━━━━━━━━━━━━━━━━━━━━━━━━━╇━━━━━━━━━━━━━━━━━┩\n",
       "│ lstm (<span style=\"color: #0087ff; text-decoration-color: #0087ff\">LSTM</span>)                          │ (<span style=\"color: #00d7ff; text-decoration-color: #00d7ff\">None</span>, <span style=\"color: #00af00; text-decoration-color: #00af00\">30</span>, <span style=\"color: #00af00; text-decoration-color: #00af00\">128</span>)             │          <span style=\"color: #00af00; text-decoration-color: #00af00\">74,240</span> │\n",
       "├──────────────────────────────────────┼─────────────────────────────┼─────────────────┤\n",
       "│ dropout (<span style=\"color: #0087ff; text-decoration-color: #0087ff\">Dropout</span>)                    │ (<span style=\"color: #00d7ff; text-decoration-color: #00d7ff\">None</span>, <span style=\"color: #00af00; text-decoration-color: #00af00\">30</span>, <span style=\"color: #00af00; text-decoration-color: #00af00\">128</span>)             │               <span style=\"color: #00af00; text-decoration-color: #00af00\">0</span> │\n",
       "├──────────────────────────────────────┼─────────────────────────────┼─────────────────┤\n",
       "│ lstm_1 (<span style=\"color: #0087ff; text-decoration-color: #0087ff\">LSTM</span>)                        │ (<span style=\"color: #00d7ff; text-decoration-color: #00d7ff\">None</span>, <span style=\"color: #00af00; text-decoration-color: #00af00\">64</span>)                  │          <span style=\"color: #00af00; text-decoration-color: #00af00\">49,408</span> │\n",
       "├──────────────────────────────────────┼─────────────────────────────┼─────────────────┤\n",
       "│ dropout_1 (<span style=\"color: #0087ff; text-decoration-color: #0087ff\">Dropout</span>)                  │ (<span style=\"color: #00d7ff; text-decoration-color: #00d7ff\">None</span>, <span style=\"color: #00af00; text-decoration-color: #00af00\">64</span>)                  │               <span style=\"color: #00af00; text-decoration-color: #00af00\">0</span> │\n",
       "├──────────────────────────────────────┼─────────────────────────────┼─────────────────┤\n",
       "│ dense (<span style=\"color: #0087ff; text-decoration-color: #0087ff\">Dense</span>)                        │ (<span style=\"color: #00d7ff; text-decoration-color: #00d7ff\">None</span>, <span style=\"color: #00af00; text-decoration-color: #00af00\">32</span>)                  │           <span style=\"color: #00af00; text-decoration-color: #00af00\">2,080</span> │\n",
       "├──────────────────────────────────────┼─────────────────────────────┼─────────────────┤\n",
       "│ dropout_2 (<span style=\"color: #0087ff; text-decoration-color: #0087ff\">Dropout</span>)                  │ (<span style=\"color: #00d7ff; text-decoration-color: #00d7ff\">None</span>, <span style=\"color: #00af00; text-decoration-color: #00af00\">32</span>)                  │               <span style=\"color: #00af00; text-decoration-color: #00af00\">0</span> │\n",
       "├──────────────────────────────────────┼─────────────────────────────┼─────────────────┤\n",
       "│ dense_1 (<span style=\"color: #0087ff; text-decoration-color: #0087ff\">Dense</span>)                      │ (<span style=\"color: #00d7ff; text-decoration-color: #00d7ff\">None</span>, <span style=\"color: #00af00; text-decoration-color: #00af00\">14</span>)                  │             <span style=\"color: #00af00; text-decoration-color: #00af00\">462</span> │\n",
       "└──────────────────────────────────────┴─────────────────────────────┴─────────────────┘\n",
       "</pre>\n"
      ],
      "text/plain": [
       "┏━━━━━━━━━━━━━━━━━━━━━━━━━━━━━━━━━━━━━━┳━━━━━━━━━━━━━━━━━━━━━━━━━━━━━┳━━━━━━━━━━━━━━━━━┓\n",
       "┃\u001b[1m \u001b[0m\u001b[1mLayer (type)                        \u001b[0m\u001b[1m \u001b[0m┃\u001b[1m \u001b[0m\u001b[1mOutput Shape               \u001b[0m\u001b[1m \u001b[0m┃\u001b[1m \u001b[0m\u001b[1m        Param #\u001b[0m\u001b[1m \u001b[0m┃\n",
       "┡━━━━━━━━━━━━━━━━━━━━━━━━━━━━━━━━━━━━━━╇━━━━━━━━━━━━━━━━━━━━━━━━━━━━━╇━━━━━━━━━━━━━━━━━┩\n",
       "│ lstm (\u001b[38;5;33mLSTM\u001b[0m)                          │ (\u001b[38;5;45mNone\u001b[0m, \u001b[38;5;34m30\u001b[0m, \u001b[38;5;34m128\u001b[0m)             │          \u001b[38;5;34m74,240\u001b[0m │\n",
       "├──────────────────────────────────────┼─────────────────────────────┼─────────────────┤\n",
       "│ dropout (\u001b[38;5;33mDropout\u001b[0m)                    │ (\u001b[38;5;45mNone\u001b[0m, \u001b[38;5;34m30\u001b[0m, \u001b[38;5;34m128\u001b[0m)             │               \u001b[38;5;34m0\u001b[0m │\n",
       "├──────────────────────────────────────┼─────────────────────────────┼─────────────────┤\n",
       "│ lstm_1 (\u001b[38;5;33mLSTM\u001b[0m)                        │ (\u001b[38;5;45mNone\u001b[0m, \u001b[38;5;34m64\u001b[0m)                  │          \u001b[38;5;34m49,408\u001b[0m │\n",
       "├──────────────────────────────────────┼─────────────────────────────┼─────────────────┤\n",
       "│ dropout_1 (\u001b[38;5;33mDropout\u001b[0m)                  │ (\u001b[38;5;45mNone\u001b[0m, \u001b[38;5;34m64\u001b[0m)                  │               \u001b[38;5;34m0\u001b[0m │\n",
       "├──────────────────────────────────────┼─────────────────────────────┼─────────────────┤\n",
       "│ dense (\u001b[38;5;33mDense\u001b[0m)                        │ (\u001b[38;5;45mNone\u001b[0m, \u001b[38;5;34m32\u001b[0m)                  │           \u001b[38;5;34m2,080\u001b[0m │\n",
       "├──────────────────────────────────────┼─────────────────────────────┼─────────────────┤\n",
       "│ dropout_2 (\u001b[38;5;33mDropout\u001b[0m)                  │ (\u001b[38;5;45mNone\u001b[0m, \u001b[38;5;34m32\u001b[0m)                  │               \u001b[38;5;34m0\u001b[0m │\n",
       "├──────────────────────────────────────┼─────────────────────────────┼─────────────────┤\n",
       "│ dense_1 (\u001b[38;5;33mDense\u001b[0m)                      │ (\u001b[38;5;45mNone\u001b[0m, \u001b[38;5;34m14\u001b[0m)                  │             \u001b[38;5;34m462\u001b[0m │\n",
       "└──────────────────────────────────────┴─────────────────────────────┴─────────────────┘\n"
      ]
     },
     "metadata": {},
     "output_type": "display_data"
    },
    {
     "data": {
      "text/html": [
       "<pre style=\"white-space:pre;overflow-x:auto;line-height:normal;font-family:Menlo,'DejaVu Sans Mono',consolas,'Courier New',monospace\"><span style=\"font-weight: bold\"> Total params: </span><span style=\"color: #00af00; text-decoration-color: #00af00\">126,190</span> (492.93 KB)\n",
       "</pre>\n"
      ],
      "text/plain": [
       "\u001b[1m Total params: \u001b[0m\u001b[38;5;34m126,190\u001b[0m (492.93 KB)\n"
      ]
     },
     "metadata": {},
     "output_type": "display_data"
    },
    {
     "data": {
      "text/html": [
       "<pre style=\"white-space:pre;overflow-x:auto;line-height:normal;font-family:Menlo,'DejaVu Sans Mono',consolas,'Courier New',monospace\"><span style=\"font-weight: bold\"> Trainable params: </span><span style=\"color: #00af00; text-decoration-color: #00af00\">126,190</span> (492.93 KB)\n",
       "</pre>\n"
      ],
      "text/plain": [
       "\u001b[1m Trainable params: \u001b[0m\u001b[38;5;34m126,190\u001b[0m (492.93 KB)\n"
      ]
     },
     "metadata": {},
     "output_type": "display_data"
    },
    {
     "data": {
      "text/html": [
       "<pre style=\"white-space:pre;overflow-x:auto;line-height:normal;font-family:Menlo,'DejaVu Sans Mono',consolas,'Courier New',monospace\"><span style=\"font-weight: bold\"> Non-trainable params: </span><span style=\"color: #00af00; text-decoration-color: #00af00\">0</span> (0.00 B)\n",
       "</pre>\n"
      ],
      "text/plain": [
       "\u001b[1m Non-trainable params: \u001b[0m\u001b[38;5;34m0\u001b[0m (0.00 B)\n"
      ]
     },
     "metadata": {},
     "output_type": "display_data"
    }
   ],
   "source": [
    "from tensorflow.keras.models import Sequential\n",
    "from tensorflow.keras.layers import LSTM, Dense, Dropout\n",
    "\n",
    "# Assuming you have already defined:\n",
    "# SEQ_LEN = 30\n",
    "# PRED_HORIZON = 14\n",
    "# feature_cols = [...]  # list of your input column names\n",
    "\n",
    "NUM_FEATURES = len(feature_cols)\n",
    "\n",
    "model = Sequential([\n",
    "    # 1st LSTM layer, returns sequences so we can stack another LSTM\n",
    "    LSTM(128, input_shape=(SEQ_LEN, NUM_FEATURES), return_sequences=True),\n",
    "    Dropout(0.2),\n",
    "\n",
    "    # 2nd LSTM layer\n",
    "    LSTM(64, return_sequences=False),\n",
    "    Dropout(0.2),\n",
    "\n",
    "    # Dense “bottleneck” to learn combined features\n",
    "    Dense(32, activation='relu'),\n",
    "    Dropout(0.1),\n",
    "\n",
    "    # Final output: 14 sigmoid neurons, one per future day\n",
    "    Dense(PRED_HORIZON, activation='sigmoid')\n",
    "])\n",
    "\n",
    "model.compile(\n",
    "    optimizer=Adam(learning_rate=0.0001),\n",
    "    loss=binary_focal_loss(gamma=2.0, alpha=0.25),\n",
    "    metrics=['accuracy']\n",
    ")\n",
    "\n",
    "model.summary()"
   ]
  },
  {
   "cell_type": "code",
   "execution_count": 22,
   "id": "dbb2475d",
   "metadata": {
    "execution": {
     "iopub.execute_input": "2025-04-17T20:20:31.982950Z",
     "iopub.status.busy": "2025-04-17T20:20:31.982298Z",
     "iopub.status.idle": "2025-04-17T20:20:31.986810Z",
     "shell.execute_reply": "2025-04-17T20:20:31.986175Z"
    },
    "papermill": {
     "duration": 0.01301,
     "end_time": "2025-04-17T20:20:31.987947",
     "exception": false,
     "start_time": "2025-04-17T20:20:31.974937",
     "status": "completed"
    },
    "tags": []
   },
   "outputs": [],
   "source": [
    "checkpoint = ModelCheckpoint(\n",
    "    filepath='best_model.weights.h5',      # Path to save the model weights\n",
    "    monitor='val_loss',                    # Metric to monitor\n",
    "    save_best_only=True,                   # Save only the best weights\n",
    "    save_weights_only=True,                # Save only weights (not full model)\n",
    "    mode='min',                            # 'min' for loss, 'max' for accuracy\n",
    "    verbose=1\n",
    ")"
   ]
  },
  {
   "cell_type": "code",
   "execution_count": 23,
   "id": "b1c9317b",
   "metadata": {
    "execution": {
     "iopub.execute_input": "2025-04-17T20:20:32.000730Z",
     "iopub.status.busy": "2025-04-17T20:20:32.000481Z",
     "iopub.status.idle": "2025-04-17T20:31:08.010350Z",
     "shell.execute_reply": "2025-04-17T20:31:08.009630Z"
    },
    "papermill": {
     "duration": 636.017884,
     "end_time": "2025-04-17T20:31:08.011754",
     "exception": false,
     "start_time": "2025-04-17T20:20:31.993870",
     "status": "completed"
    },
    "tags": []
   },
   "outputs": [
    {
     "name": "stdout",
     "output_type": "stream",
     "text": [
      "Epoch 1/100\n"
     ]
    },
    {
     "name": "stderr",
     "output_type": "stream",
     "text": [
      "I0000 00:00:1744921236.430437      64 cuda_dnn.cc:529] Loaded cuDNN version 90300\n"
     ]
    },
    {
     "name": "stdout",
     "output_type": "stream",
     "text": [
      "\u001b[1m811/811\u001b[0m \u001b[32m━━━━━━━━━━━━━━━━━━━━\u001b[0m\u001b[37m\u001b[0m \u001b[1m0s\u001b[0m 7ms/step - accuracy: 0.0415 - loss: 0.0642\n",
      "Epoch 1: val_loss improved from inf to 0.01668, saving model to best_model.weights.h5\n",
      "\u001b[1m811/811\u001b[0m \u001b[32m━━━━━━━━━━━━━━━━━━━━\u001b[0m\u001b[37m\u001b[0m \u001b[1m13s\u001b[0m 9ms/step - accuracy: 0.0415 - loss: 0.0641 - val_accuracy: 0.0370 - val_loss: 0.0167\n",
      "Epoch 2/100\n",
      "\u001b[1m809/811\u001b[0m \u001b[32m━━━━━━━━━━━━━━━━━━━\u001b[0m\u001b[37m━\u001b[0m \u001b[1m0s\u001b[0m 7ms/step - accuracy: 0.0470 - loss: 0.0231\n",
      "Epoch 2: val_loss improved from 0.01668 to 0.01647, saving model to best_model.weights.h5\n",
      "\u001b[1m811/811\u001b[0m \u001b[32m━━━━━━━━━━━━━━━━━━━━\u001b[0m\u001b[37m\u001b[0m \u001b[1m6s\u001b[0m 8ms/step - accuracy: 0.0471 - loss: 0.0231 - val_accuracy: 0.0358 - val_loss: 0.0165\n",
      "Epoch 3/100\n",
      "\u001b[1m807/811\u001b[0m \u001b[32m━━━━━━━━━━━━━━━━━━━\u001b[0m\u001b[37m━\u001b[0m \u001b[1m0s\u001b[0m 7ms/step - accuracy: 0.0495 - loss: 0.0222\n",
      "Epoch 3: val_loss did not improve from 0.01647\n",
      "\u001b[1m811/811\u001b[0m \u001b[32m━━━━━━━━━━━━━━━━━━━━\u001b[0m\u001b[37m\u001b[0m \u001b[1m6s\u001b[0m 8ms/step - accuracy: 0.0495 - loss: 0.0222 - val_accuracy: 0.0292 - val_loss: 0.0165\n",
      "Epoch 4/100\n",
      "\u001b[1m807/811\u001b[0m \u001b[32m━━━━━━━━━━━━━━━━━━━\u001b[0m\u001b[37m━\u001b[0m \u001b[1m0s\u001b[0m 7ms/step - accuracy: 0.0504 - loss: 0.0216\n",
      "Epoch 4: val_loss improved from 0.01647 to 0.01645, saving model to best_model.weights.h5\n",
      "\u001b[1m811/811\u001b[0m \u001b[32m━━━━━━━━━━━━━━━━━━━━\u001b[0m\u001b[37m\u001b[0m \u001b[1m7s\u001b[0m 8ms/step - accuracy: 0.0504 - loss: 0.0216 - val_accuracy: 0.0369 - val_loss: 0.0165\n",
      "Epoch 5/100\n",
      "\u001b[1m809/811\u001b[0m \u001b[32m━━━━━━━━━━━━━━━━━━━\u001b[0m\u001b[37m━\u001b[0m \u001b[1m0s\u001b[0m 7ms/step - accuracy: 0.0508 - loss: 0.0212\n",
      "Epoch 5: val_loss improved from 0.01645 to 0.01642, saving model to best_model.weights.h5\n",
      "\u001b[1m811/811\u001b[0m \u001b[32m━━━━━━━━━━━━━━━━━━━━\u001b[0m\u001b[37m\u001b[0m \u001b[1m6s\u001b[0m 8ms/step - accuracy: 0.0508 - loss: 0.0212 - val_accuracy: 0.0307 - val_loss: 0.0164\n",
      "Epoch 6/100\n",
      "\u001b[1m807/811\u001b[0m \u001b[32m━━━━━━━━━━━━━━━━━━━\u001b[0m\u001b[37m━\u001b[0m \u001b[1m0s\u001b[0m 7ms/step - accuracy: 0.0500 - loss: 0.0206\n",
      "Epoch 6: val_loss did not improve from 0.01642\n",
      "\u001b[1m811/811\u001b[0m \u001b[32m━━━━━━━━━━━━━━━━━━━━\u001b[0m\u001b[37m\u001b[0m \u001b[1m6s\u001b[0m 8ms/step - accuracy: 0.0501 - loss: 0.0206 - val_accuracy: 0.0411 - val_loss: 0.0164\n",
      "Epoch 7/100\n",
      "\u001b[1m811/811\u001b[0m \u001b[32m━━━━━━━━━━━━━━━━━━━━\u001b[0m\u001b[37m\u001b[0m \u001b[1m0s\u001b[0m 7ms/step - accuracy: 0.0531 - loss: 0.0206\n",
      "Epoch 7: val_loss improved from 0.01642 to 0.01640, saving model to best_model.weights.h5\n",
      "\u001b[1m811/811\u001b[0m \u001b[32m━━━━━━━━━━━━━━━━━━━━\u001b[0m\u001b[37m\u001b[0m \u001b[1m6s\u001b[0m 8ms/step - accuracy: 0.0531 - loss: 0.0206 - val_accuracy: 0.0419 - val_loss: 0.0164\n",
      "Epoch 8/100\n",
      "\u001b[1m807/811\u001b[0m \u001b[32m━━━━━━━━━━━━━━━━━━━\u001b[0m\u001b[37m━\u001b[0m \u001b[1m0s\u001b[0m 7ms/step - accuracy: 0.0499 - loss: 0.0207\n",
      "Epoch 8: val_loss improved from 0.01640 to 0.01640, saving model to best_model.weights.h5\n",
      "\u001b[1m811/811\u001b[0m \u001b[32m━━━━━━━━━━━━━━━━━━━━\u001b[0m\u001b[37m\u001b[0m \u001b[1m6s\u001b[0m 8ms/step - accuracy: 0.0500 - loss: 0.0207 - val_accuracy: 0.0415 - val_loss: 0.0164\n",
      "Epoch 9/100\n",
      "\u001b[1m809/811\u001b[0m \u001b[32m━━━━━━━━━━━━━━━━━━━\u001b[0m\u001b[37m━\u001b[0m \u001b[1m0s\u001b[0m 7ms/step - accuracy: 0.0600 - loss: 0.0201\n",
      "Epoch 9: val_loss did not improve from 0.01640\n",
      "\u001b[1m811/811\u001b[0m \u001b[32m━━━━━━━━━━━━━━━━━━━━\u001b[0m\u001b[37m\u001b[0m \u001b[1m6s\u001b[0m 8ms/step - accuracy: 0.0599 - loss: 0.0201 - val_accuracy: 0.0413 - val_loss: 0.0164\n",
      "Epoch 10/100\n",
      "\u001b[1m811/811\u001b[0m \u001b[32m━━━━━━━━━━━━━━━━━━━━\u001b[0m\u001b[37m\u001b[0m \u001b[1m0s\u001b[0m 7ms/step - accuracy: 0.0608 - loss: 0.0200\n",
      "Epoch 10: val_loss improved from 0.01640 to 0.01639, saving model to best_model.weights.h5\n",
      "\u001b[1m811/811\u001b[0m \u001b[32m━━━━━━━━━━━━━━━━━━━━\u001b[0m\u001b[37m\u001b[0m \u001b[1m6s\u001b[0m 8ms/step - accuracy: 0.0608 - loss: 0.0200 - val_accuracy: 0.0414 - val_loss: 0.0164\n",
      "Epoch 11/100\n",
      "\u001b[1m811/811\u001b[0m \u001b[32m━━━━━━━━━━━━━━━━━━━━\u001b[0m\u001b[37m\u001b[0m \u001b[1m0s\u001b[0m 7ms/step - accuracy: 0.0488 - loss: 0.0203\n",
      "Epoch 11: val_loss improved from 0.01639 to 0.01639, saving model to best_model.weights.h5\n",
      "\u001b[1m811/811\u001b[0m \u001b[32m━━━━━━━━━━━━━━━━━━━━\u001b[0m\u001b[37m\u001b[0m \u001b[1m6s\u001b[0m 8ms/step - accuracy: 0.0488 - loss: 0.0203 - val_accuracy: 0.0418 - val_loss: 0.0164\n",
      "Epoch 12/100\n",
      "\u001b[1m809/811\u001b[0m \u001b[32m━━━━━━━━━━━━━━━━━━━\u001b[0m\u001b[37m━\u001b[0m \u001b[1m0s\u001b[0m 7ms/step - accuracy: 0.0607 - loss: 0.0202\n",
      "Epoch 12: val_loss did not improve from 0.01639\n",
      "\u001b[1m811/811\u001b[0m \u001b[32m━━━━━━━━━━━━━━━━━━━━\u001b[0m\u001b[37m\u001b[0m \u001b[1m6s\u001b[0m 8ms/step - accuracy: 0.0606 - loss: 0.0202 - val_accuracy: 0.0419 - val_loss: 0.0164\n",
      "Epoch 13/100\n",
      "\u001b[1m810/811\u001b[0m \u001b[32m━━━━━━━━━━━━━━━━━━━\u001b[0m\u001b[37m━\u001b[0m \u001b[1m0s\u001b[0m 7ms/step - accuracy: 0.0503 - loss: 0.0199\n",
      "Epoch 13: val_loss improved from 0.01639 to 0.01639, saving model to best_model.weights.h5\n",
      "\u001b[1m811/811\u001b[0m \u001b[32m━━━━━━━━━━━━━━━━━━━━\u001b[0m\u001b[37m\u001b[0m \u001b[1m6s\u001b[0m 8ms/step - accuracy: 0.0503 - loss: 0.0199 - val_accuracy: 0.0421 - val_loss: 0.0164\n",
      "Epoch 14/100\n",
      "\u001b[1m811/811\u001b[0m \u001b[32m━━━━━━━━━━━━━━━━━━━━\u001b[0m\u001b[37m\u001b[0m \u001b[1m0s\u001b[0m 7ms/step - accuracy: 0.0553 - loss: 0.0202\n",
      "Epoch 14: val_loss did not improve from 0.01639\n",
      "\u001b[1m811/811\u001b[0m \u001b[32m━━━━━━━━━━━━━━━━━━━━\u001b[0m\u001b[37m\u001b[0m \u001b[1m6s\u001b[0m 8ms/step - accuracy: 0.0553 - loss: 0.0202 - val_accuracy: 0.0318 - val_loss: 0.0164\n",
      "Epoch 15/100\n",
      "\u001b[1m808/811\u001b[0m \u001b[32m━━━━━━━━━━━━━━━━━━━\u001b[0m\u001b[37m━\u001b[0m \u001b[1m0s\u001b[0m 7ms/step - accuracy: 0.0536 - loss: 0.0200\n",
      "Epoch 15: val_loss improved from 0.01639 to 0.01638, saving model to best_model.weights.h5\n",
      "\u001b[1m811/811\u001b[0m \u001b[32m━━━━━━━━━━━━━━━━━━━━\u001b[0m\u001b[37m\u001b[0m \u001b[1m6s\u001b[0m 8ms/step - accuracy: 0.0536 - loss: 0.0200 - val_accuracy: 0.1248 - val_loss: 0.0164\n",
      "Epoch 16/100\n",
      "\u001b[1m811/811\u001b[0m \u001b[32m━━━━━━━━━━━━━━━━━━━━\u001b[0m\u001b[37m\u001b[0m \u001b[1m0s\u001b[0m 7ms/step - accuracy: 0.0625 - loss: 0.0200\n",
      "Epoch 16: val_loss did not improve from 0.01638\n",
      "\u001b[1m811/811\u001b[0m \u001b[32m━━━━━━━━━━━━━━━━━━━━\u001b[0m\u001b[37m\u001b[0m \u001b[1m6s\u001b[0m 8ms/step - accuracy: 0.0625 - loss: 0.0200 - val_accuracy: 0.0308 - val_loss: 0.0164\n",
      "Epoch 17/100\n",
      "\u001b[1m805/811\u001b[0m \u001b[32m━━━━━━━━━━━━━━━━━━━\u001b[0m\u001b[37m━\u001b[0m \u001b[1m0s\u001b[0m 7ms/step - accuracy: 0.0523 - loss: 0.0198\n",
      "Epoch 17: val_loss did not improve from 0.01638\n",
      "\u001b[1m811/811\u001b[0m \u001b[32m━━━━━━━━━━━━━━━━━━━━\u001b[0m\u001b[37m\u001b[0m \u001b[1m6s\u001b[0m 8ms/step - accuracy: 0.0523 - loss: 0.0198 - val_accuracy: 0.0416 - val_loss: 0.0164\n",
      "Epoch 18/100\n",
      "\u001b[1m808/811\u001b[0m \u001b[32m━━━━━━━━━━━━━━━━━━━\u001b[0m\u001b[37m━\u001b[0m \u001b[1m0s\u001b[0m 7ms/step - accuracy: 0.0571 - loss: 0.0197\n",
      "Epoch 18: val_loss improved from 0.01638 to 0.01638, saving model to best_model.weights.h5\n",
      "\u001b[1m811/811\u001b[0m \u001b[32m━━━━━━━━━━━━━━━━━━━━\u001b[0m\u001b[37m\u001b[0m \u001b[1m6s\u001b[0m 8ms/step - accuracy: 0.0571 - loss: 0.0197 - val_accuracy: 0.0417 - val_loss: 0.0164\n",
      "Epoch 19/100\n",
      "\u001b[1m808/811\u001b[0m \u001b[32m━━━━━━━━━━━━━━━━━━━\u001b[0m\u001b[37m━\u001b[0m \u001b[1m0s\u001b[0m 7ms/step - accuracy: 0.0546 - loss: 0.0199\n",
      "Epoch 19: val_loss did not improve from 0.01638\n",
      "\u001b[1m811/811\u001b[0m \u001b[32m━━━━━━━━━━━━━━━━━━━━\u001b[0m\u001b[37m\u001b[0m \u001b[1m7s\u001b[0m 8ms/step - accuracy: 0.0546 - loss: 0.0199 - val_accuracy: 0.0418 - val_loss: 0.0164\n",
      "Epoch 20/100\n",
      "\u001b[1m807/811\u001b[0m \u001b[32m━━━━━━━━━━━━━━━━━━━\u001b[0m\u001b[37m━\u001b[0m \u001b[1m0s\u001b[0m 7ms/step - accuracy: 0.0518 - loss: 0.0199\n",
      "Epoch 20: val_loss did not improve from 0.01638\n",
      "\u001b[1m811/811\u001b[0m \u001b[32m━━━━━━━━━━━━━━━━━━━━\u001b[0m\u001b[37m\u001b[0m \u001b[1m6s\u001b[0m 8ms/step - accuracy: 0.0518 - loss: 0.0199 - val_accuracy: 0.0417 - val_loss: 0.0164\n",
      "Epoch 21/100\n",
      "\u001b[1m811/811\u001b[0m \u001b[32m━━━━━━━━━━━━━━━━━━━━\u001b[0m\u001b[37m\u001b[0m \u001b[1m0s\u001b[0m 7ms/step - accuracy: 0.0615 - loss: 0.0196\n",
      "Epoch 21: val_loss did not improve from 0.01638\n",
      "\u001b[1m811/811\u001b[0m \u001b[32m━━━━━━━━━━━━━━━━━━━━\u001b[0m\u001b[37m\u001b[0m \u001b[1m6s\u001b[0m 8ms/step - accuracy: 0.0615 - loss: 0.0196 - val_accuracy: 0.0419 - val_loss: 0.0164\n",
      "Epoch 22/100\n",
      "\u001b[1m804/811\u001b[0m \u001b[32m━━━━━━━━━━━━━━━━━━━\u001b[0m\u001b[37m━\u001b[0m \u001b[1m0s\u001b[0m 7ms/step - accuracy: 0.0554 - loss: 0.0197\n",
      "Epoch 22: val_loss did not improve from 0.01638\n",
      "\u001b[1m811/811\u001b[0m \u001b[32m━━━━━━━━━━━━━━━━━━━━\u001b[0m\u001b[37m\u001b[0m \u001b[1m6s\u001b[0m 8ms/step - accuracy: 0.0554 - loss: 0.0197 - val_accuracy: 0.0415 - val_loss: 0.0164\n",
      "Epoch 23/100\n",
      "\u001b[1m804/811\u001b[0m \u001b[32m━━━━━━━━━━━━━━━━━━━\u001b[0m\u001b[37m━\u001b[0m \u001b[1m0s\u001b[0m 7ms/step - accuracy: 0.0590 - loss: 0.0199\n",
      "Epoch 23: val_loss did not improve from 0.01638\n",
      "\u001b[1m811/811\u001b[0m \u001b[32m━━━━━━━━━━━━━━━━━━━━\u001b[0m\u001b[37m\u001b[0m \u001b[1m6s\u001b[0m 8ms/step - accuracy: 0.0590 - loss: 0.0199 - val_accuracy: 0.0413 - val_loss: 0.0164\n",
      "Epoch 24/100\n",
      "\u001b[1m805/811\u001b[0m \u001b[32m━━━━━━━━━━━━━━━━━━━\u001b[0m\u001b[37m━\u001b[0m \u001b[1m0s\u001b[0m 7ms/step - accuracy: 0.0563 - loss: 0.0199\n",
      "Epoch 24: val_loss improved from 0.01638 to 0.01637, saving model to best_model.weights.h5\n",
      "\u001b[1m811/811\u001b[0m \u001b[32m━━━━━━━━━━━━━━━━━━━━\u001b[0m\u001b[37m\u001b[0m \u001b[1m6s\u001b[0m 8ms/step - accuracy: 0.0563 - loss: 0.0199 - val_accuracy: 0.0418 - val_loss: 0.0164\n",
      "Epoch 25/100\n",
      "\u001b[1m808/811\u001b[0m \u001b[32m━━━━━━━━━━━━━━━━━━━\u001b[0m\u001b[37m━\u001b[0m \u001b[1m0s\u001b[0m 7ms/step - accuracy: 0.0537 - loss: 0.0199\n",
      "Epoch 25: val_loss improved from 0.01637 to 0.01637, saving model to best_model.weights.h5\n",
      "\u001b[1m811/811\u001b[0m \u001b[32m━━━━━━━━━━━━━━━━━━━━\u001b[0m\u001b[37m\u001b[0m \u001b[1m6s\u001b[0m 8ms/step - accuracy: 0.0537 - loss: 0.0199 - val_accuracy: 0.0411 - val_loss: 0.0164\n",
      "Epoch 26/100\n",
      "\u001b[1m810/811\u001b[0m \u001b[32m━━━━━━━━━━━━━━━━━━━\u001b[0m\u001b[37m━\u001b[0m \u001b[1m0s\u001b[0m 7ms/step - accuracy: 0.0648 - loss: 0.0199\n",
      "Epoch 26: val_loss did not improve from 0.01637\n",
      "\u001b[1m811/811\u001b[0m \u001b[32m━━━━━━━━━━━━━━━━━━━━\u001b[0m\u001b[37m\u001b[0m \u001b[1m6s\u001b[0m 8ms/step - accuracy: 0.0648 - loss: 0.0199 - val_accuracy: 0.0418 - val_loss: 0.0164\n",
      "Epoch 27/100\n",
      "\u001b[1m811/811\u001b[0m \u001b[32m━━━━━━━━━━━━━━━━━━━━\u001b[0m\u001b[37m\u001b[0m \u001b[1m0s\u001b[0m 7ms/step - accuracy: 0.0560 - loss: 0.0198\n",
      "Epoch 27: val_loss did not improve from 0.01637\n",
      "\u001b[1m811/811\u001b[0m \u001b[32m━━━━━━━━━━━━━━━━━━━━\u001b[0m\u001b[37m\u001b[0m \u001b[1m6s\u001b[0m 8ms/step - accuracy: 0.0560 - loss: 0.0198 - val_accuracy: 0.0417 - val_loss: 0.0164\n",
      "Epoch 28/100\n",
      "\u001b[1m805/811\u001b[0m \u001b[32m━━━━━━━━━━━━━━━━━━━\u001b[0m\u001b[37m━\u001b[0m \u001b[1m0s\u001b[0m 7ms/step - accuracy: 0.0531 - loss: 0.0198\n",
      "Epoch 28: val_loss improved from 0.01637 to 0.01636, saving model to best_model.weights.h5\n",
      "\u001b[1m811/811\u001b[0m \u001b[32m━━━━━━━━━━━━━━━━━━━━\u001b[0m\u001b[37m\u001b[0m \u001b[1m6s\u001b[0m 8ms/step - accuracy: 0.0531 - loss: 0.0198 - val_accuracy: 0.0419 - val_loss: 0.0164\n",
      "Epoch 29/100\n",
      "\u001b[1m807/811\u001b[0m \u001b[32m━━━━━━━━━━━━━━━━━━━\u001b[0m\u001b[37m━\u001b[0m \u001b[1m0s\u001b[0m 7ms/step - accuracy: 0.0612 - loss: 0.0197\n",
      "Epoch 29: val_loss did not improve from 0.01636\n",
      "\u001b[1m811/811\u001b[0m \u001b[32m━━━━━━━━━━━━━━━━━━━━\u001b[0m\u001b[37m\u001b[0m \u001b[1m6s\u001b[0m 8ms/step - accuracy: 0.0611 - loss: 0.0197 - val_accuracy: 0.0417 - val_loss: 0.0164\n",
      "Epoch 30/100\n",
      "\u001b[1m804/811\u001b[0m \u001b[32m━━━━━━━━━━━━━━━━━━━\u001b[0m\u001b[37m━\u001b[0m \u001b[1m0s\u001b[0m 7ms/step - accuracy: 0.0650 - loss: 0.0196\n",
      "Epoch 30: val_loss did not improve from 0.01636\n",
      "\u001b[1m811/811\u001b[0m \u001b[32m━━━━━━━━━━━━━━━━━━━━\u001b[0m\u001b[37m\u001b[0m \u001b[1m6s\u001b[0m 8ms/step - accuracy: 0.0650 - loss: 0.0196 - val_accuracy: 0.0420 - val_loss: 0.0164\n",
      "Epoch 31/100\n",
      "\u001b[1m808/811\u001b[0m \u001b[32m━━━━━━━━━━━━━━━━━━━\u001b[0m\u001b[37m━\u001b[0m \u001b[1m0s\u001b[0m 7ms/step - accuracy: 0.0570 - loss: 0.0199\n",
      "Epoch 31: val_loss improved from 0.01636 to 0.01636, saving model to best_model.weights.h5\n",
      "\u001b[1m811/811\u001b[0m \u001b[32m━━━━━━━━━━━━━━━━━━━━\u001b[0m\u001b[37m\u001b[0m \u001b[1m6s\u001b[0m 8ms/step - accuracy: 0.0570 - loss: 0.0199 - val_accuracy: 0.0408 - val_loss: 0.0164\n",
      "Epoch 32/100\n",
      "\u001b[1m808/811\u001b[0m \u001b[32m━━━━━━━━━━━━━━━━━━━\u001b[0m\u001b[37m━\u001b[0m \u001b[1m0s\u001b[0m 7ms/step - accuracy: 0.0598 - loss: 0.0194\n",
      "Epoch 32: val_loss did not improve from 0.01636\n",
      "\u001b[1m811/811\u001b[0m \u001b[32m━━━━━━━━━━━━━━━━━━━━\u001b[0m\u001b[37m\u001b[0m \u001b[1m6s\u001b[0m 8ms/step - accuracy: 0.0598 - loss: 0.0194 - val_accuracy: 0.0417 - val_loss: 0.0164\n",
      "Epoch 33/100\n",
      "\u001b[1m807/811\u001b[0m \u001b[32m━━━━━━━━━━━━━━━━━━━\u001b[0m\u001b[37m━\u001b[0m \u001b[1m0s\u001b[0m 7ms/step - accuracy: 0.0607 - loss: 0.0196\n",
      "Epoch 33: val_loss did not improve from 0.01636\n",
      "\u001b[1m811/811\u001b[0m \u001b[32m━━━━━━━━━━━━━━━━━━━━\u001b[0m\u001b[37m\u001b[0m \u001b[1m6s\u001b[0m 8ms/step - accuracy: 0.0607 - loss: 0.0196 - val_accuracy: 0.0403 - val_loss: 0.0164\n",
      "Epoch 34/100\n",
      "\u001b[1m810/811\u001b[0m \u001b[32m━━━━━━━━━━━━━━━━━━━\u001b[0m\u001b[37m━\u001b[0m \u001b[1m0s\u001b[0m 7ms/step - accuracy: 0.0568 - loss: 0.0197\n",
      "Epoch 34: val_loss improved from 0.01636 to 0.01635, saving model to best_model.weights.h5\n",
      "\u001b[1m811/811\u001b[0m \u001b[32m━━━━━━━━━━━━━━━━━━━━\u001b[0m\u001b[37m\u001b[0m \u001b[1m6s\u001b[0m 8ms/step - accuracy: 0.0568 - loss: 0.0197 - val_accuracy: 0.0410 - val_loss: 0.0164\n",
      "Epoch 35/100\n",
      "\u001b[1m805/811\u001b[0m \u001b[32m━━━━━━━━━━━━━━━━━━━\u001b[0m\u001b[37m━\u001b[0m \u001b[1m0s\u001b[0m 7ms/step - accuracy: 0.0617 - loss: 0.0196\n",
      "Epoch 35: val_loss did not improve from 0.01635\n",
      "\u001b[1m811/811\u001b[0m \u001b[32m━━━━━━━━━━━━━━━━━━━━\u001b[0m\u001b[37m\u001b[0m \u001b[1m6s\u001b[0m 8ms/step - accuracy: 0.0617 - loss: 0.0196 - val_accuracy: 0.0411 - val_loss: 0.0164\n",
      "Epoch 36/100\n",
      "\u001b[1m807/811\u001b[0m \u001b[32m━━━━━━━━━━━━━━━━━━━\u001b[0m\u001b[37m━\u001b[0m \u001b[1m0s\u001b[0m 7ms/step - accuracy: 0.0548 - loss: 0.0195\n",
      "Epoch 36: val_loss improved from 0.01635 to 0.01635, saving model to best_model.weights.h5\n",
      "\u001b[1m811/811\u001b[0m \u001b[32m━━━━━━━━━━━━━━━━━━━━\u001b[0m\u001b[37m\u001b[0m \u001b[1m6s\u001b[0m 8ms/step - accuracy: 0.0548 - loss: 0.0195 - val_accuracy: 0.0418 - val_loss: 0.0164\n",
      "Epoch 37/100\n",
      "\u001b[1m807/811\u001b[0m \u001b[32m━━━━━━━━━━━━━━━━━━━\u001b[0m\u001b[37m━\u001b[0m \u001b[1m0s\u001b[0m 7ms/step - accuracy: 0.0543 - loss: 0.0197\n",
      "Epoch 37: val_loss did not improve from 0.01635\n",
      "\u001b[1m811/811\u001b[0m \u001b[32m━━━━━━━━━━━━━━━━━━━━\u001b[0m\u001b[37m\u001b[0m \u001b[1m6s\u001b[0m 8ms/step - accuracy: 0.0543 - loss: 0.0197 - val_accuracy: 0.0411 - val_loss: 0.0164\n",
      "Epoch 38/100\n",
      "\u001b[1m811/811\u001b[0m \u001b[32m━━━━━━━━━━━━━━━━━━━━\u001b[0m\u001b[37m\u001b[0m \u001b[1m0s\u001b[0m 7ms/step - accuracy: 0.0600 - loss: 0.0195\n",
      "Epoch 38: val_loss did not improve from 0.01635\n",
      "\u001b[1m811/811\u001b[0m \u001b[32m━━━━━━━━━━━━━━━━━━━━\u001b[0m\u001b[37m\u001b[0m \u001b[1m6s\u001b[0m 8ms/step - accuracy: 0.0600 - loss: 0.0195 - val_accuracy: 0.0418 - val_loss: 0.0164\n",
      "Epoch 39/100\n",
      "\u001b[1m809/811\u001b[0m \u001b[32m━━━━━━━━━━━━━━━━━━━\u001b[0m\u001b[37m━\u001b[0m \u001b[1m0s\u001b[0m 7ms/step - accuracy: 0.0535 - loss: 0.0198\n",
      "Epoch 39: val_loss did not improve from 0.01635\n",
      "\u001b[1m811/811\u001b[0m \u001b[32m━━━━━━━━━━━━━━━━━━━━\u001b[0m\u001b[37m\u001b[0m \u001b[1m6s\u001b[0m 8ms/step - accuracy: 0.0535 - loss: 0.0198 - val_accuracy: 0.0417 - val_loss: 0.0164\n",
      "Epoch 40/100\n",
      "\u001b[1m804/811\u001b[0m \u001b[32m━━━━━━━━━━━━━━━━━━━\u001b[0m\u001b[37m━\u001b[0m \u001b[1m0s\u001b[0m 7ms/step - accuracy: 0.0580 - loss: 0.0194\n",
      "Epoch 40: val_loss improved from 0.01635 to 0.01635, saving model to best_model.weights.h5\n",
      "\u001b[1m811/811\u001b[0m \u001b[32m━━━━━━━━━━━━━━━━━━━━\u001b[0m\u001b[37m\u001b[0m \u001b[1m6s\u001b[0m 8ms/step - accuracy: 0.0580 - loss: 0.0194 - val_accuracy: 0.0415 - val_loss: 0.0163\n",
      "Epoch 41/100\n",
      "\u001b[1m806/811\u001b[0m \u001b[32m━━━━━━━━━━━━━━━━━━━\u001b[0m\u001b[37m━\u001b[0m \u001b[1m0s\u001b[0m 7ms/step - accuracy: 0.0650 - loss: 0.0193\n",
      "Epoch 41: val_loss did not improve from 0.01635\n",
      "\u001b[1m811/811\u001b[0m \u001b[32m━━━━━━━━━━━━━━━━━━━━\u001b[0m\u001b[37m\u001b[0m \u001b[1m6s\u001b[0m 8ms/step - accuracy: 0.0650 - loss: 0.0193 - val_accuracy: 0.0414 - val_loss: 0.0164\n",
      "Epoch 42/100\n",
      "\u001b[1m807/811\u001b[0m \u001b[32m━━━━━━━━━━━━━━━━━━━\u001b[0m\u001b[37m━\u001b[0m \u001b[1m0s\u001b[0m 7ms/step - accuracy: 0.0626 - loss: 0.0195\n",
      "Epoch 42: val_loss improved from 0.01635 to 0.01635, saving model to best_model.weights.h5\n",
      "\u001b[1m811/811\u001b[0m \u001b[32m━━━━━━━━━━━━━━━━━━━━\u001b[0m\u001b[37m\u001b[0m \u001b[1m6s\u001b[0m 8ms/step - accuracy: 0.0626 - loss: 0.0195 - val_accuracy: 0.0419 - val_loss: 0.0163\n",
      "Epoch 43/100\n",
      "\u001b[1m808/811\u001b[0m \u001b[32m━━━━━━━━━━━━━━━━━━━\u001b[0m\u001b[37m━\u001b[0m \u001b[1m0s\u001b[0m 7ms/step - accuracy: 0.0542 - loss: 0.0196\n",
      "Epoch 43: val_loss improved from 0.01635 to 0.01634, saving model to best_model.weights.h5\n",
      "\u001b[1m811/811\u001b[0m \u001b[32m━━━━━━━━━━━━━━━━━━━━\u001b[0m\u001b[37m\u001b[0m \u001b[1m6s\u001b[0m 8ms/step - accuracy: 0.0542 - loss: 0.0196 - val_accuracy: 0.0410 - val_loss: 0.0163\n",
      "Epoch 44/100\n",
      "\u001b[1m809/811\u001b[0m \u001b[32m━━━━━━━━━━━━━━━━━━━\u001b[0m\u001b[37m━\u001b[0m \u001b[1m0s\u001b[0m 7ms/step - accuracy: 0.0648 - loss: 0.0199\n",
      "Epoch 44: val_loss did not improve from 0.01634\n",
      "\u001b[1m811/811\u001b[0m \u001b[32m━━━━━━━━━━━━━━━━━━━━\u001b[0m\u001b[37m\u001b[0m \u001b[1m6s\u001b[0m 8ms/step - accuracy: 0.0648 - loss: 0.0199 - val_accuracy: 0.0411 - val_loss: 0.0164\n",
      "Epoch 45/100\n",
      "\u001b[1m805/811\u001b[0m \u001b[32m━━━━━━━━━━━━━━━━━━━\u001b[0m\u001b[37m━\u001b[0m \u001b[1m0s\u001b[0m 7ms/step - accuracy: 0.0553 - loss: 0.0194\n",
      "Epoch 45: val_loss improved from 0.01634 to 0.01634, saving model to best_model.weights.h5\n",
      "\u001b[1m811/811\u001b[0m \u001b[32m━━━━━━━━━━━━━━━━━━━━\u001b[0m\u001b[37m\u001b[0m \u001b[1m6s\u001b[0m 8ms/step - accuracy: 0.0553 - loss: 0.0194 - val_accuracy: 0.0422 - val_loss: 0.0163\n",
      "Epoch 46/100\n",
      "\u001b[1m806/811\u001b[0m \u001b[32m━━━━━━━━━━━━━━━━━━━\u001b[0m\u001b[37m━\u001b[0m \u001b[1m0s\u001b[0m 7ms/step - accuracy: 0.0615 - loss: 0.0194\n",
      "Epoch 46: val_loss improved from 0.01634 to 0.01634, saving model to best_model.weights.h5\n",
      "\u001b[1m811/811\u001b[0m \u001b[32m━━━━━━━━━━━━━━━━━━━━\u001b[0m\u001b[37m\u001b[0m \u001b[1m6s\u001b[0m 8ms/step - accuracy: 0.0615 - loss: 0.0194 - val_accuracy: 0.0425 - val_loss: 0.0163\n",
      "Epoch 47/100\n",
      "\u001b[1m806/811\u001b[0m \u001b[32m━━━━━━━━━━━━━━━━━━━\u001b[0m\u001b[37m━\u001b[0m \u001b[1m0s\u001b[0m 7ms/step - accuracy: 0.0578 - loss: 0.0197\n",
      "Epoch 47: val_loss did not improve from 0.01634\n",
      "\u001b[1m811/811\u001b[0m \u001b[32m━━━━━━━━━━━━━━━━━━━━\u001b[0m\u001b[37m\u001b[0m \u001b[1m6s\u001b[0m 8ms/step - accuracy: 0.0578 - loss: 0.0197 - val_accuracy: 0.0417 - val_loss: 0.0163\n",
      "Epoch 48/100\n",
      "\u001b[1m806/811\u001b[0m \u001b[32m━━━━━━━━━━━━━━━━━━━\u001b[0m\u001b[37m━\u001b[0m \u001b[1m0s\u001b[0m 7ms/step - accuracy: 0.0616 - loss: 0.0198\n",
      "Epoch 48: val_loss improved from 0.01634 to 0.01633, saving model to best_model.weights.h5\n",
      "\u001b[1m811/811\u001b[0m \u001b[32m━━━━━━━━━━━━━━━━━━━━\u001b[0m\u001b[37m\u001b[0m \u001b[1m6s\u001b[0m 8ms/step - accuracy: 0.0615 - loss: 0.0198 - val_accuracy: 0.0415 - val_loss: 0.0163\n",
      "Epoch 49/100\n",
      "\u001b[1m809/811\u001b[0m \u001b[32m━━━━━━━━━━━━━━━━━━━\u001b[0m\u001b[37m━\u001b[0m \u001b[1m0s\u001b[0m 7ms/step - accuracy: 0.0566 - loss: 0.0196\n",
      "Epoch 49: val_loss did not improve from 0.01633\n",
      "\u001b[1m811/811\u001b[0m \u001b[32m━━━━━━━━━━━━━━━━━━━━\u001b[0m\u001b[37m\u001b[0m \u001b[1m6s\u001b[0m 8ms/step - accuracy: 0.0567 - loss: 0.0196 - val_accuracy: 0.0417 - val_loss: 0.0163\n",
      "Epoch 50/100\n",
      "\u001b[1m808/811\u001b[0m \u001b[32m━━━━━━━━━━━━━━━━━━━\u001b[0m\u001b[37m━\u001b[0m \u001b[1m0s\u001b[0m 7ms/step - accuracy: 0.0570 - loss: 0.0197\n",
      "Epoch 50: val_loss improved from 0.01633 to 0.01633, saving model to best_model.weights.h5\n",
      "\u001b[1m811/811\u001b[0m \u001b[32m━━━━━━━━━━━━━━━━━━━━\u001b[0m\u001b[37m\u001b[0m \u001b[1m6s\u001b[0m 8ms/step - accuracy: 0.0570 - loss: 0.0197 - val_accuracy: 0.0418 - val_loss: 0.0163\n",
      "Epoch 51/100\n",
      "\u001b[1m809/811\u001b[0m \u001b[32m━━━━━━━━━━━━━━━━━━━\u001b[0m\u001b[37m━\u001b[0m \u001b[1m0s\u001b[0m 7ms/step - accuracy: 0.0496 - loss: 0.0199\n",
      "Epoch 51: val_loss did not improve from 0.01633\n",
      "\u001b[1m811/811\u001b[0m \u001b[32m━━━━━━━━━━━━━━━━━━━━\u001b[0m\u001b[37m\u001b[0m \u001b[1m6s\u001b[0m 8ms/step - accuracy: 0.0496 - loss: 0.0199 - val_accuracy: 0.0418 - val_loss: 0.0163\n",
      "Epoch 52/100\n",
      "\u001b[1m808/811\u001b[0m \u001b[32m━━━━━━━━━━━━━━━━━━━\u001b[0m\u001b[37m━\u001b[0m \u001b[1m0s\u001b[0m 7ms/step - accuracy: 0.0636 - loss: 0.0199\n",
      "Epoch 52: val_loss did not improve from 0.01633\n",
      "\u001b[1m811/811\u001b[0m \u001b[32m━━━━━━━━━━━━━━━━━━━━\u001b[0m\u001b[37m\u001b[0m \u001b[1m6s\u001b[0m 8ms/step - accuracy: 0.0636 - loss: 0.0199 - val_accuracy: 0.0424 - val_loss: 0.0163\n",
      "Epoch 53/100\n",
      "\u001b[1m806/811\u001b[0m \u001b[32m━━━━━━━━━━━━━━━━━━━\u001b[0m\u001b[37m━\u001b[0m \u001b[1m0s\u001b[0m 7ms/step - accuracy: 0.0519 - loss: 0.0195\n",
      "Epoch 53: val_loss improved from 0.01633 to 0.01633, saving model to best_model.weights.h5\n",
      "\u001b[1m811/811\u001b[0m \u001b[32m━━━━━━━━━━━━━━━━━━━━\u001b[0m\u001b[37m\u001b[0m \u001b[1m6s\u001b[0m 8ms/step - accuracy: 0.0520 - loss: 0.0195 - val_accuracy: 0.0419 - val_loss: 0.0163\n",
      "Epoch 54/100\n",
      "\u001b[1m805/811\u001b[0m \u001b[32m━━━━━━━━━━━━━━━━━━━\u001b[0m\u001b[37m━\u001b[0m \u001b[1m0s\u001b[0m 7ms/step - accuracy: 0.0531 - loss: 0.0195\n",
      "Epoch 54: val_loss improved from 0.01633 to 0.01633, saving model to best_model.weights.h5\n",
      "\u001b[1m811/811\u001b[0m \u001b[32m━━━━━━━━━━━━━━━━━━━━\u001b[0m\u001b[37m\u001b[0m \u001b[1m6s\u001b[0m 8ms/step - accuracy: 0.0531 - loss: 0.0195 - val_accuracy: 0.0419 - val_loss: 0.0163\n",
      "Epoch 55/100\n",
      "\u001b[1m806/811\u001b[0m \u001b[32m━━━━━━━━━━━━━━━━━━━\u001b[0m\u001b[37m━\u001b[0m \u001b[1m0s\u001b[0m 7ms/step - accuracy: 0.0588 - loss: 0.0195\n",
      "Epoch 55: val_loss improved from 0.01633 to 0.01633, saving model to best_model.weights.h5\n",
      "\u001b[1m811/811\u001b[0m \u001b[32m━━━━━━━━━━━━━━━━━━━━\u001b[0m\u001b[37m\u001b[0m \u001b[1m6s\u001b[0m 8ms/step - accuracy: 0.0588 - loss: 0.0195 - val_accuracy: 0.0421 - val_loss: 0.0163\n",
      "Epoch 56/100\n",
      "\u001b[1m811/811\u001b[0m \u001b[32m━━━━━━━━━━━━━━━━━━━━\u001b[0m\u001b[37m\u001b[0m \u001b[1m0s\u001b[0m 7ms/step - accuracy: 0.0652 - loss: 0.0195\n",
      "Epoch 56: val_loss did not improve from 0.01633\n",
      "\u001b[1m811/811\u001b[0m \u001b[32m━━━━━━━━━━━━━━━━━━━━\u001b[0m\u001b[37m\u001b[0m \u001b[1m6s\u001b[0m 8ms/step - accuracy: 0.0652 - loss: 0.0195 - val_accuracy: 0.0423 - val_loss: 0.0163\n",
      "Epoch 57/100\n",
      "\u001b[1m804/811\u001b[0m \u001b[32m━━━━━━━━━━━━━━━━━━━\u001b[0m\u001b[37m━\u001b[0m \u001b[1m0s\u001b[0m 7ms/step - accuracy: 0.0574 - loss: 0.0197\n",
      "Epoch 57: val_loss improved from 0.01633 to 0.01632, saving model to best_model.weights.h5\n",
      "\u001b[1m811/811\u001b[0m \u001b[32m━━━━━━━━━━━━━━━━━━━━\u001b[0m\u001b[37m\u001b[0m \u001b[1m6s\u001b[0m 8ms/step - accuracy: 0.0574 - loss: 0.0197 - val_accuracy: 0.0417 - val_loss: 0.0163\n",
      "Epoch 58/100\n",
      "\u001b[1m807/811\u001b[0m \u001b[32m━━━━━━━━━━━━━━━━━━━\u001b[0m\u001b[37m━\u001b[0m \u001b[1m0s\u001b[0m 7ms/step - accuracy: 0.0497 - loss: 0.0192\n",
      "Epoch 58: val_loss improved from 0.01632 to 0.01632, saving model to best_model.weights.h5\n",
      "\u001b[1m811/811\u001b[0m \u001b[32m━━━━━━━━━━━━━━━━━━━━\u001b[0m\u001b[37m\u001b[0m \u001b[1m6s\u001b[0m 8ms/step - accuracy: 0.0497 - loss: 0.0192 - val_accuracy: 0.0422 - val_loss: 0.0163\n",
      "Epoch 59/100\n",
      "\u001b[1m806/811\u001b[0m \u001b[32m━━━━━━━━━━━━━━━━━━━\u001b[0m\u001b[37m━\u001b[0m \u001b[1m0s\u001b[0m 7ms/step - accuracy: 0.0516 - loss: 0.0196\n",
      "Epoch 59: val_loss did not improve from 0.01632\n",
      "\u001b[1m811/811\u001b[0m \u001b[32m━━━━━━━━━━━━━━━━━━━━\u001b[0m\u001b[37m\u001b[0m \u001b[1m6s\u001b[0m 8ms/step - accuracy: 0.0516 - loss: 0.0196 - val_accuracy: 0.0415 - val_loss: 0.0163\n",
      "Epoch 60/100\n",
      "\u001b[1m808/811\u001b[0m \u001b[32m━━━━━━━━━━━━━━━━━━━\u001b[0m\u001b[37m━\u001b[0m \u001b[1m0s\u001b[0m 7ms/step - accuracy: 0.0514 - loss: 0.0197\n",
      "Epoch 60: val_loss improved from 0.01632 to 0.01631, saving model to best_model.weights.h5\n",
      "\u001b[1m811/811\u001b[0m \u001b[32m━━━━━━━━━━━━━━━━━━━━\u001b[0m\u001b[37m\u001b[0m \u001b[1m6s\u001b[0m 8ms/step - accuracy: 0.0514 - loss: 0.0197 - val_accuracy: 0.0417 - val_loss: 0.0163\n",
      "Epoch 61/100\n",
      "\u001b[1m811/811\u001b[0m \u001b[32m━━━━━━━━━━━━━━━━━━━━\u001b[0m\u001b[37m\u001b[0m \u001b[1m0s\u001b[0m 7ms/step - accuracy: 0.0538 - loss: 0.0197\n",
      "Epoch 61: val_loss did not improve from 0.01631\n",
      "\u001b[1m811/811\u001b[0m \u001b[32m━━━━━━━━━━━━━━━━━━━━\u001b[0m\u001b[37m\u001b[0m \u001b[1m6s\u001b[0m 8ms/step - accuracy: 0.0538 - loss: 0.0197 - val_accuracy: 0.0428 - val_loss: 0.0163\n",
      "Epoch 62/100\n",
      "\u001b[1m808/811\u001b[0m \u001b[32m━━━━━━━━━━━━━━━━━━━\u001b[0m\u001b[37m━\u001b[0m \u001b[1m0s\u001b[0m 7ms/step - accuracy: 0.0480 - loss: 0.0194\n",
      "Epoch 62: val_loss did not improve from 0.01631\n",
      "\u001b[1m811/811\u001b[0m \u001b[32m━━━━━━━━━━━━━━━━━━━━\u001b[0m\u001b[37m\u001b[0m \u001b[1m6s\u001b[0m 8ms/step - accuracy: 0.0480 - loss: 0.0194 - val_accuracy: 0.0425 - val_loss: 0.0163\n",
      "Epoch 63/100\n",
      "\u001b[1m809/811\u001b[0m \u001b[32m━━━━━━━━━━━━━━━━━━━\u001b[0m\u001b[37m━\u001b[0m \u001b[1m0s\u001b[0m 7ms/step - accuracy: 0.0497 - loss: 0.0197\n",
      "Epoch 63: val_loss did not improve from 0.01631\n",
      "\u001b[1m811/811\u001b[0m \u001b[32m━━━━━━━━━━━━━━━━━━━━\u001b[0m\u001b[37m\u001b[0m \u001b[1m6s\u001b[0m 8ms/step - accuracy: 0.0497 - loss: 0.0197 - val_accuracy: 0.0417 - val_loss: 0.0163\n",
      "Epoch 64/100\n",
      "\u001b[1m806/811\u001b[0m \u001b[32m━━━━━━━━━━━━━━━━━━━\u001b[0m\u001b[37m━\u001b[0m \u001b[1m0s\u001b[0m 7ms/step - accuracy: 0.0491 - loss: 0.0193\n",
      "Epoch 64: val_loss did not improve from 0.01631\n",
      "\u001b[1m811/811\u001b[0m \u001b[32m━━━━━━━━━━━━━━━━━━━━\u001b[0m\u001b[37m\u001b[0m \u001b[1m6s\u001b[0m 8ms/step - accuracy: 0.0491 - loss: 0.0193 - val_accuracy: 0.0426 - val_loss: 0.0163\n",
      "Epoch 65/100\n",
      "\u001b[1m807/811\u001b[0m \u001b[32m━━━━━━━━━━━━━━━━━━━\u001b[0m\u001b[37m━\u001b[0m \u001b[1m0s\u001b[0m 7ms/step - accuracy: 0.0612 - loss: 0.0197\n",
      "Epoch 65: val_loss did not improve from 0.01631\n",
      "\u001b[1m811/811\u001b[0m \u001b[32m━━━━━━━━━━━━━━━━━━━━\u001b[0m\u001b[37m\u001b[0m \u001b[1m6s\u001b[0m 8ms/step - accuracy: 0.0612 - loss: 0.0197 - val_accuracy: 0.0417 - val_loss: 0.0163\n",
      "Epoch 66/100\n",
      "\u001b[1m805/811\u001b[0m \u001b[32m━━━━━━━━━━━━━━━━━━━\u001b[0m\u001b[37m━\u001b[0m \u001b[1m0s\u001b[0m 7ms/step - accuracy: 0.0531 - loss: 0.0193\n",
      "Epoch 66: val_loss did not improve from 0.01631\n",
      "\u001b[1m811/811\u001b[0m \u001b[32m━━━━━━━━━━━━━━━━━━━━\u001b[0m\u001b[37m\u001b[0m \u001b[1m6s\u001b[0m 8ms/step - accuracy: 0.0531 - loss: 0.0193 - val_accuracy: 0.0421 - val_loss: 0.0163\n",
      "Epoch 67/100\n",
      "\u001b[1m806/811\u001b[0m \u001b[32m━━━━━━━━━━━━━━━━━━━\u001b[0m\u001b[37m━\u001b[0m \u001b[1m0s\u001b[0m 7ms/step - accuracy: 0.0559 - loss: 0.0196\n",
      "Epoch 67: val_loss did not improve from 0.01631\n",
      "\u001b[1m811/811\u001b[0m \u001b[32m━━━━━━━━━━━━━━━━━━━━\u001b[0m\u001b[37m\u001b[0m \u001b[1m6s\u001b[0m 8ms/step - accuracy: 0.0559 - loss: 0.0196 - val_accuracy: 0.0424 - val_loss: 0.0163\n",
      "Epoch 68/100\n",
      "\u001b[1m809/811\u001b[0m \u001b[32m━━━━━━━━━━━━━━━━━━━\u001b[0m\u001b[37m━\u001b[0m \u001b[1m0s\u001b[0m 7ms/step - accuracy: 0.0502 - loss: 0.0197\n",
      "Epoch 68: val_loss improved from 0.01631 to 0.01630, saving model to best_model.weights.h5\n",
      "\u001b[1m811/811\u001b[0m \u001b[32m━━━━━━━━━━━━━━━━━━━━\u001b[0m\u001b[37m\u001b[0m \u001b[1m6s\u001b[0m 8ms/step - accuracy: 0.0502 - loss: 0.0197 - val_accuracy: 0.0423 - val_loss: 0.0163\n",
      "Epoch 69/100\n",
      "\u001b[1m810/811\u001b[0m \u001b[32m━━━━━━━━━━━━━━━━━━━\u001b[0m\u001b[37m━\u001b[0m \u001b[1m0s\u001b[0m 7ms/step - accuracy: 0.0652 - loss: 0.0193\n",
      "Epoch 69: val_loss improved from 0.01630 to 0.01629, saving model to best_model.weights.h5\n",
      "\u001b[1m811/811\u001b[0m \u001b[32m━━━━━━━━━━━━━━━━━━━━\u001b[0m\u001b[37m\u001b[0m \u001b[1m6s\u001b[0m 8ms/step - accuracy: 0.0652 - loss: 0.0193 - val_accuracy: 0.0419 - val_loss: 0.0163\n",
      "Epoch 70/100\n",
      "\u001b[1m804/811\u001b[0m \u001b[32m━━━━━━━━━━━━━━━━━━━\u001b[0m\u001b[37m━\u001b[0m \u001b[1m0s\u001b[0m 7ms/step - accuracy: 0.0496 - loss: 0.0195\n",
      "Epoch 70: val_loss did not improve from 0.01629\n",
      "\u001b[1m811/811\u001b[0m \u001b[32m━━━━━━━━━━━━━━━━━━━━\u001b[0m\u001b[37m\u001b[0m \u001b[1m6s\u001b[0m 8ms/step - accuracy: 0.0496 - loss: 0.0195 - val_accuracy: 0.0424 - val_loss: 0.0163\n",
      "Epoch 71/100\n",
      "\u001b[1m810/811\u001b[0m \u001b[32m━━━━━━━━━━━━━━━━━━━\u001b[0m\u001b[37m━\u001b[0m \u001b[1m0s\u001b[0m 7ms/step - accuracy: 0.0489 - loss: 0.0194\n",
      "Epoch 71: val_loss did not improve from 0.01629\n",
      "\u001b[1m811/811\u001b[0m \u001b[32m━━━━━━━━━━━━━━━━━━━━\u001b[0m\u001b[37m\u001b[0m \u001b[1m6s\u001b[0m 8ms/step - accuracy: 0.0489 - loss: 0.0194 - val_accuracy: 0.0424 - val_loss: 0.0163\n",
      "Epoch 72/100\n",
      "\u001b[1m810/811\u001b[0m \u001b[32m━━━━━━━━━━━━━━━━━━━\u001b[0m\u001b[37m━\u001b[0m \u001b[1m0s\u001b[0m 7ms/step - accuracy: 0.0548 - loss: 0.0199\n",
      "Epoch 72: val_loss improved from 0.01629 to 0.01629, saving model to best_model.weights.h5\n",
      "\u001b[1m811/811\u001b[0m \u001b[32m━━━━━━━━━━━━━━━━━━━━\u001b[0m\u001b[37m\u001b[0m \u001b[1m6s\u001b[0m 8ms/step - accuracy: 0.0548 - loss: 0.0199 - val_accuracy: 0.0422 - val_loss: 0.0163\n",
      "Epoch 73/100\n",
      "\u001b[1m809/811\u001b[0m \u001b[32m━━━━━━━━━━━━━━━━━━━\u001b[0m\u001b[37m━\u001b[0m \u001b[1m0s\u001b[0m 7ms/step - accuracy: 0.0614 - loss: 0.0197\n",
      "Epoch 73: val_loss did not improve from 0.01629\n",
      "\u001b[1m811/811\u001b[0m \u001b[32m━━━━━━━━━━━━━━━━━━━━\u001b[0m\u001b[37m\u001b[0m \u001b[1m6s\u001b[0m 8ms/step - accuracy: 0.0614 - loss: 0.0197 - val_accuracy: 0.0425 - val_loss: 0.0163\n",
      "Epoch 74/100\n",
      "\u001b[1m809/811\u001b[0m \u001b[32m━━━━━━━━━━━━━━━━━━━\u001b[0m\u001b[37m━\u001b[0m \u001b[1m0s\u001b[0m 7ms/step - accuracy: 0.0512 - loss: 0.0194\n",
      "Epoch 74: val_loss did not improve from 0.01629\n",
      "\u001b[1m811/811\u001b[0m \u001b[32m━━━━━━━━━━━━━━━━━━━━\u001b[0m\u001b[37m\u001b[0m \u001b[1m6s\u001b[0m 8ms/step - accuracy: 0.0512 - loss: 0.0194 - val_accuracy: 0.0425 - val_loss: 0.0163\n",
      "Epoch 75/100\n",
      "\u001b[1m810/811\u001b[0m \u001b[32m━━━━━━━━━━━━━━━━━━━\u001b[0m\u001b[37m━\u001b[0m \u001b[1m0s\u001b[0m 7ms/step - accuracy: 0.0554 - loss: 0.0194\n",
      "Epoch 75: val_loss improved from 0.01629 to 0.01629, saving model to best_model.weights.h5\n",
      "\u001b[1m811/811\u001b[0m \u001b[32m━━━━━━━━━━━━━━━━━━━━\u001b[0m\u001b[37m\u001b[0m \u001b[1m6s\u001b[0m 8ms/step - accuracy: 0.0554 - loss: 0.0194 - val_accuracy: 0.0431 - val_loss: 0.0163\n",
      "Epoch 76/100\n",
      "\u001b[1m811/811\u001b[0m \u001b[32m━━━━━━━━━━━━━━━━━━━━\u001b[0m\u001b[37m\u001b[0m \u001b[1m0s\u001b[0m 7ms/step - accuracy: 0.0505 - loss: 0.0194\n",
      "Epoch 76: val_loss did not improve from 0.01629\n",
      "\u001b[1m811/811\u001b[0m \u001b[32m━━━━━━━━━━━━━━━━━━━━\u001b[0m\u001b[37m\u001b[0m \u001b[1m6s\u001b[0m 8ms/step - accuracy: 0.0505 - loss: 0.0194 - val_accuracy: 0.0441 - val_loss: 0.0163\n",
      "Epoch 77/100\n",
      "\u001b[1m806/811\u001b[0m \u001b[32m━━━━━━━━━━━━━━━━━━━\u001b[0m\u001b[37m━\u001b[0m \u001b[1m0s\u001b[0m 7ms/step - accuracy: 0.0570 - loss: 0.0195\n",
      "Epoch 77: val_loss improved from 0.01629 to 0.01628, saving model to best_model.weights.h5\n",
      "\u001b[1m811/811\u001b[0m \u001b[32m━━━━━━━━━━━━━━━━━━━━\u001b[0m\u001b[37m\u001b[0m \u001b[1m6s\u001b[0m 8ms/step - accuracy: 0.0570 - loss: 0.0195 - val_accuracy: 0.0439 - val_loss: 0.0163\n",
      "Epoch 78/100\n",
      "\u001b[1m809/811\u001b[0m \u001b[32m━━━━━━━━━━━━━━━━━━━\u001b[0m\u001b[37m━\u001b[0m \u001b[1m0s\u001b[0m 7ms/step - accuracy: 0.0568 - loss: 0.0192\n",
      "Epoch 78: val_loss improved from 0.01628 to 0.01628, saving model to best_model.weights.h5\n",
      "\u001b[1m811/811\u001b[0m \u001b[32m━━━━━━━━━━━━━━━━━━━━\u001b[0m\u001b[37m\u001b[0m \u001b[1m6s\u001b[0m 8ms/step - accuracy: 0.0568 - loss: 0.0192 - val_accuracy: 0.0425 - val_loss: 0.0163\n",
      "Epoch 79/100\n",
      "\u001b[1m809/811\u001b[0m \u001b[32m━━━━━━━━━━━━━━━━━━━\u001b[0m\u001b[37m━\u001b[0m \u001b[1m0s\u001b[0m 7ms/step - accuracy: 0.0487 - loss: 0.0195\n",
      "Epoch 79: val_loss did not improve from 0.01628\n",
      "\u001b[1m811/811\u001b[0m \u001b[32m━━━━━━━━━━━━━━━━━━━━\u001b[0m\u001b[37m\u001b[0m \u001b[1m6s\u001b[0m 8ms/step - accuracy: 0.0487 - loss: 0.0195 - val_accuracy: 0.0433 - val_loss: 0.0163\n",
      "Epoch 80/100\n",
      "\u001b[1m808/811\u001b[0m \u001b[32m━━━━━━━━━━━━━━━━━━━\u001b[0m\u001b[37m━\u001b[0m \u001b[1m0s\u001b[0m 7ms/step - accuracy: 0.0535 - loss: 0.0196\n",
      "Epoch 80: val_loss improved from 0.01628 to 0.01627, saving model to best_model.weights.h5\n",
      "\u001b[1m811/811\u001b[0m \u001b[32m━━━━━━━━━━━━━━━━━━━━\u001b[0m\u001b[37m\u001b[0m \u001b[1m7s\u001b[0m 8ms/step - accuracy: 0.0535 - loss: 0.0196 - val_accuracy: 0.0432 - val_loss: 0.0163\n",
      "Epoch 81/100\n",
      "\u001b[1m808/811\u001b[0m \u001b[32m━━━━━━━━━━━━━━━━━━━\u001b[0m\u001b[37m━\u001b[0m \u001b[1m0s\u001b[0m 7ms/step - accuracy: 0.0570 - loss: 0.0194\n",
      "Epoch 81: val_loss did not improve from 0.01627\n",
      "\u001b[1m811/811\u001b[0m \u001b[32m━━━━━━━━━━━━━━━━━━━━\u001b[0m\u001b[37m\u001b[0m \u001b[1m6s\u001b[0m 8ms/step - accuracy: 0.0570 - loss: 0.0194 - val_accuracy: 0.0438 - val_loss: 0.0163\n",
      "Epoch 82/100\n",
      "\u001b[1m809/811\u001b[0m \u001b[32m━━━━━━━━━━━━━━━━━━━\u001b[0m\u001b[37m━\u001b[0m \u001b[1m0s\u001b[0m 7ms/step - accuracy: 0.0537 - loss: 0.0194\n",
      "Epoch 82: val_loss did not improve from 0.01627\n",
      "\u001b[1m811/811\u001b[0m \u001b[32m━━━━━━━━━━━━━━━━━━━━\u001b[0m\u001b[37m\u001b[0m \u001b[1m6s\u001b[0m 8ms/step - accuracy: 0.0537 - loss: 0.0194 - val_accuracy: 0.0463 - val_loss: 0.0163\n",
      "Epoch 83/100\n",
      "\u001b[1m806/811\u001b[0m \u001b[32m━━━━━━━━━━━━━━━━━━━\u001b[0m\u001b[37m━\u001b[0m \u001b[1m0s\u001b[0m 7ms/step - accuracy: 0.0589 - loss: 0.0192\n",
      "Epoch 83: val_loss did not improve from 0.01627\n",
      "\u001b[1m811/811\u001b[0m \u001b[32m━━━━━━━━━━━━━━━━━━━━\u001b[0m\u001b[37m\u001b[0m \u001b[1m6s\u001b[0m 8ms/step - accuracy: 0.0589 - loss: 0.0192 - val_accuracy: 0.0444 - val_loss: 0.0163\n",
      "Epoch 84/100\n",
      "\u001b[1m805/811\u001b[0m \u001b[32m━━━━━━━━━━━━━━━━━━━\u001b[0m\u001b[37m━\u001b[0m \u001b[1m0s\u001b[0m 7ms/step - accuracy: 0.0601 - loss: 0.0195\n",
      "Epoch 84: val_loss did not improve from 0.01627\n",
      "\u001b[1m811/811\u001b[0m \u001b[32m━━━━━━━━━━━━━━━━━━━━\u001b[0m\u001b[37m\u001b[0m \u001b[1m6s\u001b[0m 8ms/step - accuracy: 0.0601 - loss: 0.0195 - val_accuracy: 0.0448 - val_loss: 0.0163\n",
      "Epoch 85/100\n",
      "\u001b[1m805/811\u001b[0m \u001b[32m━━━━━━━━━━━━━━━━━━━\u001b[0m\u001b[37m━\u001b[0m \u001b[1m0s\u001b[0m 7ms/step - accuracy: 0.0618 - loss: 0.0195\n",
      "Epoch 85: val_loss improved from 0.01627 to 0.01627, saving model to best_model.weights.h5\n",
      "\u001b[1m811/811\u001b[0m \u001b[32m━━━━━━━━━━━━━━━━━━━━\u001b[0m\u001b[37m\u001b[0m \u001b[1m6s\u001b[0m 8ms/step - accuracy: 0.0617 - loss: 0.0195 - val_accuracy: 0.0462 - val_loss: 0.0163\n",
      "Epoch 86/100\n",
      "\u001b[1m810/811\u001b[0m \u001b[32m━━━━━━━━━━━━━━━━━━━\u001b[0m\u001b[37m━\u001b[0m \u001b[1m0s\u001b[0m 7ms/step - accuracy: 0.0613 - loss: 0.0193\n",
      "Epoch 86: val_loss did not improve from 0.01627\n",
      "\u001b[1m811/811\u001b[0m \u001b[32m━━━━━━━━━━━━━━━━━━━━\u001b[0m\u001b[37m\u001b[0m \u001b[1m6s\u001b[0m 8ms/step - accuracy: 0.0613 - loss: 0.0193 - val_accuracy: 0.0461 - val_loss: 0.0163\n",
      "Epoch 87/100\n",
      "\u001b[1m809/811\u001b[0m \u001b[32m━━━━━━━━━━━━━━━━━━━\u001b[0m\u001b[37m━\u001b[0m \u001b[1m0s\u001b[0m 7ms/step - accuracy: 0.0530 - loss: 0.0193\n",
      "Epoch 87: val_loss did not improve from 0.01627\n",
      "\u001b[1m811/811\u001b[0m \u001b[32m━━━━━━━━━━━━━━━━━━━━\u001b[0m\u001b[37m\u001b[0m \u001b[1m6s\u001b[0m 8ms/step - accuracy: 0.0530 - loss: 0.0193 - val_accuracy: 0.0491 - val_loss: 0.0163\n",
      "Epoch 88/100\n",
      "\u001b[1m809/811\u001b[0m \u001b[32m━━━━━━━━━━━━━━━━━━━\u001b[0m\u001b[37m━\u001b[0m \u001b[1m0s\u001b[0m 7ms/step - accuracy: 0.0631 - loss: 0.0193\n",
      "Epoch 88: val_loss improved from 0.01627 to 0.01625, saving model to best_model.weights.h5\n",
      "\u001b[1m811/811\u001b[0m \u001b[32m━━━━━━━━━━━━━━━━━━━━\u001b[0m\u001b[37m\u001b[0m \u001b[1m6s\u001b[0m 8ms/step - accuracy: 0.0631 - loss: 0.0193 - val_accuracy: 0.0443 - val_loss: 0.0162\n",
      "Epoch 89/100\n",
      "\u001b[1m811/811\u001b[0m \u001b[32m━━━━━━━━━━━━━━━━━━━━\u001b[0m\u001b[37m\u001b[0m \u001b[1m0s\u001b[0m 7ms/step - accuracy: 0.0598 - loss: 0.0195\n",
      "Epoch 89: val_loss did not improve from 0.01625\n",
      "\u001b[1m811/811\u001b[0m \u001b[32m━━━━━━━━━━━━━━━━━━━━\u001b[0m\u001b[37m\u001b[0m \u001b[1m6s\u001b[0m 8ms/step - accuracy: 0.0598 - loss: 0.0195 - val_accuracy: 0.0456 - val_loss: 0.0163\n",
      "Epoch 90/100\n",
      "\u001b[1m808/811\u001b[0m \u001b[32m━━━━━━━━━━━━━━━━━━━\u001b[0m\u001b[37m━\u001b[0m \u001b[1m0s\u001b[0m 7ms/step - accuracy: 0.0543 - loss: 0.0199\n",
      "Epoch 90: val_loss did not improve from 0.01625\n",
      "\u001b[1m811/811\u001b[0m \u001b[32m━━━━━━━━━━━━━━━━━━━━\u001b[0m\u001b[37m\u001b[0m \u001b[1m6s\u001b[0m 8ms/step - accuracy: 0.0543 - loss: 0.0199 - val_accuracy: 0.0451 - val_loss: 0.0163\n",
      "Epoch 91/100\n",
      "\u001b[1m811/811\u001b[0m \u001b[32m━━━━━━━━━━━━━━━━━━━━\u001b[0m\u001b[37m\u001b[0m \u001b[1m0s\u001b[0m 7ms/step - accuracy: 0.0649 - loss: 0.0197\n",
      "Epoch 91: val_loss did not improve from 0.01625\n",
      "\u001b[1m811/811\u001b[0m \u001b[32m━━━━━━━━━━━━━━━━━━━━\u001b[0m\u001b[37m\u001b[0m \u001b[1m6s\u001b[0m 8ms/step - accuracy: 0.0649 - loss: 0.0197 - val_accuracy: 0.0461 - val_loss: 0.0162\n",
      "Epoch 92/100\n",
      "\u001b[1m809/811\u001b[0m \u001b[32m━━━━━━━━━━━━━━━━━━━\u001b[0m\u001b[37m━\u001b[0m \u001b[1m0s\u001b[0m 7ms/step - accuracy: 0.0605 - loss: 0.0195\n",
      "Epoch 92: val_loss did not improve from 0.01625\n",
      "\u001b[1m811/811\u001b[0m \u001b[32m━━━━━━━━━━━━━━━━━━━━\u001b[0m\u001b[37m\u001b[0m \u001b[1m6s\u001b[0m 8ms/step - accuracy: 0.0605 - loss: 0.0195 - val_accuracy: 0.0462 - val_loss: 0.0163\n",
      "Epoch 93/100\n",
      "\u001b[1m807/811\u001b[0m \u001b[32m━━━━━━━━━━━━━━━━━━━\u001b[0m\u001b[37m━\u001b[0m \u001b[1m0s\u001b[0m 7ms/step - accuracy: 0.0550 - loss: 0.0199\n",
      "Epoch 93: val_loss improved from 0.01625 to 0.01624, saving model to best_model.weights.h5\n",
      "\u001b[1m811/811\u001b[0m \u001b[32m━━━━━━━━━━━━━━━━━━━━\u001b[0m\u001b[37m\u001b[0m \u001b[1m6s\u001b[0m 8ms/step - accuracy: 0.0550 - loss: 0.0199 - val_accuracy: 0.0501 - val_loss: 0.0162\n",
      "Epoch 94/100\n",
      "\u001b[1m805/811\u001b[0m \u001b[32m━━━━━━━━━━━━━━━━━━━\u001b[0m\u001b[37m━\u001b[0m \u001b[1m0s\u001b[0m 7ms/step - accuracy: 0.0727 - loss: 0.0193\n",
      "Epoch 94: val_loss did not improve from 0.01624\n",
      "\u001b[1m811/811\u001b[0m \u001b[32m━━━━━━━━━━━━━━━━━━━━\u001b[0m\u001b[37m\u001b[0m \u001b[1m6s\u001b[0m 8ms/step - accuracy: 0.0727 - loss: 0.0193 - val_accuracy: 0.0480 - val_loss: 0.0162\n",
      "Epoch 95/100\n",
      "\u001b[1m805/811\u001b[0m \u001b[32m━━━━━━━━━━━━━━━━━━━\u001b[0m\u001b[37m━\u001b[0m \u001b[1m0s\u001b[0m 7ms/step - accuracy: 0.0558 - loss: 0.0189\n",
      "Epoch 95: val_loss improved from 0.01624 to 0.01624, saving model to best_model.weights.h5\n",
      "\u001b[1m811/811\u001b[0m \u001b[32m━━━━━━━━━━━━━━━━━━━━\u001b[0m\u001b[37m\u001b[0m \u001b[1m6s\u001b[0m 8ms/step - accuracy: 0.0558 - loss: 0.0189 - val_accuracy: 0.0470 - val_loss: 0.0162\n",
      "Epoch 96/100\n",
      "\u001b[1m806/811\u001b[0m \u001b[32m━━━━━━━━━━━━━━━━━━━\u001b[0m\u001b[37m━\u001b[0m \u001b[1m0s\u001b[0m 7ms/step - accuracy: 0.0606 - loss: 0.0194\n",
      "Epoch 96: val_loss did not improve from 0.01624\n",
      "\u001b[1m811/811\u001b[0m \u001b[32m━━━━━━━━━━━━━━━━━━━━\u001b[0m\u001b[37m\u001b[0m \u001b[1m6s\u001b[0m 8ms/step - accuracy: 0.0606 - loss: 0.0194 - val_accuracy: 0.0457 - val_loss: 0.0163\n",
      "Epoch 97/100\n",
      "\u001b[1m806/811\u001b[0m \u001b[32m━━━━━━━━━━━━━━━━━━━\u001b[0m\u001b[37m━\u001b[0m \u001b[1m0s\u001b[0m 7ms/step - accuracy: 0.0636 - loss: 0.0193\n",
      "Epoch 97: val_loss improved from 0.01624 to 0.01623, saving model to best_model.weights.h5\n",
      "\u001b[1m811/811\u001b[0m \u001b[32m━━━━━━━━━━━━━━━━━━━━\u001b[0m\u001b[37m\u001b[0m \u001b[1m6s\u001b[0m 8ms/step - accuracy: 0.0636 - loss: 0.0193 - val_accuracy: 0.0458 - val_loss: 0.0162\n",
      "Epoch 98/100\n",
      "\u001b[1m806/811\u001b[0m \u001b[32m━━━━━━━━━━━━━━━━━━━\u001b[0m\u001b[37m━\u001b[0m \u001b[1m0s\u001b[0m 7ms/step - accuracy: 0.0578 - loss: 0.0192\n",
      "Epoch 98: val_loss did not improve from 0.01623\n",
      "\u001b[1m811/811\u001b[0m \u001b[32m━━━━━━━━━━━━━━━━━━━━\u001b[0m\u001b[37m\u001b[0m \u001b[1m6s\u001b[0m 8ms/step - accuracy: 0.0578 - loss: 0.0192 - val_accuracy: 0.0451 - val_loss: 0.0163\n",
      "Epoch 99/100\n",
      "\u001b[1m810/811\u001b[0m \u001b[32m━━━━━━━━━━━━━━━━━━━\u001b[0m\u001b[37m━\u001b[0m \u001b[1m0s\u001b[0m 7ms/step - accuracy: 0.0539 - loss: 0.0194\n",
      "Epoch 99: val_loss improved from 0.01623 to 0.01622, saving model to best_model.weights.h5\n",
      "\u001b[1m811/811\u001b[0m \u001b[32m━━━━━━━━━━━━━━━━━━━━\u001b[0m\u001b[37m\u001b[0m \u001b[1m6s\u001b[0m 8ms/step - accuracy: 0.0539 - loss: 0.0194 - val_accuracy: 0.0492 - val_loss: 0.0162\n",
      "Epoch 100/100\n",
      "\u001b[1m809/811\u001b[0m \u001b[32m━━━━━━━━━━━━━━━━━━━\u001b[0m\u001b[37m━\u001b[0m \u001b[1m0s\u001b[0m 7ms/step - accuracy: 0.0670 - loss: 0.0195\n",
      "Epoch 100: val_loss improved from 0.01622 to 0.01621, saving model to best_model.weights.h5\n",
      "\u001b[1m811/811\u001b[0m \u001b[32m━━━━━━━━━━━━━━━━━━━━\u001b[0m\u001b[37m\u001b[0m \u001b[1m6s\u001b[0m 8ms/step - accuracy: 0.0670 - loss: 0.0195 - val_accuracy: 0.0480 - val_loss: 0.0162\n"
     ]
    }
   ],
   "source": [
    "history = model.fit(\n",
    "    X_train, Y_train,\n",
    "    class_weight=class_weight,\n",
    "    epochs=100,\n",
    "    batch_size=64,\n",
    "    validation_data=(X_cv, Y_cv),\n",
    "    callbacks=[checkpoint]  # You can add ModelCheckpoint or EarlyStopping if needed\n",
    ")"
   ]
  },
  {
   "cell_type": "code",
   "execution_count": 24,
   "id": "2f52c60c",
   "metadata": {
    "execution": {
     "iopub.execute_input": "2025-04-17T20:31:09.007906Z",
     "iopub.status.busy": "2025-04-17T20:31:09.007621Z",
     "iopub.status.idle": "2025-04-17T20:31:09.134859Z",
     "shell.execute_reply": "2025-04-17T20:31:09.134194Z"
    },
    "papermill": {
     "duration": 0.648882,
     "end_time": "2025-04-17T20:31:09.136044",
     "exception": false,
     "start_time": "2025-04-17T20:31:08.487162",
     "status": "completed"
    },
    "tags": []
   },
   "outputs": [
    {
     "data": {
      "text/plain": [
       "[<matplotlib.lines.Line2D at 0x7bdbff5034d0>]"
      ]
     },
     "execution_count": 24,
     "metadata": {},
     "output_type": "execute_result"
    },
    {
     "data": {
      "image/png": "[encoded data removed]",
      "text/plain": [
       "<Figure size 640x480 with 1 Axes>"
      ]
     },
     "metadata": {},
     "output_type": "display_data"
    }
   ],
   "source": [
    "plt.plot(history.history['val_accuracy'])"
   ]
  },
  {
   "cell_type": "code",
   "execution_count": 25,
   "id": "c2ac0434",
   "metadata": {
    "execution": {
     "iopub.execute_input": "2025-04-17T20:31:10.057348Z",
     "iopub.status.busy": "2025-04-17T20:31:10.057073Z",
     "iopub.status.idle": "2025-04-17T20:31:16.657328Z",
     "shell.execute_reply": "2025-04-17T20:31:16.656675Z"
    },
    "papermill": {
     "duration": 7.074759,
     "end_time": "2025-04-17T20:31:16.658490",
     "exception": false,
     "start_time": "2025-04-17T20:31:09.583731",
     "status": "completed"
    },
    "tags": []
   },
   "outputs": [
    {
     "name": "stdout",
     "output_type": "stream",
     "text": [
      "\u001b[1m1621/1621\u001b[0m \u001b[32m━━━━━━━━━━━━━━━━━━━━\u001b[0m\u001b[37m\u001b[0m \u001b[1m4s\u001b[0m 2ms/step\n",
      "Training Data:\n",
      "Accuracy is  0.5192856591838308\n",
      "Precision is  0.0\n",
      "Recall is  0.0\n"
     ]
    },
    {
     "name": "stderr",
     "output_type": "stream",
     "text": [
      "/usr/local/lib/python3.11/dist-packages/sklearn/metrics/_classification.py:1344: UndefinedMetricWarning: Precision is ill-defined and being set to 0.0 in labels with no predicted samples. Use `zero_division` parameter to control this behavior.\n",
      "  _warn_prf(average, modifier, msg_start, len(result))\n"
     ]
    },
    {
     "name": "stdout",
     "output_type": "stream",
     "text": [
      "F1 Score is  0.0\n",
      "\u001b[1m541/541\u001b[0m \u001b[32m━━━━━━━━━━━━━━━━━━━━\u001b[0m\u001b[37m\u001b[0m \u001b[1m1s\u001b[0m 2ms/step\n",
      "Validation Data:\n",
      "Accuracy is  0.5150428141633882\n",
      "Precision is  0.0\n",
      "Recall is  0.0\n",
      "F1 Score is  0.0\n"
     ]
    },
    {
     "name": "stderr",
     "output_type": "stream",
     "text": [
      "/usr/local/lib/python3.11/dist-packages/sklearn/metrics/_classification.py:1344: UndefinedMetricWarning: Precision is ill-defined and being set to 0.0 in labels with no predicted samples. Use `zero_division` parameter to control this behavior.\n",
      "  _warn_prf(average, modifier, msg_start, len(result))\n"
     ]
    }
   ],
   "source": [
    "pred_train=model.predict(X_train)\n",
    "pred_train_bin= (pred_train > 0.5).astype(int)\n",
    "print(\"Training Data:\")\n",
    "\n",
    "print(\"Accuracy is \",accuracy_score(Y_train,pred_train_bin))\n",
    "print(\"Precision is \",precision_score(Y_train,pred_train_bin,average='macro'))\n",
    "print(\"Recall is \",recall_score(Y_train,pred_train_bin,average='macro'))\n",
    "print(\"F1 Score is \",f1_score(Y_train,pred_train_bin,average='macro'))\n",
    "\n",
    "pred_val=model.predict(X_cv)\n",
    "pred_val_bin= (pred_val > 0.5).astype(int)\n",
    "print(\"Validation Data:\")\n",
    "\n",
    "print(\"Accuracy is \",accuracy_score(Y_cv,pred_val_bin))\n",
    "print(\"Precision is \",precision_score(Y_cv,pred_val_bin,average='macro'))\n",
    "print(\"Recall is \",recall_score(Y_cv,pred_val_bin,average='macro'))\n",
    "print(\"F1 Score is \",f1_score(Y_cv,pred_val_bin,average='macro'))\n"
   ]
  },
  {
   "cell_type": "code",
   "execution_count": 26,
   "id": "93084560",
   "metadata": {
    "execution": {
     "iopub.execute_input": "2025-04-17T20:31:17.616275Z",
     "iopub.status.busy": "2025-04-17T20:31:17.616001Z",
     "iopub.status.idle": "2025-04-17T20:31:24.166996Z",
     "shell.execute_reply": "2025-04-17T20:31:24.166313Z"
    },
    "papermill": {
     "duration": 7.067369,
     "end_time": "2025-04-17T20:31:24.168013",
     "exception": false,
     "start_time": "2025-04-17T20:31:17.100644",
     "status": "completed"
    },
    "tags": []
   },
   "outputs": [
    {
     "name": "stderr",
     "output_type": "stream",
     "text": [
      "/usr/local/lib/python3.11/dist-packages/keras/src/saving/saving_lib.py:713: UserWarning: Skipping variable loading for optimizer 'adam', because it has 2 variables whereas the saved optimizer has 22 variables. \n",
      "  saveable.load_own_variables(weights_store.get(inner_path))\n"
     ]
    },
    {
     "name": "stdout",
     "output_type": "stream",
     "text": [
      "\u001b[1m541/541\u001b[0m \u001b[32m━━━━━━━━━━━━━━━━━━━━\u001b[0m\u001b[37m\u001b[0m \u001b[1m2s\u001b[0m 3ms/step\n",
      "\u001b[1m1621/1621\u001b[0m \u001b[32m━━━━━━━━━━━━━━━━━━━━\u001b[0m\u001b[37m\u001b[0m \u001b[1m3s\u001b[0m 2ms/step\n",
      "Training Data:\n",
      "Accuracy is  0.5192856591838308\n",
      "Precision is  0.0\n",
      "Recall is  0.0\n"
     ]
    },
    {
     "name": "stderr",
     "output_type": "stream",
     "text": [
      "/usr/local/lib/python3.11/dist-packages/sklearn/metrics/_classification.py:1344: UndefinedMetricWarning: Precision is ill-defined and being set to 0.0 in labels with no predicted samples. Use `zero_division` parameter to control this behavior.\n",
      "  _warn_prf(average, modifier, msg_start, len(result))\n",
      "/usr/local/lib/python3.11/dist-packages/sklearn/metrics/_classification.py:1344: UndefinedMetricWarning: Precision is ill-defined and being set to 0.0 in labels with no predicted samples. Use `zero_division` parameter to control this behavior.\n",
      "  _warn_prf(average, modifier, msg_start, len(result))\n"
     ]
    },
    {
     "name": "stdout",
     "output_type": "stream",
     "text": [
      "F1 Score is  0.0\n",
      "Validation Data:\n",
      "Accuracy is  0.5150428141633882\n",
      "Precision is  0.0\n",
      "Recall is  0.0\n",
      "F1 Score is  0.0\n"
     ]
    }
   ],
   "source": [
    "\n",
    "model_best = clone_model(model)\n",
    "\n",
    "# Important: you need to compile it again\n",
    "model_best.compile(optimizer='adam', loss='binary_crossentropy', metrics=['accuracy'])\n",
    "# Load the best saved weights\n",
    "model_best.load_weights('best_model.weights.h5')\n",
    "pred_val=model_best.predict(X_cv)\n",
    "pred_val_bin= (pred_val > 0.5).astype(int)\n",
    "pred_train=model_best.predict(X_train)\n",
    "pred_train_bin= (pred_train> 0.5).astype(int)\n",
    "print(\"Training Data:\")\n",
    "\n",
    "print(\"Accuracy is \",accuracy_score(Y_train,pred_train_bin))\n",
    "print(\"Precision is \",precision_score(Y_train,pred_train_bin,average='macro'))\n",
    "print(\"Recall is \",recall_score(Y_train,pred_train_bin,average='macro'))\n",
    "print(\"F1 Score is \",f1_score(Y_train,pred_train_bin,average='macro'))\n",
    "\n",
    "print(\"Validation Data:\")\n",
    "\n",
    "print(\"Accuracy is \",accuracy_score(Y_cv,pred_val_bin))\n",
    "print(\"Precision is \",precision_score(Y_cv,pred_val_bin,average='macro'))\n",
    "print(\"Recall is \",recall_score(Y_cv,pred_val_bin,average='macro'))\n",
    "print(\"F1 Score is \",f1_score(Y_cv,pred_val_bin,average='macro'))\n"
   ]
  },
  {
   "cell_type": "code",
   "execution_count": 27,
   "id": "b66c512c",
   "metadata": {
    "execution": {
     "iopub.execute_input": "2025-04-17T20:31:25.040120Z",
     "iopub.status.busy": "2025-04-17T20:31:25.039834Z",
     "iopub.status.idle": "2025-04-17T20:31:25.044862Z",
     "shell.execute_reply": "2025-04-17T20:31:25.044141Z"
    },
    "papermill": {
     "duration": 0.438128,
     "end_time": "2025-04-17T20:31:25.045952",
     "exception": false,
     "start_time": "2025-04-17T20:31:24.607824",
     "status": "completed"
    },
    "tags": []
   },
   "outputs": [
    {
     "data": {
      "text/plain": [
       "array([[0, 0, 0, ..., 0, 0, 0],\n",
       "       [0, 0, 0, ..., 0, 0, 0],\n",
       "       [0, 0, 0, ..., 0, 0, 0],\n",
       "       ...,\n",
       "       [0, 0, 0, ..., 0, 0, 0],\n",
       "       [0, 0, 0, ..., 0, 0, 0],\n",
       "       [0, 0, 0, ..., 0, 0, 0]])"
      ]
     },
     "execution_count": 27,
     "metadata": {},
     "output_type": "execute_result"
    }
   ],
   "source": [
    "pred_val_bin"
   ]
  },
  {
   "cell_type": "code",
   "execution_count": null,
   "id": "58ea7cf1",
   "metadata": {
    "papermill": {
     "duration": 0.433358,
     "end_time": "2025-04-17T20:31:25.964501",
     "exception": false,
     "start_time": "2025-04-17T20:31:25.531143",
     "status": "completed"
    },
    "tags": []
   },
   "outputs": [],
   "source": []
  }
 ],
 "metadata": {
  "kaggle": {
   "accelerator": "nvidiaTeslaT4",
   "dataSources": [
    {
     "datasetId": 7141798,
     "sourceId": 11402349,
     "sourceType": "datasetVersion"
    },
    {
     "datasetId": 7154869,
     "sourceId": 11424360,
     "sourceType": "datasetVersion"
    }
   ],
   "dockerImageVersionId": 31011,
   "isGpuEnabled": true,
   "isInternetEnabled": true,
   "language": "python",
   "sourceType": "notebook"
  },
  "kernelspec": {
   "display_name": "Python 3",
   "language": "python",
   "name": "python3"
  },
  "language_info": {
   "codemirror_mode": {
    "name": "ipython",
    "version": 3
   },
   "file_extension": ".py",
   "mimetype": "text/x-python",
   "name": "python",
   "nbconvert_exporter": "python",
   "pygments_lexer": "ipython3",
   "version": "3.11.11"
  },
  "papermill": {
   "default_parameters": {},
   "duration": 685.792868,
   "end_time": "2025-04-17T20:31:29.205807",
   "environment_variables": {},
   "exception": null,
   "input_path": "__notebook__.ipynb",
   "output_path": "__notebook__.ipynb",
   "parameters": {},
   "start_time": "2025-04-17T20:20:03.412939",
   "version": "2.6.0"
  }
 },
 "nbformat": 4,
 "nbformat_minor": 5
}
